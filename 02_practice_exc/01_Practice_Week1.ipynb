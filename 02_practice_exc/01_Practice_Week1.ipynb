{
 "cells": [
  {
   "cell_type": "code",
   "execution_count": null,
   "metadata": {},
   "outputs": [],
   "source": [
    "print(\"Alice\", \"Greg\", sep = \"|\", end = \"****\")"
   ]
  },
  {
   "cell_type": "code",
   "execution_count": null,
   "metadata": {},
   "outputs": [],
   "source": [
    "no_list = [1,2,3,4,5]\n",
    "for i in no_list:\n",
    "    print(f\"The cube of the {i} is: {i**3}\")"
   ]
  },
  {
   "cell_type": "code",
   "execution_count": null,
   "metadata": {},
   "outputs": [],
   "source": [
    "car_list = [['VW', 'Mercedes', 'BMW'], ['Honda', 'Toyato', 'Mazda']]\n",
    "new_list = []\n",
    "for car in car_list:\n",
    "    new_list.append(\", \".join(car))\n",
    "\n",
    "print (new_list)"
   ]
  },
  {
   "cell_type": "code",
   "execution_count": null,
   "metadata": {},
   "outputs": [],
   "source": [
    "#Solution 1\n",
    "# years = range(2000, 2100)\n",
    "# for year in years:\n",
    "#     if year % 4 == 0:\n",
    "#         print (year)\n",
    "\n",
    "#Solution 2\n",
    "\n",
    "\n",
    "\n",
    "# Solution 3\n",
    "\n",
    "for year in range(2000, 2100,4):\n",
    "        print(year)\n"
   ]
  },
  {
   "cell_type": "markdown",
   "metadata": {},
   "source": [
    "# 🚀 Python Day 04 Exercises: Loops, Lists, and Conditionals\n",
    "\n",
    "These exercises are designed to help you practice using loops, lists, and conditionals in Python. Each exercise includes a difficulty rating, instructions, minimal setup code, and expected output.\n",
    "\n",
    "<details>\n",
    "<summary>📋 Exercise 1: Countdown to Launch! (Difficulty: ⭐)</summary>\n",
    "\n",
    "**Task**: Create a countdown loop that prints the countdown from 10 to 1, and then prints \"Blastoff! 🚀\"\n",
    "\n",
    "**Setup Code**:\n",
    "```python\n",
    "# Write a countdown loop from 10 to 1, then print \"Blastoff! 🚀\"\n",
    "```\n",
    "\n",
    "**Expected Output**:\n",
    "```\n",
    "10\n",
    "9\n",
    "8\n",
    "7\n",
    "6\n",
    "5\n",
    "4\n",
    "3\n",
    "2\n",
    "1\n",
    "Blastoff! 🚀\n",
    "```"
   ]
  },
  {
   "cell_type": "code",
   "execution_count": null,
   "metadata": {},
   "outputs": [],
   "source": [
    "#Exercise 1: Countdown to Launch! (Difficulty: ⭐)\n",
    "\n",
    "# Solution 1: best (concise)\n",
    "for i in range(10,0,-1):\n",
    "    print(i)\n",
    "print (\"Blastoff! 🚀\")\n",
    "\n",
    "#Solution 2:\n",
    "x = range(11)\n",
    "\n",
    "for i in reversed(x):\n",
    "    print(i)\n",
    "print(\"Blastoff! 🚀\")"
   ]
  },
  {
   "cell_type": "markdown",
   "metadata": {},
   "source": [
    "<summary>📋 Exercise 2: Temperature Converter (Difficulty: ⭐⭐)</summary>\n",
    "\n",
    "**Task**: Write a program that converts temperatures from Celsius to Fahrenheit for a range of values.\n",
    "\n",
    "**Setup Code**:\n",
    "```python\n",
    "# Convert these Celsius temperatures to Fahrenheit\n",
    "celsius_temps = [0, 10, 20, 30, 40]\n",
    "\n",
    "# Formula: F = (C × 9/5) + 32\n",
    "```\n",
    "\n",
    "**Expected Output**:\n",
    "```\n",
    "0°C = 32.0°F\n",
    "10°C = 50.0°F\n",
    "20°C = 68.0°F\n",
    "30°C = 86.0°F\n",
    "40°C = 104.0°F\n",
    "```\n",
    "\n",
    "**Hint**: Loop through the list of Celsius temperatures and apply the conversion formula.\n",
    "</details"
   ]
  },
  {
   "cell_type": "code",
   "execution_count": 8,
   "metadata": {},
   "outputs": [
    {
     "name": "stdout",
     "output_type": "stream",
     "text": [
      "0° = 32.0°F\n",
      "10° = 50.0°F\n",
      "20° = 68.0°F\n",
      "30° = 86.0°F\n",
      "40° = 104.0°F\n"
     ]
    }
   ],
   "source": [
    "# Exercise 2: Temperature Converter (Difficulty: ⭐⭐)\n",
    "\n",
    "celsius_temps = [0, 10, 20, 30, 40]\n",
    "for c in celsius_temps:\n",
    "    formula = (int(c) * 9 / 5) + 32\n",
    "    print(f\"{c}° = {formula}°F\")"
   ]
  },
  {
   "cell_type": "markdown",
   "metadata": {},
   "source": [
    "<details>\n",
    "<summary>📋 Exercise 3: Shopping Cart Total (Difficulty: ⭐⭐)</summary>\n",
    "\n",
    "**Task**: Calculate the total cost of items in a shopping cart, applying a discount if the total exceeds R10,000.\n",
    "\n",
    "**Setup Code**:\n",
    "```python\n",
    "# Calculate the total cost with a 15% discount if total exceeds R10,000\n",
    "cart_items = [1200, 4500, 3200, 2800, 950]\n",
    "discount_rate = 0.15  # 15% discount\n",
    "```\n",
    "\n",
    "**Expected Output**:\n",
    "```\n",
    "Items in cart: 5\n",
    "Original total: R12650\n",
    "Discount applied: R1897.5\n",
    "Final total: R10752.5\n",
    "```\n",
    "\n",
    "**Hint**: Use a loop to calculate the sum, then apply the conditional discount.\n",
    "</details>\n"
   ]
  },
  {
   "cell_type": "code",
   "execution_count": null,
   "metadata": {},
   "outputs": [],
   "source": [
    "cart_items = [1200, 4500, 3200, 2800, 950]\n",
    "\n",
    "\n",
    "for item in cart_items[:]:\n",
    "    total = sum(cart_items[:])\n",
    "    if total > 10000:\n",
    "        discount = 12650 * 0.15\n",
    "    final_total = total - discount\n",
    "\n",
    "print(f\"\"\"Items in cart:{len(cart_items)}\n",
    "Original total:R{total}\n",
    "Discount applied:R{discount}\n",
    "Final total:R{final_total}\"\"\")\n"
   ]
  },
  {
   "cell_type": "code",
   "execution_count": null,
   "metadata": {},
   "outputs": [],
   "source": [
    "cart_items = [1200, 4500, 3200, 2800, 950]\n",
    "\n",
    "def calc_total():\n",
    "    #for item in cart_items[:]:\n",
    "        total = sum(cart_items[:])\n",
    "        if total > 10000:\n",
    "            discount = 12650 * 0.15\n",
    "        final_total = total - discount\n",
    "        print(f\"\"\"Items in cart:{len(cart_items)}\n",
    "Original total:R{total}\n",
    "Discount applied:R{discount}\n",
    "Final total:R{final_total}\"\"\")\n",
    "\n",
    "calc_total()\n"
   ]
  },
  {
   "cell_type": "markdown",
   "metadata": {},
   "source": [
    "details>\n",
    "<summary>Exercise 14: Dictionary Transformation (⭐⭐⭐⭐)</summary>\n",
    "\n",
    "### Task\n",
    "Write a function that transforms a list of student records into a dictionary keyed by student ID, with values containing all their course scores.\n",
    "\n",
    "```python\n",
    "records = [\n",
    "    {\"student_id\": \"S001\", \"course\": \"Python\", \"score\": 85},\n",
    "    {\"student_id\": \"S002\", \"course\": \"Java\", \"score\": 92},\n",
    "    {\"student_id\": \"S001\", \"course\": \"SQL\", \"score\": 78},\n",
    "    {\"student_id\": \"S003\", \"course\": \"Python\", \"score\": 88},\n",
    "    {\"student_id\": \"S002\", \"course\": \"Python\", \"score\": 90},\n",
    "    {\"student_id\": \"S001\", \"course\": \"Java\", \"score\": 65},\n",
    "]\n",
    "\n",
    "def transform_records(records_list):\n",
    "    # Transform the records into a dictionary by student_id\n",
    "    # with nested dictionaries of courses and scores\n",
    "    pass\n",
    "\n",
    "# Test your function\n",
    "student_records = transform_records(records)\n",
    "for student_id, courses in student_records.items():\n",
    "    print(f\"Student {student_id}: {courses}\")\n",
    "```\n",
    "\n",
    "### Expected Output\n",
    "```\n",
    "Student S001: {'Python': 85, 'SQL': 78, 'Java': 65}\n",
    "Student S002: {'Java': 92, 'Python': 90}\n",
    "Student S003: {'Python': 88}\n",
    "```"
   ]
  },
  {
   "cell_type": "code",
   "execution_count": null,
   "metadata": {},
   "outputs": [],
   "source": [
    "records = [\n",
    "    {\"student_id\": \"S001\", \"course\": \"Python\", \"score\": 85},\n",
    "    {\"student_id\": \"S002\", \"course\": \"Java\", \"score\": 92},\n",
    "    {\"student_id\": \"S001\", \"course\": \"SQL\", \"score\": 78},\n",
    "    {\"student_id\": \"S003\", \"course\": \"Python\", \"score\": 88},\n",
    "    {\"student_id\": \"S002\", \"course\": \"Python\", \"score\": 90},\n",
    "    {\"student_id\": \"S001\", \"course\": \"Java\", \"score\": 65},\n",
    "]\n",
    "\n",
    "\n",
    "def transform_records(records_list):\n",
    "    student_dict = {}\n",
    "    for record in records_list:\n",
    "        student_dict[record[\"student_id\"]] = {**student_dict.get(record[\"student_id\"], {}),      record['course']: record['score']  }\n",
    "    print(student_dict)\n",
    "\n",
    "transform_records(records)\n",
    "\n",
    "# x = {\"b\": 1, \"c\": 4}\n",
    "# x[\"b\"] = x['b'] + 3\n",
    "# x['b'] =  x['b']  + 5\n"
   ]
  },
  {
   "cell_type": "code",
   "execution_count": null,
   "metadata": {},
   "outputs": [],
   "source": [
    "records = [\n",
    "    {\"student_id\": \"S001\", \"course\": \"Python\", \"score\": 85},\n",
    "    {\"student_id\": \"S002\", \"course\": \"Java\", \"score\": 92},\n",
    "    {\"student_id\": \"S001\", \"course\": \"SQL\", \"score\": 78},\n",
    "    {\"student_id\": \"S003\", \"course\": \"Python\", \"score\": 88},\n",
    "    {\"student_id\": \"S002\", \"course\": \"Python\", \"score\": 90},\n",
    "    {\"student_id\": \"S001\", \"course\": \"Java\", \"score\": 65},\n",
    "]\n",
    "def transform_records(records_list):\n",
    "    student_dict = {}\n",
    "    for record in records:\n",
    "        student_id = record[\"student_id\"]\n",
    "        course = record['course']\n",
    "        score = record['score']\n",
    "        if student_id not in student_dict:\n",
    "          student_dict['student_id']\n"
   ]
  },
  {
   "cell_type": "markdown",
   "metadata": {},
   "source": [
    "## 5. Temperature Converter (Difficulty: 2)\n",
    "<details>\n",
    "<summary>Topics</summary>\n",
    "\n",
    "- Mathematical formulas\n",
    "- Conditional logic\n",
    "- Formatted output\n",
    "</details>\n",
    "\n",
    "Convert between Celsius and Fahrenheit.\n",
    "\n",
    "```python\n",
    "temp = float(input(\"Enter temperature: \"))\n",
    "unit = input(\"Convert from (C/F): \").upper()\n",
    "# Convert temperature based on unit\n",
    "```\n",
    "\n",
    "**Expected Output:**\n",
    "```\n",
    "Case 1:\n",
    "Enter temperature: 30\n",
    "Convert from (C/F): C\n",
    "30.0°C = 86.0°F\n",
    "\n",
    "Case 2:\n",
    "Enter temperature: 32\n",
    "Convert from (C/F): F\n",
    "32.0°F = 0.0°C"
   ]
  },
  {
   "cell_type": "code",
   "execution_count": null,
   "metadata": {},
   "outputs": [
    {
     "name": "stdout",
     "output_type": "stream",
     "text": [
      "32.0°F = 0.0°C\n"
     ]
    }
   ],
   "source": [
    "# 5. Temperature Converter (Difficulty: 2)\n",
    "# Convert temperature based on unit\n",
    "\n",
    "temp = float(input(\"Enter temperature: \"))\n",
    "unit = input(\"Convert from (C/F): \").upper()\n",
    "if unit == \"C\":\n",
    "    formula1 = (temp * 9 / 5) + 32 # Fahrenheit\n",
    "    print(f\"{temp}°C = {formula1}°F\")\n",
    "else:\n",
    "    formula2 = (int(temp) - 32) * 5/9 # Celsius\n",
    "    print(f\"{temp}°F = {formula2}°C\")"
   ]
  },
  {
   "cell_type": "markdown",
   "metadata": {},
   "source": [
    "## 6. BMI Calculator (Difficulty: 2)\n",
    "<details>\n",
    "<summary>Topics</summary>\n",
    "\n",
    "- Mathematical formulas\n",
    "- Conditional categorization\n",
    "- Floating-point arithmetic\n",
    "</details>\n",
    "\n",
    "Calculate Body Mass Index from height and weight.\n",
    "\n",
    "```python\n",
    "weight = float(input(\"Enter weight (kg): \"))\n",
    "height = float(input(\"Enter height (m): \"))\n",
    "# Calculate BMI and determine category\n",
    "```\n",
    "\n",
    "**Expected Output:**\n",
    "```\n",
    "Case 1:\n",
    "Enter weight (kg): 70\n",
    "Enter height (m): 1.75\n",
    "Your BMI: 22.86 (Normal weight)\n",
    "\n",
    "Case 2:\n",
    "Enter weight (kg): 90\n",
    "Enter height (m): 1.70\n",
    "Your BMI: 31.14 (Obese)\n",
    "```\n",
    "\n",
    "**Hint:** Categorize BMI as Underweight (<18.5), Normal (18.5-24.9), Overweight (25-29.9), or Obese (≥30).\n",
    "\n",
    "---"
   ]
  },
  {
   "cell_type": "code",
   "execution_count": null,
   "metadata": {},
   "outputs": [
    {
     "data": {
      "text/plain": [
       "'Your BMI: 17.3(Underweight)'"
      ]
     },
     "execution_count": 21,
     "metadata": {},
     "output_type": "execute_result"
    }
   ],
   "source": [
    "# 6. BMI Calculator (Difficulty: 2)\n",
    "# Calculate Body Mass Index from height and weight.\n",
    "# Calculate BMI and determine category\n",
    "\n",
    "\n",
    "def calculate_bmi():\n",
    "    weight = float(input(\"Enter weight (kg): \"))\n",
    "    height = float(input(\"Enter height (m): \"))\n",
    "    bmi = round(weight / (height**2), 2)\n",
    "    if bmi < 18.75:\n",
    "        return (f\"Your BMI: {bmi:}(Underweight)\")\n",
    "    if 18.5 > bmi < 24.9:\n",
    "        return f\"Your BMI: {bmi:}(Normal)\"\n",
    "    if 25 > bmi < 29.9:\n",
    "        return f\"Your BMI: {bmi:}(Overweight)\"\n",
    "    if bmi >= 30:\n",
    "        return f\"Your BMI: {bmi:}(Obese)\"\n",
    "\n",
    "calculate_bmi()"
   ]
  },
  {
   "cell_type": "markdown",
   "metadata": {},
   "source": [
    "## 7. Coin Toss Simulator (Difficulty: 2)\n",
    "<details>\n",
    "<summary>Topics</summary>\n",
    "\n",
    "- Random number generation\n",
    "- Conditional statements\n",
    "- Emoji output\n",
    "</details>\n",
    "\n",
    "Simulate a coin toss with emoji results.\n",
    "\n",
    "```python\n",
    "import random\n",
    "# Generate random result and display heads or tails\n",
    "```\n",
    "\n",
    "**Expected Output:**\n",
    "```\n",
    "Flipping a coin...\n",
    "Result: 🪙 Heads!\n",
    "```"
   ]
  },
  {
   "cell_type": "code",
   "execution_count": 78,
   "metadata": {},
   "outputs": [
    {
     "name": "stdout",
     "output_type": "stream",
     "text": [
      "Flipping a coin ....\n",
      " Result: tails\n"
     ]
    }
   ],
   "source": [
    "# 7. Coin Toss Simulator (Difficulty: 2)\n",
    "# Generate random result and display heads or tails\n",
    "\n",
    "import random\n",
    "def random_res():\n",
    "  coin_sides = [\"heads\", \"tails\"]\n",
    "  result = random.choice(coin_sides)\n",
    "  print(f\"\"\"Flipping a coin ....\n",
    " Result: {result}\"\"\")\n",
    "random_res()"
   ]
  },
  {
   "cell_type": "code",
   "execution_count": 43,
   "metadata": {},
   "outputs": [
    {
     "name": "stdout",
     "output_type": "stream",
     "text": [
      "Flipping a coin ....\n",
      " Result: Tails\n"
     ]
    }
   ],
   "source": [
    "import random\n",
    "\n",
    "\n",
    "def random_res():\n",
    "    coin_sides = [\"Heads\", \"Tails\"]\n",
    "    print(f\"\"\"Flipping a coin ....\n",
    " Result: {random.choice(coin_sides)}\"\"\")\n",
    "#     else:\n",
    "#         print(f\"\"\"Flipping a coin ....\n",
    "#  Result: {result}\"\"\")\n",
    "\n",
    "\n",
    "random_res()\n"
   ]
  },
  {
   "cell_type": "markdown",
   "metadata": {},
   "source": [
    "## 8. Password Generator (Difficulty: 3)\n",
    "<details>\n",
    "<summary>Topics</summary>\n",
    "\n",
    "- Random character selection\n",
    "- String concatenation\n",
    "- Character sets\n",
    "</details>\n",
    "\n",
    "Generate a random password with specified length.\n",
    "\n",
    "```python\n",
    "import random\n",
    "import string\n",
    "\n",
    "length = int(input(\"Password length: \"))\n",
    "# Generate password using lowercase, uppercase, digits, and symbols\n",
    "```\n",
    "\n",
    "**Expected Output:**\n",
    "```\n",
    "Case 1:\n",
    "Password length: 8\n",
    "Generated password: Kd7$pQ2z\n",
    "\n",
    "Case 2:\n",
    "Password length: 4\n",
    "Generated password: R5!a\n",
    "```\n",
    "\n",
    "---\n"
   ]
  },
  {
   "cell_type": "markdown",
   "metadata": {},
   "source": [
    "# 9. Text Analyzer (Difficulty: 3)\n",
    "\n",
    "\n",
    "- String methods\n",
    "- Character counting\n",
    "- Word splitting\n",
    "- List operations\n",
    "</details>\n",
    "\n",
    "Analyze a text input for character count, word count, and average word length.\n",
    "**Expected Output:**\n",
    "```\n",
    "Case 1:\n",
    "Enter text: Python is fun to learn!\n",
    "Characters: 22\n",
    "Words: 5\n",
    "Average word length: 4.4\n",
    "\n",
    "Case 2:\n",
    "Enter text: Programming\n",
    "Characters: 11\n",
    "Words: 1\n",
    "Average word length: 11.0\n",
    "```"
   ]
  },
  {
   "cell_type": "code",
   "execution_count": 53,
   "metadata": {},
   "outputs": [
    {
     "name": "stdout",
     "output_type": "stream",
     "text": [
      "19\n"
     ]
    }
   ],
   "source": [
    "# 9. Text Analyzer (Difficulty: 3)\n",
    "# Analyze a text input for character count, word count, and average word length.\n",
    "\n",
    "text = input(\"Enter text:\")\n",
    "a1 = len(text.replace(\" \",\"\"))\n",
    "print(a1)"
   ]
  },
  {
   "cell_type": "markdown",
   "metadata": {},
   "source": [
    "## 10. Emoji Mood Detector (Difficulty: 3)\n",
    "<details>\n",
    "<summary>Topics</summary>\n",
    "\n",
    "- String searching\n",
    "- Dictionaries\n",
    "- Conditional logic\n",
    "</details>\n",
    "\n",
    "Detect the mood of a message based on emojis present.\n",
    "\n",
    "```python\n",
    "message = input(\"Enter your message: \")\n",
    "# Define emojis for different moods (happy, sad, angry)\n",
    "# Detect emojis in the message and determine mood\n",
    "```\n",
    "\n",
    "**Expected Output:**\n",
    "```\n",
    "Case 1:\n",
    "Enter your message: Today was great 😊\n",
    "Mood detected: Happy 🎉\n",
    "\n",
    "Case 2:\n",
    "Enter your message: That's annoying 😡 but also funny 😃\n",
    "Mood detected: Mixed feelings 🤔\n",
    "```\n",
    "\n",
    "---\n"
   ]
  }
 ],
 "metadata": {
  "kernelspec": {
   "display_name": ".venv",
   "language": "python",
   "name": "python3"
  },
  "language_info": {
   "codemirror_mode": {
    "name": "ipython",
    "version": 3
   },
   "file_extension": ".py",
   "mimetype": "text/x-python",
   "name": "python",
   "nbconvert_exporter": "python",
   "pygments_lexer": "ipython3",
   "version": "3.11.8"
  }
 },
 "nbformat": 4,
 "nbformat_minor": 2
}
