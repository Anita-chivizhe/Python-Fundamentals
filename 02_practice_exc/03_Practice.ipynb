{
 "cells": [
  {
   "cell_type": "markdown",
   "metadata": {},
   "source": [
    "## 2. Superhero Power Level (Difficulty: 2)\n",
    "<details>\n",
    "<summary>Topics</summary>\n",
    "\n",
    "- Exponentiation operator\n",
    "- Conditional statements\n",
    "- F-strings\n",
    "</details>\n",
    "\n",
    "Calculate a superhero's power level based on strength and experience.\n",
    "\n",
    "```python\n",
    "name = input(\"Enter superhero name: \")\n",
    "strength = int(input(\"Enter strength (1-10): \"))\n",
    "experience = int(input(\"Enter years of experience: \"))\n",
    "# Calculate power level using exponentiation and create a hero card\n",
    "```\n",
    "\n",
    "**Expected Output:**\n",
    "```\n",
    "Enter superhero name: Thunder Woman\n",
    "Enter strength (1-10): 8\n",
    "Enter years of experience: 5\n",
    "\n",
    "⚡ HERO CARD ⚡\n",
    "Name: Thunder Woman\n",
    "Power Level: 32768\n",
    "Rank: Legendary Hero 🏆\n",
    "```\n",
    "\n",
    "**Hint:** Calculate power level as strength raised to a power based on experience.\n",
    "\n",
    "---"
   ]
  },
  {
   "cell_type": "code",
   "execution_count": null,
   "metadata": {},
   "outputs": [],
   "source": [
    "name = input(\"Enter superhero name: \")\n",
    "strength = int(input(\"Enter strength (1-10): \"))\n",
    "experience = int(input(\"Enter years of experience: \"))\n",
    "power_level = strength ** experience\n",
    "print(f\"\"\"⚡ HERO CARD ⚡\n",
    "Name: {name}\n",
    "Power Level:{power_level}\n",
    "Rank: Legendary Hero 🏆\"\"\")"
   ]
  },
  {
   "cell_type": "code",
   "execution_count": null,
   "metadata": {},
   "outputs": [],
   "source": [
    "def calc_power_level(strength, experience):\n",
    "    name = input(\"Enter superhero name: \")\n",
    "    strength = int(input(\"Enter strength (1-10): \"))\n",
    "    experience = int(input(\"Enter years of experience: \"))\n",
    "    power_level = strength**experience\n",
    "    print(f\"\"\"⚡ HERO CARD ⚡\n",
    "Name: {name}\n",
    "Power Level:{power_level}\n",
    "Rank: Legendary Hero 🏆\"\"\")\n",
    "\n",
    "calc_power_level(strength,experience)\n"
   ]
  },
  {
   "cell_type": "markdown",
   "metadata": {},
   "source": [
    "## 3. Movie Ticket Pricing (Difficulty: 2)\n",
    "<details>\n",
    "<summary>Topics</summary>\n",
    "\n",
    "- Modulo operator\n",
    "- Conditional statements\n",
    "- String formatting\n",
    "</details>\n",
    "\n",
    "Calculate movie ticket prices based on age and day of the week.\n",
    "\n",
    "```python\n",
    "age = int(input(\"Enter age: \"))\n",
    "day = int(input(\"Enter day of week (1-7, where 1 is Monday): \"))\n",
    "# Calculate ticket price based on age and day\n",
    "# Use modulo to check if it's a weekend (day 6-7)\n",
    "```\n",
    "\n",
    "**Expected Output:**\n",
    "```\n",
    "Case 1:\n",
    "Enter age: 25\n",
    "Enter day of week (1-7, where 1 is Monday): 3\n",
    "Standard Ticket: $12.00 🎬\n",
    "Enjoy your movie on Wednesday!\n",
    "\n",
    "Case 2:\n",
    "Enter age: 14\n",
    "Enter day of week (1-7, where 1 is Monday): 6\n",
    "Child Ticket: $8.00 🎬\n",
    "Weekend Surcharge: $2.00 📈\n",
    "Total: $10.00\n",
    "Enjoy your movie on Saturday!\n",
    "```"
   ]
  },
  {
   "cell_type": "code",
   "execution_count": null,
   "metadata": {},
   "outputs": [
    {
     "name": "stdout",
     "output_type": "stream",
     "text": [
      "Enter age: 25\n",
      "Enter day of week (1-7, where 1 is Monday): 3\n",
      "Standard Ticket: $12.0 🎬\n",
      "\n",
      "Enjoy your movie on Wednesday!\n"
     ]
    }
   ],
   "source": [
    "age = int(input(\"Enter age: \"))\n",
    "day = int(input(\"Enter day of week (1-7, where 1 is Monday): \"))\n",
    "weekend_surcharge= 2\n",
    "standard_ticket= 12.00\n",
    "child_ticket = 8\n",
    "extra_line = \"\"\n",
    "movie_ticket_price = 0\n",
    "if day==1:\n",
    "    mov_day = \"Monday\"\n",
    "elif day == 2:\n",
    "    mov_day = \"Tuesday\"\n",
    "elif day == 3:\n",
    "    mov_day = \"Wednesday\"\n",
    "elif day == 4:\n",
    "    mov_day = \"Thursday\"\n",
    "elif day == 5:\n",
    "    mov_day = \"Friday\"\n",
    "elif day == 6:\n",
    "    mov_day = \"Saturday\"\n",
    "elif day == 7:\n",
    "    mov_day = \"Sunday\"\n",
    "    #convert if to list\n",
    "\n",
    "if age < 18:\n",
    "    movie_ticket_price = child_ticket\n",
    "else:\n",
    "    movie_ticket_price = standard_ticket\n",
    "if day == 6 or day == 7:\n",
    "    movie_ticket_price += weekend_surcharge\n",
    "    extra_line = f\"Weekend Surcharge: {weekend_surcharge}\"\n",
    "\n",
    "print(f\"\"\"Enter age: {age}\n",
    "Enter day of week (1-7, where 1 is Monday): {day}\n",
    "Standard Ticket: ${movie_ticket_price} 🎬\n",
    "{extra_line}\n",
    "Enjoy your movie on {mov_day}!\"\"\")\n"
   ]
  },
  {
   "cell_type": "markdown",
   "metadata": {},
   "source": [
    "<details>\n",
    "<summary>📋 Exercise 2: Dictionary Basics (Difficulty: ⭐⭐)</summary>\n",
    "\n",
    "**Task**: Create a dictionary to store information about a user profile and access specific elements.\n",
    "\n",
    "**Setup Code**:\n",
    "```python\n",
    "# Create a user profile dictionary with name, age, email, and favorite_colors (list)\n",
    "# Then access and display different elements\n",
    "```\n",
    "\n",
    "**Expected Output**:\n",
    "```\n",
    "User Profile:\n",
    "Name: John Doe\n",
    "Age: 28\n",
    "Email: john@example.com\n",
    "Favorite Colors: ['blue', 'green', 'black']\n",
    "\n",
    "John's first favorite color is blue\n",
    "```\n"
   ]
  },
  {
   "cell_type": "code",
   "execution_count": null,
   "metadata": {},
   "outputs": [],
   "source": [
    " name\n",
    "age,\n",
    "email\n",
    "favorite_colors (list)"
   ]
  },
  {
   "cell_type": "markdown",
   "metadata": {},
   "source": [
    "<details>\n",
    "<summary>📋 Exercise 3: List to String Conversion (Difficulty: ⭐⭐)</summary>\n",
    "\n",
    "**Task**: Convert a list of strings into a single comma-separated string and vice versa.\n",
    "\n",
    "**Setup Code**:\n",
    "```python\n",
    "# Convert between list and string formats\n",
    "technologies = [\"Python\", \"JavaScript\", \"HTML\", \"CSS\", \"SQL\"]\n",
    "\n",
    "# Convert the list to a comma-separated string\n",
    "# Then convert that string back to a list\n",
    "```\n",
    "\n",
    "**Expected Output**:\n",
    "```\n",
    "Original list: ['Python', 'JavaScript', 'HTML', 'CSS', 'SQL']\n",
    "As a string: Python, JavaScript, HTML, CSS, SQL\n",
    "Back to a list: ['Python', 'JavaScript', 'HTML', 'CSS', 'SQL']\n",
    "```\n",
    "\n",
    "**Hint**: Use `join()` for list-to-string and `split()` for string-to-list conversion.\n",
    "</details"
   ]
  },
  {
   "cell_type": "code",
   "execution_count": 13,
   "metadata": {},
   "outputs": [
    {
     "name": "stdout",
     "output_type": "stream",
     "text": [
      "Original list: ['Python', 'JavaScript', 'HTML', 'CSS', 'SQL']\n",
      "As a string: Python, JavaScript, HTML, CSS, SQL\n",
      "Back to a list: ['Python', ' JavaScript', ' HTML', ' CSS', ' SQL']\n"
     ]
    }
   ],
   "source": [
    "technologies = [\"Python\", \"JavaScript\", \"HTML\", \"CSS\", \"SQL\"]\n",
    "tech_string =\", \".join(technologies)\n",
    "tech_list = tech_string.split(\",\")\n",
    "\n",
    "print(f\"\"\"Original list: {technologies}\n",
    "As a string: {tech_string}\n",
    "Back to a list: {tech_list}\"\"\")\n"
   ]
  },
  {
   "cell_type": "markdown",
   "metadata": {},
   "source": [
    "<details>\n",
    "<summary>📋 Exercise 4: Variable Unpacking (Difficulty: ⭐⭐)</summary>\n",
    "\n",
    "**Task**: Use variable unpacking to extract values from a list and a tuple.\n",
    "\n",
    "**Setup Code**:\n",
    "```python\n",
    "# Use variable unpacking to assign values from collections to individual variables\n",
    "coordinates = (35.6895, 139.6917, \"Tokyo\")  # (latitude, longitude, city)\n",
    "user_data = [\"JohnDoe\", \"john@example.com\", 28, [\"Python\", \"JavaScript\"]]\n",
    "```\n",
    "\n",
    "**Expected Output**:\n",
    "```\n",
    "Coordinates:\n",
    "Latitude: 35.6895\n",
    "Longitude: 139.6917\n",
    "City: Tokyo\n",
    "\n",
    "User Data:\n",
    "Username: JohnDoe\n",
    "Email: john@example.com\n",
    "Age: 28\n",
    "Skills: ['Python', 'JavaScript']\n",
    "```\n",
    "\n",
    "**Hint**: Use unpacking syntax `variable1, variable2, ... = collection`.\n",
    "</details>"
   ]
  },
  {
   "cell_type": "code",
   "execution_count": null,
   "metadata": {},
   "outputs": [
    {
     "name": "stdout",
     "output_type": "stream",
     "text": [
      "35.6895 139.6917 Tokyo\n"
     ]
    }
   ],
   "source": [
    "coordinates = (35.6895, 139.6917, \"Tokyo\")  # (latitude, longitude, city)\n",
    "user_data = [\"JohnDoe\", \"john@example.com\", 28, [\"Python\", \"JavaScript\"]]\n",
    "\n",
    "\n",
    "print(*coordinates)"
   ]
  },
  {
   "cell_type": "code",
   "execution_count": null,
   "metadata": {},
   "outputs": [],
   "source": [
    "coordinates = (35.6895, 139.6917, \"Tokyo\")  # (latitude, longitude, city)\n",
    "\n",
    "cor"
   ]
  }
 ],
 "metadata": {
  "kernelspec": {
   "display_name": ".venv",
   "language": "python",
   "name": "python3"
  },
  "language_info": {
   "codemirror_mode": {
    "name": "ipython",
    "version": 3
   },
   "file_extension": ".py",
   "mimetype": "text/x-python",
   "name": "python",
   "nbconvert_exporter": "python",
   "pygments_lexer": "ipython3",
   "version": "3.11.8"
  }
 },
 "nbformat": 4,
 "nbformat_minor": 2
}
