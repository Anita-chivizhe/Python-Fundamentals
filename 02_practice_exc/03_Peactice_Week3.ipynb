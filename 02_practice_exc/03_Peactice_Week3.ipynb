{
 "cells": [
  {
   "cell_type": "markdown",
   "metadata": {},
   "source": [
    "details>\n",
    "<summary>Exercise 6: Dictionary Comprehensions (⭐⭐⭐)</summary>\n",
    "\n",
    "### Task\n",
    "Use dictionary comprehensions to create dictionaries in the following scenarios.\n",
    "\n",
    "```python\n",
    "# 1. Create a dictionary mapping numbers to their squares\n",
    "numbers = range(1, 11)\n",
    "\n",
    "# 2. Create a dictionary mapping words to their lengths\n",
    "words = [\"apple\", \"banana\", \"cherry\", \"date\", \"elderberry\"]\n",
    "\n",
    "# 3. Filter a dictionary to keep only pairs where the value is even\n",
    "original_dict = {\"a\": 1, \"b\": 2, \"c\": 3, \"d\": 4, \"e\": 5, \"f\": 6}\n",
    "\n",
    "# Your dictionary comprehensions here:\n",
    "# squares_dict = ...\n",
    "# word_lengths = ...\n",
    "# even_values = ...\n",
    "```\n",
    "### Expected Output\n",
    "```\n",
    "squares_dict: {1: 1, 2: 4, 3: 9, 4: 16, 5: 25, 6: 36, 7: 49, 8: 64, 9: 81, 10: 100}\n",
    "word_lengths: {'apple': 5, 'banana': 6, 'cherry': 6, 'date': 4, 'elderberry': 10}\n",
    "even_values: {'b': 2, 'd': 4, 'f': 6}\n",
    "```\n"
   ]
  },
  {
   "cell_type": "code",
   "execution_count": 15,
   "metadata": {},
   "outputs": [
    {
     "name": "stdout",
     "output_type": "stream",
     "text": [
      "{1: 1, 2: 4, 3: 9, 4: 16, 5: 25, 6: 36, 7: 49, 8: 64, 9: 81, 10: 100}\n",
      "{'apple': 5, 'banana': 6, 'cherry': 6, 'date': 4, 'elderberry': 10}\n",
      "{'b': 2, 'd': 4, 'f': 6}\n"
     ]
    }
   ],
   "source": [
    "# Task\n",
    "# Use dictionary comprehensions to create dictionaries in the following scenarios.\n",
    "\n",
    "numbers = range(1, 11)\n",
    "squares_dict ={}\n",
    "for number in range(1,11):\n",
    "    squares_dict[number] = number**2\n",
    "\n",
    "print(squares_dict)\n",
    "\n",
    "# 2. Create a dictionary mapping words to their lengths\n",
    "words = [\"apple\", \"banana\", \"cherry\", \"date\", \"elderberry\"]\n",
    "words_dict = {}\n",
    "for word in words:\n",
    "    words_dict[word] = len(word)\n",
    "\n",
    "# 3. Filter a dictionary to keep only pairs where the value is even\n",
    "original_dict = {\"a\": 1, \"b\": 2, \"c\": 3, \"d\": 4, \"e\": 5, \"f\": 6}\n",
    "even_vals = {}\n",
    "for key, value in original_dict.items():\n",
    "    if value % 0 == 2:\n",
    "        even_vals[key] = value\n",
    "\n",
    "print(words_dict)\n",
    "print(even_vals)"
   ]
  },
  {
   "cell_type": "code",
   "execution_count": 22,
   "metadata": {},
   "outputs": [
    {
     "name": "stdout",
     "output_type": "stream",
     "text": [
      "{1: 1, 2: 4, 3: 9, 4: 16, 5: 25, 6: 36, 7: 49, 8: 64, 9: 81, 10: 100}\n",
      "{'apple': 5, 'banana': 6, 'cherry': 6, 'date': 4, 'elderberry': 10}\n",
      "{'b': 2, 'd': 4, 'f': 6}\n"
     ]
    }
   ],
   "source": [
    "numbers = range(1, 11)\n",
    "squares_dict = {number: number**2 for number in range(1, 11)}\n",
    "word_dict = {word: len(word) for word in words}\n",
    "\n",
    "even_vals = {key: value for key, value in original_dict.items() if value % 2 == 0}\n",
    "\n",
    "\n",
    "print(squares_dict)\n",
    "print(word_dict)\n",
    "print(even_vals)"
   ]
  },
  {
   "cell_type": "markdown",
   "metadata": {},
   "source": []
  },
  {
   "cell_type": "markdown",
   "metadata": {},
   "source": [
    "\n",
    "**Task**: Create a simple contact list manager using dictionaries.\n",
    "\n",
    "**Setup Code**:\n",
    "```python\n",
    "# Create a contact list manager with functions to add, update, delete and search\n",
    "contacts = {}\n",
    "\n",
    "# Implement functions to:\n",
    "# 1. Add a new contact with name, phone, and email\n",
    "# 2. Update an existing contact\n",
    "# 3. Delete a contact\n",
    "# 4. Search for a contact by name\n",
    "```\n",
    "\n",
    "**Expected Output**:\n",
    "```\n",
    "After adding contacts:\n",
    "{'John': {'phone': '555-1234', 'email': 'john@example.com'}, 'Alice': {'phone': '555-5678', 'email': 'alice@example.com'}}\n",
    "\n",
    "After updating John's contact:\n",
    "John: {'phone': '555-9876', 'email': 'john.doe@example.com'}\n",
    "\n",
    "Searching for Alice:\n",
    "Contact found: {'phone': '555-5678', 'email': 'alice@example.com'}\n",
    "\n",
    "After deleting John:\n",
    "{'Alice': {'phone': '555-5678', 'email': 'alice@example.com'}}\n",
    "```\n",
    "\n",
    "**Hint**: Implement each function separately, using dictionary operations you've learned.\n",
    "</details>\n"
   ]
  },
  {
   "cell_type": "code",
   "execution_count": null,
   "metadata": {},
   "outputs": [],
   "source": [
    "# Create a contact list manager with functions to add, update, delete and search\n",
    "contacts = {}\n",
    "contacts['x'] = 1\n",
    "contacts['x'] = 2\n",
    "\n",
    "def add_contact(name, phone_no, email)\n"
   ]
  }
 ],
 "metadata": {
  "kernelspec": {
   "display_name": ".venv",
   "language": "python",
   "name": "python3"
  },
  "language_info": {
   "codemirror_mode": {
    "name": "ipython",
    "version": 3
   },
   "file_extension": ".py",
   "mimetype": "text/x-python",
   "name": "python",
   "nbconvert_exporter": "python",
   "pygments_lexer": "ipython3",
   "version": "3.11.8"
  }
 },
 "nbformat": 4,
 "nbformat_minor": 2
}
