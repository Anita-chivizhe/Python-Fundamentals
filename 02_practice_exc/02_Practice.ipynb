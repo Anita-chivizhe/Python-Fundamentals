{
 "cells": [
  {
   "cell_type": "markdown",
   "metadata": {},
   "source": [
    "### Task\n",
    "Write a function that transforms a list of student records into a dictionary keyed by student ID, with values containing all their course scores.\n",
    "\n",
    "```python\n",
    "records = [\n",
    "    {\"student_id\": \"S001\", \"course\": \"Python\", \"score\": 85},\n",
    "    {\"student_id\": \"S002\", \"course\": \"Java\", \"score\": 92},\n",
    "    {\"student_id\": \"S001\", \"course\": \"SQL\", \"score\": 78},\n",
    "    {\"student_id\": \"S003\", \"course\": \"Python\", \"score\": 88},\n",
    "    {\"student_id\": \"S002\", \"course\": \"Python\", \"score\": 90},\n",
    "    {\"student_id\": \"S001\", \"course\": \"Java\", \"score\": 65},\n",
    "]\n",
    "\n",
    "def transform_records(records_list):\n",
    "    # Transform the records into a dictionary by student_id\n",
    "    # with nested dictionaries of courses and scores\n",
    "    pass\n",
    "\n",
    "# Test your function\n",
    "student_records = transform_records(records)\n",
    "for student_id, courses in student_records.items():\n",
    "    print(f\"Student {student_id}: {courses}\")\n",
    "```\n",
    "\n",
    "### Expected Output\n",
    "```\n",
    "Student S001: {'Python': 85, 'SQL': 78, 'Java': 65}\n",
    "Student S002: {'Java': 92, 'Python': 90}\n",
    "Student S003: {'Python': 88}"
   ]
  },
  {
   "cell_type": "code",
   "execution_count": null,
   "metadata": {},
   "outputs": [],
   "source": [
    "# Task\n",
    "# Write a function that transforms a list of student records into a dictionary keyed by student ID, with values containing all their course scores.\n",
    "\n",
    "# Exercise 14: Dictionary Transformation (⭐⭐⭐⭐)\n",
    "\n",
    "records = [\n",
    "    {\"student_id\": \"S001\", \"course\": \"Python\", \"score\": 85},\n",
    "    {\"student_id\": \"S002\", \"course\": \"Java\", \"score\": 92},\n",
    "    {\"student_id\": \"S001\", \"course\": \"SQL\", \"score\": 78},\n",
    "    {\"student_id\": \"S003\", \"course\": \"Python\", \"score\": 88},\n",
    "    {\"student_id\": \"S002\", \"course\": \"Python\", \"score\": 90},\n",
    "    {\"student_id\": \"S001\", \"course\": \"Java\", \"score\": 65},\n",
    "]\n",
    "def transform_records(records_list):\n"
   ]
  }
 ],
 "metadata": {
  "language_info": {
   "name": "python"
  }
 },
 "nbformat": 4,
 "nbformat_minor": 2
}
