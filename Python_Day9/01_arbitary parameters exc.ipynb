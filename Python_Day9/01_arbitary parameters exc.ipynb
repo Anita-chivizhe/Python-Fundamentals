{
 "cells": [
  {
   "cell_type": "markdown",
   "metadata": {},
   "source": [
    "def own_max(*nums):  # * -> Collect all the arguments\n",
    "    print(nums)\n",
    "   \n",
    "   \n",
    "own_max(9, 6)\n",
    "own_max(3, 4, 5, 6)\n",
    "own_max(3, 4, 5, 6, 7, 2, 3, 10, 1)  "
   ]
  },
  {
   "cell_type": "code",
   "execution_count": null,
   "metadata": {},
   "outputs": [],
   "source": [
    "def own_max(*nums):\n",
    "    max_no = nums[0]\n",
    "    for n in nums:\n",
    "        if n> max_no:\n",
    "            max_no = n\n",
    "    return max_no\n",
    "\n",
    "\n",
    "own_max(9, 6)\n",
    "own_max(3, 4, 5, 6)\n",
    "own_max(3, 4, 5, 6, 7, 2, 3, 10, 1)\n"
   ]
  },
  {
   "cell_type": "markdown",
   "metadata": {},
   "source": [
    "def mood_report():\n",
    "    pass\n",
    "\n",
    "\n",
    "# Example outputs:\n",
    "print(mood_report())  # \"Feeling 🙂 this morning 🌅.\"\n",
    "print(\n",
    "    mood_report(mood=\"😎\", time_of_day=\"afternoon ☀️\")\n",
    ")  # \"Feeling 😎 this afternoon ☀️.\"\n"
   ]
  },
  {
   "cell_type": "code",
   "execution_count": null,
   "metadata": {},
   "outputs": [
    {
     "name": "stdout",
     "output_type": "stream",
     "text": [
      "Feeling 🥰 this morning 🌅\n",
      "Feeling 😎 this afternoon ☀️\n"
     ]
    }
   ],
   "source": [
    "def mood_report(mood= \"🥰\", time_of_day = \"morning 🌅\"):\n",
    "    return f\"Feeling {mood} this {time_of_day}\"\n",
    "\n",
    "\n",
    "print(mood_report())  # \"Feeling 🙂 this morning 🌅.\"\n",
    "print(\n",
    "    mood_report(mood=\"😎\", time_of_day=\"afternoon ☀️\")\n",
    ")  # \"Feeling 😎 this afternoon ☀️.\""
   ]
  },
  {
   "cell_type": "markdown",
   "metadata": {},
   "source": [
    "# Task 1.2\n",
    " \n",
    "books = [\n",
    "    {\"title\": \"1984\", \"author\": \"George Orwell\", \"year\": 1949},\n",
    "    {\"author\": \"J.K. Rowling\"},  # Missing title and year\n",
    "    {\"title\": \"The Great Gatsby\", \"author\": \"F. Scott Fitzgerald\", \"year\": 1925},\n",
    "    {\"title\": \"To Kill a Mockingbird\", \"year\": 1960},  # Missing author\n",
    "    {\"author\": \"Ernest Hemingway\", \"year\": 1952}  # Missing title\n",
    "]\n",
    " \n",
    " \n",
    "# Output\n",
    "# '1984' by George Orwell (1949)\n",
    "# 'Untitled' by J.K. Rowling (N/A)\n",
    "# 'The Great Gatsby' by F. Scott Fitzgerald (1925)\n",
    "# 'To Kill a Mockingbird' by Unknown (1960)\n",
    "# 'Untitled' by Ernest Hemingway (1952)\n",
    " \n",
    " \n",
    " \n",
    "def format_book_info():\n",
    "    pass\n",
    " "
   ]
  },
  {
   "cell_type": "code",
   "execution_count": null,
   "metadata": {},
   "outputs": [
    {
     "name": "stdout",
     "output_type": "stream",
     "text": [
      "1984 by George Orwell (1949)\n",
      "None by J.K. Rowling (None)\n",
      "The Great Gatsby by F. Scott Fitzgerald (1925)\n",
      "To Kill a Mockingbird by None (1960)\n",
      "None by Ernest Hemingway (1952)\n"
     ]
    }
   ],
   "source": [
    "books = [\n",
    "    {\"title\": \"1984\", \"author\": \"George Orwell\", \"year\": 1949},\n",
    "    {\"author\": \"J.K. Rowling\"},  # Missing title and year\n",
    "    {\"title\": \"The Great Gatsby\", \"author\": \"F. Scott Fitzgerald\", \"year\": 1925},\n",
    "    {\"title\": \"To Kill a Mockingbird\", \"year\": 1960},  # Missing author\n",
    "    {\"author\": \"Ernest Hemingway\", \"year\": 1952},  # Missing title\n",
    "]\n",
    "\n",
    "def format_book_info(title = \"Untitled\", author = \"Unknown\", year = \"N/A\"):\n",
    "    return f\"{title} by {author} ({year})\"\n",
    "\n",
    "def main():\n",
    "    for book in books:\n",
    "      print(format_book_info(book.get('title'), book.get('author'), book.get('year')))\n",
    "\n",
    "\n",
    "main()\n"
   ]
  },
  {
   "cell_type": "code",
   "execution_count": 1,
   "metadata": {},
   "outputs": [
    {
     "name": "stdout",
     "output_type": "stream",
     "text": [
      "Untitled by George Orwell (N/A)\n",
      "1984 by George Orwell (1949)\n",
      "Untitled by J.K. Rowling (N/A)\n",
      "Untitled by J.K. Rowling (N/A)\n",
      "Untitled by F. Scott Fitzgerald (N/A)\n",
      "The Great Gatsby by F. Scott Fitzgerald (1925)\n",
      "Untitled by None (N/A)\n",
      "To Kill a Mockingbird by Unknown (1960)\n",
      "Untitled by Ernest Hemingway (N/A)\n",
      "Untitled by Ernest Hemingway (1952)\n"
     ]
    }
   ],
   "source": [
    "books = [\n",
    "    {\"title\": \"1984\", \"author\": \"George Orwell\", \"year\": 1949},\n",
    "    {\"author\": \"J.K. Rowling\"},  # Missing title and year\n",
    "    {\"title\": \"The Great Gatsby\", \"author\": \"F. Scott Fitzgerald\", \"year\": 1925},\n",
    "    {\"title\": \"To Kill a Mockingbird\", \"year\": 1960},  # Missing author\n",
    "    {\"author\": \"Ernest Hemingway\", \"year\": 1952},  # Missing title\n",
    "]\n",
    "\n",
    "\n",
    "def format_book_info(title=\"Untitled\", author=\"Unknown\", year=\"N/A\"):\n",
    "    return f\"{title} by {author} ({year})\"\n",
    "\n",
    "\n",
    "def main():\n",
    "    for book in books:\n",
    "        # print(format_book_info(title=book.get(\"title\"),author= book.get(\"author\"), year=book.get(\"year\")))\n",
    "        print(\n",
    "            format_book_info(author=book.get(\"author\"))\n",
    "        )\n",
    "        print(format_book_info(**book))\n",
    "\n",
    "\n",
    "main()\n"
   ]
  }
 ],
 "metadata": {
  "kernelspec": {
   "display_name": ".venv",
   "language": "python",
   "name": "python3"
  },
  "language_info": {
   "codemirror_mode": {
    "name": "ipython",
    "version": 3
   },
   "file_extension": ".py",
   "mimetype": "text/x-python",
   "name": "python",
   "nbconvert_exporter": "python",
   "pygments_lexer": "ipython3",
   "version": "3.11.8"
  }
 },
 "nbformat": 4,
 "nbformat_minor": 2
}
