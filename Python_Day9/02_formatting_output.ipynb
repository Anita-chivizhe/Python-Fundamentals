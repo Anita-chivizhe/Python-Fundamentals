{
 "cells": [
  {
   "cell_type": "markdown",
   "metadata": {},
   "source": [
    "name = \"Jevan\"\n",
    "print(f\"{name:🥕>20}:\") \n",
    "print(f\"{name:🥔<20}:\")\n",
    "print(f\"{name:🍅^20}:\")"
   ]
  },
  {
   "cell_type": "markdown",
   "metadata": {},
   "source": [
    "recipe = {\n",
    "    \"name\": \"Spaghetti Carbonara\",\n",
    "    \"servings\": 4,\n",
    "    \"ingredients\": [\n",
    "        \"200g spaghetti\",\n",
    "        \"100g pancetta\",\n",
    "        \"2 eggs\",\n",
    "        \"1/2 cup grated Parmesan\",\n",
    "        \"1 clove garlic\",\n",
    "    ],\n",
    "}\n",
    " \n",
    "# Task 1\n",
    "# ======= Spaghetti Carbonara =======\n",
    "# - 200g spaghetti\n",
    "# - 100g pancetta\n",
    "# - 2 eggs\n",
    "# - 1/2 cup grated Parmesan\n",
    "# - 1 clove garlic\n",
    "# Serves: 4 people"
   ]
  },
  {
   "cell_type": "code",
   "execution_count": null,
   "metadata": {},
   "outputs": [
    {
     "name": "stdout",
     "output_type": "stream",
     "text": [
      "=====Spaghetti Carbonara======\n",
      "- 200g spaghetti\n",
      "- 100g pancetta\n",
      "- 2 eggs\n",
      "- 1/2 cup grated Parmesan\n",
      "- 1 clove garlic\n",
      "Serves:4 people\n"
     ]
    }
   ],
   "source": [
    "\n",
    "recipe = {\n",
    "    \"name\": \"Spaghetti Carbonara\",\n",
    "    \"servings\": 4,\n",
    "    \"ingredients\": [\n",
    "        \"200g spaghetti\",\n",
    "        \"100g pancetta\",\n",
    "        \"2 eggs\",\n",
    "        \"1/2 cup grated Parmesan\",\n",
    "        \"1 clove garlic\",\n",
    "    ],\n",
    "}\n",
    "\n",
    "def format_recipe_output(recipe):\n",
    "    formatted_recipe = f\"{recipe['name']}\"\n",
    "    print(f\"{formatted_recipe:=^30}\")\n",
    "    for i in recipe[\"ingredients\"]:\n",
    "        print(f\"- {i}\")\n",
    "    print(f\"Serves:{recipe['servings']} people\")\n",
    "\n",
    "format_recipe_output(recipe)"
   ]
  },
  {
   "cell_type": "code",
   "execution_count": null,
   "metadata": {},
   "outputs": [],
   "source": [
    "recipe = {\n",
    "    \"name\": \"Spaghetti Carbonara\",\n",
    "    \"servings\": 4,\n",
    "    \"ingredients\": [\n",
    "        \"200g spaghetti\",\n",
    "        \"100g pancetta\",\n",
    "        \"2 eggs\",\n",
    "        \"1/2 cup grated Parmesan\",\n",
    "        \"1 clove garlic\",\n",
    "    ],\n",
    "}\n",
    "\n",
    "\n",
    "recipe[\"name\"] # Dirrect acess\n",
    "recipe.get(\"name\") # None # Safe access\n",
    "\n",
    "ings = recipe.get(\"ingredients\")\n",
    "\n",
    "for ing in ings:\n",
    "    print(ing)\n"
   ]
  },
  {
   "cell_type": "code",
   "execution_count": 7,
   "metadata": {},
   "outputs": [
    {
     "name": "stdout",
     "output_type": "stream",
     "text": [
      "Spaghetti Carbonara\n",
      " - 200g spaghetti\n",
      " - 100g pancetta\n",
      " - 2 eggs\n",
      " - 1/2 cup grated Parmesan\n",
      " - 1 clove garlic\n",
      "4\n"
     ]
    }
   ],
   "source": [
    "recipe = {\n",
    "    \"name\": \"Spaghetti Carbonara\",\n",
    "    \"servings\": 4,\n",
    "    \"ingredients\": [\n",
    "        \"200g spaghetti\",\n",
    "        \"100g pancetta\",\n",
    "        \"2 eggs\",\n",
    "        \"1/2 cup grated Parmesan\",\n",
    "        \"1 clove garlic\",\n",
    "    ],\n",
    "}\n",
    "\n",
    "\n",
    "print(recipe[\"name\"])  # Dirrect acess\n",
    "recipe.get(\"name\")  # None # Safe access\n",
    "\n",
    "\n",
    "for ing in recipe[\"ingredients\"]:\n",
    "    print(f\" - {ing}\")\n",
    "\n",
    "print(recipe[\"servings\"])"
   ]
  },
  {
   "cell_type": "code",
   "execution_count": 18,
   "metadata": {},
   "outputs": [
    {
     "name": "stdout",
     "output_type": "stream",
     "text": [
      "=====Spaghetti Carbonara======\n",
      "- 200g spaghetti\n",
      "- 100g pancetta\n",
      "- 2 eggs\n",
      "- 1/2 cup grated Parmesan\n",
      "- 1 clove garlic\n",
      " Serves 4\n"
     ]
    }
   ],
   "source": [
    "recipe = {\n",
    "    \"name\": \"Spaghetti Carbonara\",\n",
    "    \"servings\": 4,\n",
    "    \"ingredients\": [\n",
    "        \"200g spaghetti\",\n",
    "        \"100g pancetta\",\n",
    "        \"2 eggs\",\n",
    "        \"1/2 cup grated Parmesan\",\n",
    "        \"1 clove garlic\",\n",
    "    ],\n",
    "}\n",
    "\n",
    "def format_recipe_output(name, ingredients, servings):\n",
    "    format_recipe_name = f\"{recipe['name']}\"\n",
    "    print(f\"{format_recipe_name:=^30}\")\n",
    "    for ingredient in recipe[\"ingredients\"]:\n",
    "       print(f\"- {ingredient}\")\n",
    "    print(f\" Serves {servings}\")\n",
    "\n",
    "format_recipe_output(**recipe)\n"
   ]
  }
 ],
 "metadata": {
  "kernelspec": {
   "display_name": ".venv",
   "language": "python",
   "name": "python3"
  },
  "language_info": {
   "codemirror_mode": {
    "name": "ipython",
    "version": 3
   },
   "file_extension": ".py",
   "mimetype": "text/x-python",
   "name": "python",
   "nbconvert_exporter": "python",
   "pygments_lexer": "ipython3",
   "version": "3.11.8"
  }
 },
 "nbformat": 4,
 "nbformat_minor": 2
}
