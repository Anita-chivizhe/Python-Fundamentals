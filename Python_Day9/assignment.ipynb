{
 "cells": [
  {
   "cell_type": "markdown",
   "metadata": {},
   "source": [
    "from datetime import datetime\n",
    "\n",
    "items = [\n",
    "    {\"name\": \"Widget A\", \"quantity\": 10, \"price\": 2.5},\n",
    "    {\"name\": \"Widget B\", \"quantity\": 5, \"price\": 15.75},\n",
    "    {\"name\": \"Gadget\", \"quantity\": 2, \"price\": 99.99}\n",
    "]\n",
    "\n",
    "def print_invoice(invoice_date, items):\n",
    "    pass\n"
   ]
  },
  {
   "cell_type": "code",
   "execution_count": 14,
   "metadata": {},
   "outputs": [
    {
     "name": "stdout",
     "output_type": "stream",
     "text": [
      "Invoice Date:  04 March 2025\n",
      "\n",
      "Product        Qty     Unit Price    Total\n",
      "-------------------------------------------\n",
      "Widget A         10      2.50       25.00\n",
      "Widget B          5     15.75       78.75\n",
      "Gadget            2     99.99      199.98\n",
      "-------------------------------------------\n",
      "Grand Total                         303.73\n"
     ]
    }
   ],
   "source": [
    "from datetime import datetime\n",
    "\n",
    "items = [\n",
    "    {\"name\": \"Widget A\", \"quantity\": 10, \"price\": 2.5},\n",
    "    {\"name\": \"Widget B\", \"quantity\": 5, \"price\": 15.75},\n",
    "    {\"name\": \"Gadget\", \"quantity\": 2, \"price\": 99.99},\n",
    "]\n",
    "invoice_date = datetime.now()\n",
    "\n",
    "\n",
    "def date_formatter(date):\n",
    "    return f\"Invoice Date: {date: %d %B %Y}\"\n",
    "\n",
    "\n",
    "# def header_formatter1():\n",
    "#     return \"\\nProduct        Qty     Unit Price    Total\\n\" + \"-\" * 43\n",
    "\n",
    "\n",
    "def header_formatter():\n",
    "    return f\"\"\"\n",
    "Product        Qty     Unit Price    Total\n",
    "{\"-\" * 43}\"\"\"\n",
    "\n",
    "def rows_formatter(items):\n",
    "    for item in items:\n",
    "        product = item[\"name\"]\n",
    "        qty = item[\"quantity\"]\n",
    "        price = item[\"price\"]\n",
    "        total = item[\"quantity\"] * item[\"price\"]\n",
    "        print(f\"{product:<15}{qty:>4}{price:>10.2f}{total:>12.2f}\")\n",
    "\n",
    "def footer_formatter(items):\n",
    "    grand_total = sum(item[\"quantity\"] * item[\"price\"] for item in items)\n",
    "    return f\"\"\"{\"-\" * 43}\n",
    "Grand Total {grand_total:>30.2f}\"\"\"\n",
    "\n",
    "def print_invoice(invoice_date, items):\n",
    "    print(date_formatter(invoice_date))\n",
    "    print(header_formatter())\n",
    "    rows_formatter(items)\n",
    "    print(footer_formatter(items))\n",
    "\n",
    "print_invoice(invoice_date, items)\n"
   ]
  },
  {
   "cell_type": "code",
   "execution_count": 35,
   "metadata": {},
   "outputs": [
    {
     "name": "stdout",
     "output_type": "stream",
     "text": [
      "The old price is:  600\n",
      "The new price is:  100\n"
     ]
    }
   ],
   "source": [
    "price = 200\n",
    "\n",
    "\n",
    "def get_price(price):\n",
    "    print(\"The old price is: \", price)\n",
    "    price = 100  # Reassignment\n",
    "    print(\"The new price is: \", price)\n",
    "\n",
    "\n",
    "get_price(600)\n"
   ]
  },
  {
   "cell_type": "code",
   "execution_count": 36,
   "metadata": {},
   "outputs": [
    {
     "name": "stdout",
     "output_type": "stream",
     "text": [
      "abc\n"
     ]
    }
   ],
   "source": [
    "t1= True\n",
    "if t1:\n",
    "    x = \"abc\"\n",
    "\n",
    "print(x)"
   ]
  },
  {
   "cell_type": "code",
   "execution_count": 40,
   "metadata": {},
   "outputs": [
    {
     "data": {
      "text/plain": [
       "'Hi'"
      ]
     },
     "execution_count": 40,
     "metadata": {},
     "output_type": "execute_result"
    }
   ],
   "source": [
    "def f1():\n",
    "    def f2():\n",
    "        return \"Hi\"\n",
    "    return f2\n",
    "\n",
    "f1()()"
   ]
  },
  {
   "cell_type": "code",
   "execution_count": null,
   "metadata": {},
   "outputs": [],
   "source": [
    "def add(n1, n2):\n",
    "    return n1 + n2\n",
    "\n",
    "add1 = lambda n1,n2: n1 +n2\n"
   ]
  },
  {
   "cell_type": "markdown",
   "metadata": {},
   "source": [
    "avengers = [\n",
    "    \"Hulk\",\n",
    "    \"Iron man\",\n",
    "    \"Black widow\",\n",
    "    \"Captain america\",\n",
    "    \"Spider man\",\n",
    "    \"Thor\",\n",
    "]\n",
    "\n",
    "# Task (map or filter)\n",
    "# Number letter in the name\n",
    "# [4, 8, 11, 15, 10, 4]\n"
   ]
  },
  {
   "cell_type": "code",
   "execution_count": null,
   "metadata": {},
   "outputs": [
    {
     "name": "stdout",
     "output_type": "stream",
     "text": [
      "[4, 8, 11, 15, 10, 4]\n"
     ]
    }
   ],
   "source": [
    "#Task 1.1\n",
    "\n",
    "avengers = [\n",
    "    \"Hulk\",\n",
    "    \"Iron man\",\n",
    "    \"Black widow\",\n",
    "    \"Captain america\",\n",
    "    \"Spider man\",\n",
    "    \"Thor\",\n",
    "]\n",
    "\n",
    "avengers_letter = (map(lambda avengers:len(avengers),avengers))\n",
    "print(list(avengers_letter))"
   ]
  },
  {
   "cell_type": "markdown",
   "metadata": {},
   "source": [
    "Task 1.2\n",
    " \n",
    "Find longer names more the 10 letters name and stored in a new list\n",
    " \n",
    "Output\n",
    "[\"Black widow\", \"Captain america\"]"
   ]
  },
  {
   "cell_type": "code",
   "execution_count": null,
   "metadata": {},
   "outputs": [
    {
     "name": "stdout",
     "output_type": "stream",
     "text": [
      "['Black widow', 'Captain america']\n"
     ]
    }
   ],
   "source": [
    "# Task 1.2\n",
    "\n",
    "avengers = [\n",
    "    \"Hulk\",\n",
    "    \"Iron man\",\n",
    "    \"Black widow\",\n",
    "    \"Captain america\",\n",
    "    \"Spider man\",\n",
    "    \"Thor\",\n",
    "]\n",
    "\n",
    "long_names = list(filter(lambda avengers: len(avengers) > 10, avengers))\n",
    "print(long_names)"
   ]
  },
  {
   "cell_type": "markdown",
   "metadata": {},
   "source": [
    "## Task 1.3\n",
    "\n",
    "Find the passed student's names (pass criteria >= 40)\n",
    "\n",
    "Output\n",
    "[\"Lillian Ellis\", \"Debra Beard\",  \"Nettie Hancock\" ]\n",
    "\n",
    "Clue:\n",
    "combination of map & filter"
   ]
  },
  {
   "cell_type": "code",
   "execution_count": 49,
   "metadata": {},
   "outputs": [
    {
     "name": "stdout",
     "output_type": "stream",
     "text": [
      "['Lillian Ellis', 'Debra Beard', 'Nettie Hancock']\n"
     ]
    }
   ],
   "source": [
    "scores = [\n",
    "    {\n",
    "        \"marks\": 32,\n",
    "        \"name\": \"Yvette Merritt\",\n",
    "    },\n",
    "    {\n",
    "        \"marks\": 57,\n",
    "        \"name\": \"Lillian Ellis\",\n",
    "    },\n",
    "    {\n",
    "        \"marks\": 22,\n",
    "        \"name\": \"Mccall Carter\",\n",
    "    },\n",
    "    {\n",
    "        \"marks\": 21,\n",
    "        \"name\": \"Pate Collier\",\n",
    "    },\n",
    "    {\n",
    "        \"marks\": 91,\n",
    "        \"name\": \"Debra Beard\",\n",
    "    },\n",
    "    {\n",
    "        \"marks\": 75,\n",
    "        \"name\": \"Nettie Hancock\",\n",
    "    },\n",
    "    {\n",
    "        \"marks\": 20,\n",
    "        \"name\": \"Hatfield Hodge\",\n",
    "    },\n",
    "]\n",
    "\n",
    "\n",
    "passed_students = filter(lambda student: student['marks'] >= 40, scores)\n",
    "passed_students = list(map(lambda student: student['name'],passed_students))\n",
    "\n",
    "print(passed_students)\n"
   ]
  },
  {
   "cell_type": "markdown",
   "metadata": {},
   "source": [
    "## Task 1.4\n",
    "Find the topper\n",
    "\n",
    "Clue:\n",
    "Use sorted()\n",
    "\n",
    "Output\n",
    "Debra Beard"
   ]
  },
  {
   "cell_type": "code",
   "execution_count": null,
   "metadata": {},
   "outputs": [],
   "source": [
    "scores = [\n",
    "    {\n",
    "        \"marks\": 32,\n",
    "        \"name\": \"Yvette Merritt\",\n",
    "    },\n",
    "    {\n",
    "        \"marks\": 57,\n",
    "        \"name\": \"Lillian Ellis\",\n",
    "    },\n",
    "    {\n",
    "        \"marks\": 22,\n",
    "        \"name\": \"Mccall Carter\",\n",
    "    },\n",
    "    {\n",
    "        \"marks\": 21,\n",
    "        \"name\": \"Pate Collier\",\n",
    "    },\n",
    "    {\n",
    "        \"marks\": 91,\n",
    "        \"name\": \"Debra Beard\",\n",
    "    },\n",
    "    {\n",
    "        \"marks\": 75,\n",
    "        \"name\": \"Nettie Hancock\",\n",
    "    },\n",
    "    {\n",
    "        \"marks\": 20,\n",
    "        \"name\": \"Hatfield Hodge\",\n",
    "    },\n",
    "]\n"
   ]
  }
 ],
 "metadata": {
  "kernelspec": {
   "display_name": ".venv",
   "language": "python",
   "name": "python3"
  },
  "language_info": {
   "codemirror_mode": {
    "name": "ipython",
    "version": 3
   },
   "file_extension": ".py",
   "mimetype": "text/x-python",
   "name": "python",
   "nbconvert_exporter": "python",
   "pygments_lexer": "ipython3",
   "version": "3.11.8"
  }
 },
 "nbformat": 4,
 "nbformat_minor": 2
}
