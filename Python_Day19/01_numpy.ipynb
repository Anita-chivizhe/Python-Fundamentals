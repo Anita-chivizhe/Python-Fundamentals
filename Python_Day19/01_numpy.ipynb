{
 "cells": [
  {
   "cell_type": "code",
   "execution_count": 1,
   "metadata": {},
   "outputs": [],
   "source": [
    "import numpy as np\n"
   ]
  },
  {
   "cell_type": "code",
   "execution_count": 2,
   "metadata": {},
   "outputs": [
    {
     "name": "stdout",
     "output_type": "stream",
     "text": [
      "[90, 80, 20, 40, 90, 80, 20, 40]\n"
     ]
    }
   ],
   "source": [
    "marks1 = [90,80,20,40]\n",
    "\n",
    "print(marks1*2)"
   ]
  },
  {
   "cell_type": "code",
   "execution_count": 10,
   "metadata": {},
   "outputs": [
    {
     "name": "stdout",
     "output_type": "stream",
     "text": [
      "[180, 160, 40, 80]\n"
     ]
    }
   ],
   "source": [
    "marks1 = [90, 80, 20, 40]\n",
    "\n",
    "print([mark * 2 for mark in marks1])"
   ]
  },
  {
   "cell_type": "code",
   "execution_count": null,
   "metadata": {},
   "outputs": [
    {
     "name": "stdout",
     "output_type": "stream",
     "text": [
      "[180 160  40  80]\n"
     ]
    }
   ],
   "source": [
    "marks2 = np.array([90, 80, 20, 40])\n",
    "\n",
    "print(marks2 * 2)"
   ]
  }
 ],
 "metadata": {
  "kernelspec": {
   "display_name": ".venv",
   "language": "python",
   "name": "python3"
  },
  "language_info": {
   "codemirror_mode": {
    "name": "ipython",
    "version": 3
   },
   "file_extension": ".py",
   "mimetype": "text/x-python",
   "name": "python",
   "nbconvert_exporter": "python",
   "pygments_lexer": "ipython3",
   "version": "3.11.8"
  }
 },
 "nbformat": 4,
 "nbformat_minor": 2
}
