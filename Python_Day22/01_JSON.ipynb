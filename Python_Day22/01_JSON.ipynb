{
 "cells": [
  {
   "cell_type": "code",
   "execution_count": null,
   "metadata": {},
   "outputs": [],
   "source": [
    "data = {\n",
    "    \"employees\": [\n",
    "        {\"name\": \"Alice\", \"age\": 30, \"department\": \"Sales\"},\n",
    "        {\"name\": \"Bob\", \"age\": 25, \"department\": \"Marketing\"},\n",
    "    ]\n",
    "}\n",
    "print(type(data))\n",
    "print(data[\"employees\"][0][\"age\"])"
   ]
  },
  {
   "cell_type": "code",
   "execution_count": 5,
   "metadata": {},
   "outputs": [
    {
     "name": "stdout",
     "output_type": "stream",
     "text": [
      "{\n",
      "    \"employees\": [\n",
      "        {\n",
      "            \"name\": \"Alice\",\n",
      "            \"age\": 30,\n",
      "            \"department\": \"Sales\"\n",
      "        },\n",
      "        {\n",
      "            \"name\": \"Bob\",\n",
      "            \"age\": 25,\n",
      "            \"department\": \"Marketing\"\n",
      "        }\n",
      "    ]\n",
      "} <class 'str'>\n"
     ]
    }
   ],
   "source": [
    "import json\n",
    "\n",
    "data = {\n",
    "    \"employees\": [\n",
    "        {\"name\": \"Alice\", \"age\": 30, \"department\": \"Sales\"},\n",
    "        {\"name\": \"Bob\", \"age\": 25, \"department\": \"Marketing\"},\n",
    "    ]\n",
    "}\n",
    "\n",
    "data_joson = json.dumps(data, indent = 4)\n",
    "print(data_joson, type(data_joson))"
   ]
  },
  {
   "cell_type": "markdown",
   "metadata": {},
   "source": [
    "## Task 1.1 (normal for loop)\n",
    "- All Active user's balance should increase by 10%\n",
    "- Final Output should be JSON format"
   ]
  },
  {
   "cell_type": "code",
   "execution_count": null,
   "metadata": {},
   "outputs": [
    {
     "name": "stdout",
     "output_type": "stream",
     "text": [
      "[\n",
      "  {\n",
      "    \"id\": 1,\n",
      "    \"name\": \"John Doe\",\n",
      "    \"email\": \"johndoe@example.com\",\n",
      "    \"isActive\": true,\n",
      "    \"balance\": 165.83\n",
      "  },\n",
      "  {\n",
      "    \"id\": 2,\n",
      "    \"name\": \"Jane Smith\",\n",
      "    \"email\": \"janesmith@example.com\",\n",
      "    \"isActive\": false,\n",
      "    \"balance\": 500.5\n",
      "  },\n",
      "  {\n",
      "    \"id\": 3,\n",
      "    \"name\": \"Emily Jones\",\n",
      "    \"email\": \"emilyjones@example.com\",\n",
      "    \"isActive\": true,\n",
      "    \"balance\": 0.0\n",
      "  }\n",
      "]\n"
     ]
    }
   ],
   "source": [
    "bank_data = \"\"\"\n",
    "[\n",
    "    {\n",
    "        \"id\": 1,\n",
    "        \"name\": \"John Doe\",\n",
    "        \"email\": \"johndoe@example.com\",\n",
    "        \"isActive\": true,\n",
    "        \"balance\": 150.75\n",
    "    },\n",
    "    {\n",
    "        \"id\": 2,\n",
    "        \"name\": \"Jane Smith\",\n",
    "        \"email\": \"janesmith@example.com\",\n",
    "        \"isActive\": false,\n",
    "        \"balance\": 500.50\n",
    "    },\n",
    "    {\n",
    "        \"id\": 3,\n",
    "        \"name\": \"Emily Jones\",\n",
    "        \"email\": \"emilyjones@example.com\",\n",
    "        \"isActive\": true,\n",
    "        \"balance\": 0.00\n",
    "    }\n",
    "]\n",
    "\"\"\"\n",
    "bank_data = json.loads(bank_data)\n",
    "for person in bank_data:\n",
    "    if person[\"isActive\"] == True:\n",
    "        person[\"balance\"] = round(person[\"balance\"] * 1.10, 2)\n",
    "\n",
    "result_json = json.dumps(bank_data, indent= 2)\n",
    "\n",
    "print(result_json)\n"
   ]
  },
  {
   "cell_type": "markdown",
   "metadata": {},
   "source": [
    "## Task 1.2 (List comprehension)"
   ]
  },
  {
   "cell_type": "code",
   "execution_count": null,
   "metadata": {},
   "outputs": [
    {
     "name": "stdout",
     "output_type": "stream",
     "text": [
      "[\n",
      "  {\n",
      "    \"id\": 1,\n",
      "    \"name\": \"John Doe\",\n",
      "    \"email\": \"johndoe@example.com\",\n",
      "    \"isActive\": true,\n",
      "    \"balance\": 150.75\n",
      "  },\n",
      "  {\n",
      "    \"id\": 2,\n",
      "    \"name\": \"Jane Smith\",\n",
      "    \"email\": \"janesmith@example.com\",\n",
      "    \"isActive\": false,\n",
      "    \"balance\": 500.5\n",
      "  },\n",
      "  {\n",
      "    \"id\": 3,\n",
      "    \"name\": \"Emily Jones\",\n",
      "    \"email\": \"emilyjones@example.com\",\n",
      "    \"isActive\": true,\n",
      "    \"balance\": 0.0\n",
      "  }\n",
      "]\n"
     ]
    }
   ],
   "source": [
    "bank_data = \"\"\"\n",
    "[\n",
    "    {\n",
    "        \"id\": 1,\n",
    "        \"name\": \"John Doe\",\n",
    "        \"email\": \"johndoe@example.com\",\n",
    "        \"isActive\": true,\n",
    "        \"balance\": 150.75\n",
    "    },\n",
    "    {\n",
    "        \"id\": 2,\n",
    "        \"name\": \"Jane Smith\",\n",
    "        \"email\": \"janesmith@example.com\",\n",
    "        \"isActive\": false,\n",
    "        \"balance\": 500.50\n",
    "    },\n",
    "    {\n",
    "        \"id\": 3,\n",
    "        \"name\": \"Emily Jones\",\n",
    "        \"email\": \"emilyjones@example.com\",\n",
    "        \"isActive\": true,\n",
    "        \"balance\": 0.00\n",
    "    }\n",
    "]\n",
    "\"\"\"\n",
    "bank_data = json.loads(bank_data)\n",
    "# for person in bank_data:\n",
    "#     if person[\"isActive\"] == True:\n",
    "#         person[\"balance\"] = round(person[\"balance\"] * 1.10, 2)\n",
    "\n",
    "result = [\n",
    "    {**person, \"balance\": round(person[\"balance\"] * 1.10, 2)}\n",
    "    if person[\"isActive\"]\n",
    "    else person\n",
    "    for person in bank_data\n",
    "]\n",
    "result_json = json.dumps(bank_data, indent=2)\n",
    "\n",
    "print(result_json)\n"
   ]
  }
 ],
 "metadata": {
  "kernelspec": {
   "display_name": ".venv",
   "language": "python",
   "name": "python3"
  },
  "language_info": {
   "codemirror_mode": {
    "name": "ipython",
    "version": 3
   },
   "file_extension": ".py",
   "mimetype": "text/x-python",
   "name": "python",
   "nbconvert_exporter": "python",
   "pygments_lexer": "ipython3",
   "version": "3.11.8"
  }
 },
 "nbformat": 4,
 "nbformat_minor": 2
}
