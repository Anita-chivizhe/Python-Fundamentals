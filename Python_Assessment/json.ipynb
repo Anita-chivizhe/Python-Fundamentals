{
 "cells": [
  {
   "cell_type": "code",
   "execution_count": null,
   "metadata": {},
   "outputs": [],
   "source": [
    "product_data = \"\"\"\n",
    "[\n",
    "    {\n",
    "        \"id\": 1,\n",
    "        \"name\": \"Wireless Headphones\",\n",
    "        \"category\": \"Electronics\",\n",
    "        \"inStock\": true,\n",
    "        \"price\": 199.99\n",
    "    },\n",
    "    {\n",
    "        \"id\": 2,\n",
    "        \"name\": \"Bluetooth Speaker\",\n",
    "        \"category\": \"Electronics\",\n",
    "        \"inStock\": false,\n",
    "        \"price\": 99.99\n",
    "    },\n",
    "    {\n",
    "        \"id\": 3,\n",
    "        \"name\": \"Smartwatch\",\n",
    "        \"category\": \"Wearables\",\n",
    "        \"inStock\": true,\n",
    "        \"price\": 149.99\n",
    "    }\n",
    "]\n",
    "\"\"\"\n"
   ]
  },
  {
   "cell_type": "markdown",
   "metadata": {},
   "source": [
    "## Task \n",
    "- For each product that is in stock, reduce the product's price by 7% (i.e., apply a discount) and round off to 2 decimal points.\n",
    "- Save the updated JSON data to a file named \"discounted_products.json\"."
   ]
  },
  {
   "cell_type": "code",
   "execution_count": 17,
   "metadata": {},
   "outputs": [
    {
     "ename": "NameError",
     "evalue": "name 'update_products' is not defined",
     "output_type": "error",
     "traceback": [
      "\u001b[1;31m---------------------------------------------------------------------------\u001b[0m",
      "\u001b[1;31mNameError\u001b[0m                                 Traceback (most recent call last)",
      "Cell \u001b[1;32mIn[17], line 46\u001b[0m\n\u001b[0;32m     36\u001b[0m  disc_product \u001b[38;5;241m=\u001b[39m [\n\u001b[0;32m     37\u001b[0m         {\u001b[38;5;241m*\u001b[39m\u001b[38;5;241m*\u001b[39mproduct, \u001b[38;5;124m\"\u001b[39m\u001b[38;5;124mprice\u001b[39m\u001b[38;5;124m\"\u001b[39m: (product[\u001b[38;5;124m\"\u001b[39m\u001b[38;5;124mprice\u001b[39m\u001b[38;5;124m\"\u001b[39m] \u001b[38;5;241m*\u001b[39m \u001b[38;5;241m0.93\u001b[39m)}\n\u001b[0;32m     38\u001b[0m         \u001b[38;5;28;01mif\u001b[39;00m product[\u001b[38;5;124m\"\u001b[39m\u001b[38;5;124minStock\u001b[39m\u001b[38;5;124m\"\u001b[39m]\n\u001b[0;32m     39\u001b[0m         \u001b[38;5;28;01melse\u001b[39;00m product\n\u001b[0;32m     40\u001b[0m         \u001b[38;5;28;01mfor\u001b[39;00m product \u001b[38;5;129;01min\u001b[39;00m product_data\n\u001b[0;32m     41\u001b[0m     ]\n\u001b[0;32m     42\u001b[0m  \u001b[38;5;28;01mreturn\u001b[39;00m update_products\n\u001b[1;32m---> 46\u001b[0m update_products \u001b[38;5;241m=\u001b[39m \u001b[43mdisc_7_percent\u001b[49m\u001b[43m(\u001b[49m\u001b[43mproduct_data\u001b[49m\u001b[43m)\u001b[49m\n\u001b[0;32m     49\u001b[0m \u001b[38;5;28;01mwith\u001b[39;00m \u001b[38;5;28mopen\u001b[39m(\u001b[38;5;124m\"\u001b[39m\u001b[38;5;124m./discounted_products.json\u001b[39m\u001b[38;5;124m\"\u001b[39m, \u001b[38;5;124m\"\u001b[39m\u001b[38;5;124mw\u001b[39m\u001b[38;5;124m\"\u001b[39m) \u001b[38;5;28;01mas\u001b[39;00m file:\n\u001b[0;32m     50\u001b[0m     json\u001b[38;5;241m.\u001b[39mdump(update_products, file, indent\u001b[38;5;241m=\u001b[39m\u001b[38;5;241m4\u001b[39m)\n",
      "Cell \u001b[1;32mIn[17], line 42\u001b[0m, in \u001b[0;36mdisc_7_percent\u001b[1;34m(product_data)\u001b[0m\n\u001b[0;32m     35\u001b[0m DISCOUNT_RATE \u001b[38;5;241m=\u001b[39m \u001b[38;5;241m0.7\u001b[39m\n\u001b[0;32m     36\u001b[0m disc_product \u001b[38;5;241m=\u001b[39m [\n\u001b[0;32m     37\u001b[0m        {\u001b[38;5;241m*\u001b[39m\u001b[38;5;241m*\u001b[39mproduct, \u001b[38;5;124m\"\u001b[39m\u001b[38;5;124mprice\u001b[39m\u001b[38;5;124m\"\u001b[39m: (product[\u001b[38;5;124m\"\u001b[39m\u001b[38;5;124mprice\u001b[39m\u001b[38;5;124m\"\u001b[39m] \u001b[38;5;241m*\u001b[39m \u001b[38;5;241m0.93\u001b[39m)}\n\u001b[0;32m     38\u001b[0m        \u001b[38;5;28;01mif\u001b[39;00m product[\u001b[38;5;124m\"\u001b[39m\u001b[38;5;124minStock\u001b[39m\u001b[38;5;124m\"\u001b[39m]\n\u001b[0;32m     39\u001b[0m        \u001b[38;5;28;01melse\u001b[39;00m product\n\u001b[0;32m     40\u001b[0m        \u001b[38;5;28;01mfor\u001b[39;00m product \u001b[38;5;129;01min\u001b[39;00m product_data\n\u001b[0;32m     41\u001b[0m    ]\n\u001b[1;32m---> 42\u001b[0m \u001b[38;5;28;01mreturn\u001b[39;00m \u001b[43mupdate_products\u001b[49m\n",
      "\u001b[1;31mNameError\u001b[0m: name 'update_products' is not defined"
     ]
    }
   ],
   "source": [
    "\n",
    "import json\n",
    "product_data = \"\"\"\n",
    "[\n",
    "    {\n",
    "        \"id\": 1,\n",
    "        \"name\": \"Wireless Headphones\",\n",
    "        \"category\": \"Electronics\",\n",
    "        \"inStock\": true,\n",
    "        \"price\": 199.99\n",
    "    },\n",
    "    {\n",
    "        \"id\": 2,\n",
    "        \"name\": \"Bluetooth Speaker\",\n",
    "        \"category\": \"Electronics\",\n",
    "        \"inStock\": false,\n",
    "        \"price\": 99.99\n",
    "    },\n",
    "    {\n",
    "        \"id\": 3,\n",
    "        \"name\": \"Smartwatch\",\n",
    "        \"category\": \"Wearables\",\n",
    "        \"inStock\": true,\n",
    "        \"price\": 149.99\n",
    "    }\n",
    "]\n",
    "\"\"\"\n",
    "\n",
    "\n",
    "products = json.loads(product_data)\n",
    "\n",
    "products\n",
    "\n",
    "def disc_7_percent(product_data):\n",
    " product_data = json.loads(product_data)\n",
    " DISCOUNT_RATE = 0.7\n",
    " disc_product = [\n",
    "        {**product, \"price\": (product[\"price\"] * 0.93)}\n",
    "        if product[\"inStock\"]\n",
    "        else product\n",
    "        for product in product_data\n",
    "    ]\n",
    " return update_products\n",
    "\n",
    "\n",
    "\n",
    "update_products = disc_7_percent(product_data)\n",
    "\n",
    "\n",
    "with open(\"./discounted_products.json\", \"w\") as file:\n",
    "    json.dump(update_products, file, indent=4)\n"
   ]
  },
  {
   "cell_type": "code",
   "execution_count": null,
   "metadata": {},
   "outputs": [],
   "source": [
    "product_data = json.loads(product_data)\n",
    "\n",
    "for product in products:\n",
    "    if product[\"inStock\"]:\n",
    "        product[\"price\"] = round(product[\"price\"] * 0.93, 2)\n",
    "\n",
    "result_json = json.dumps(product_data, indent=2)\n",
    "\n",
    "print(result_json)"
   ]
  },
  {
   "cell_type": "code",
   "execution_count": null,
   "metadata": {},
   "outputs": [],
   "source": [
    "result = [\n",
    "    {**product, \"price\": (product[\"price\"] * 0.93)}\n",
    "    if person[\"inStock\"]\n",
    "    else person\n",
    "    for person in product_data\n",
    "]\n",
    "result_json = json.dumps(product_data, indent=4)\n",
    "\n",
    "print(result_json)\n"
   ]
  },
  {
   "cell_type": "code",
   "execution_count": null,
   "metadata": {},
   "outputs": [],
   "source": [
    "with open (\"discounted_products.json\", \"w\")\n",
    "json.dump(product_data)"
   ]
  },
  {
   "cell_type": "code",
   "execution_count": null,
   "metadata": {},
   "outputs": [],
   "source": [
    "def disc_7_percent(product_data):\n",
    "    # product_data = json.loads(product_data)\n",
    "    DISCOUNT_RATE = 0.7\n",
    "    disc_product = [\n",
    "        {**product, \"price\": (product[\"price\"] * 0.93)}\n",
    "        if product[\"inStock\"]\n",
    "        else product\n",
    "        for pproduct in product_data\n",
    "    ]\n",
    "    return update_products\n",
    "\n",
    "\n",
    "\n",
    "update_products = disc_7_percent(product_data)\n",
    "\n",
    "# with -> close the file\n",
    "with open(\"./discounted_products.json\", \"w\") as file:\n",
    "    # Convert Dict -> JSON & Write to file\n",
    "    json.dump(update_products, file, indent=4)\n"
   ]
  }
 ],
 "metadata": {
  "kernelspec": {
   "display_name": ".venv",
   "language": "python",
   "name": "python3"
  },
  "language_info": {
   "codemirror_mode": {
    "name": "ipython",
    "version": 3
   },
   "file_extension": ".py",
   "mimetype": "text/x-python",
   "name": "python",
   "nbconvert_exporter": "python",
   "pygments_lexer": "ipython3",
   "version": "3.11.8"
  }
 },
 "nbformat": 4,
 "nbformat_minor": 2
}
