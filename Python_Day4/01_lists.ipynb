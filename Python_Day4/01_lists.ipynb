{
 "cells": [
  {
   "cell_type": "markdown",
   "metadata": {},
   "source": [
    "# Intro List \n",
    "- Holds multiple values\n",
    "- Same data types (Recommened)\n",
    "- Methods\n",
    "   - C \n",
    "   - R \n",
    "   - U \n",
    "   - D \n"
   ]
  },
  {
   "cell_type": "code",
   "execution_count": 63,
   "metadata": {},
   "outputs": [
    {
     "name": "stdout",
     "output_type": "stream",
     "text": [
      "13\n"
     ]
    }
   ],
   "source": [
    "x = 3\n",
    "y = 10\n",
    "print(x + y)"
   ]
  },
  {
   "cell_type": "code",
   "execution_count": 64,
   "metadata": {},
   "outputs": [],
   "source": [
    "mark_1 = 90\n",
    "mark_2 = 80\n",
    "mark_3 = 75"
   ]
  },
  {
   "cell_type": "code",
   "execution_count": 65,
   "metadata": {},
   "outputs": [
    {
     "name": "stdout",
     "output_type": "stream",
     "text": [
      "[80, 90, 70, 45, 95] <class 'list'>\n"
     ]
    }
   ],
   "source": [
    "marks = [80, 90, 70, 45, 95 ]\n",
    "print(marks, type(marks))"
   ]
  },
  {
   "cell_type": "code",
   "execution_count": 66,
   "metadata": {},
   "outputs": [
    {
     "name": "stdout",
     "output_type": "stream",
     "text": [
      "[True, 'abc', 6]\n"
     ]
    }
   ],
   "source": [
    "values = [True, \"abc\", 6]\n",
    "print( values)"
   ]
  },
  {
   "cell_type": "code",
   "execution_count": 67,
   "metadata": {},
   "outputs": [
    {
     "name": "stdout",
     "output_type": "stream",
     "text": [
      "70\n"
     ]
    }
   ],
   "source": [
    "marks = [80, 90, 70, 45, 95]\n",
    "print (marks[2])"
   ]
  },
  {
   "cell_type": "code",
   "execution_count": 68,
   "metadata": {},
   "outputs": [
    {
     "name": "stdout",
     "output_type": "stream",
     "text": [
      "95\n",
      "95\n"
     ]
    }
   ],
   "source": [
    "print(marks[-1])\n",
    "print(marks[4])"
   ]
  },
  {
   "cell_type": "code",
   "execution_count": 69,
   "metadata": {},
   "outputs": [
    {
     "name": "stdout",
     "output_type": "stream",
     "text": [
      "[90, 70, 45, 95]\n",
      "[90, 70, 45, 95]\n"
     ]
    }
   ],
   "source": [
    "print(marks[1:5])\n",
    "print(marks[1:])"
   ]
  },
  {
   "cell_type": "code",
   "execution_count": 70,
   "metadata": {},
   "outputs": [
    {
     "data": {
      "text/plain": [
       "['🍎', '🍊', '🍓', '🍍', '🥕', '🥒', '🍆', '🥔']"
      ]
     },
     "execution_count": 70,
     "metadata": {},
     "output_type": "execute_result"
    }
   ],
   "source": [
    "fruits = [\"🍎\", \"🍊\", \"🍓\", \"🍍\"]  # list of strings\n",
    "vegetables = [\"🥕\", \"🥒\", \"🍆\", \"🥔\"]\n",
    "\n",
    "fruits + vegetables"
   ]
  },
  {
   "cell_type": "code",
   "execution_count": 71,
   "metadata": {},
   "outputs": [
    {
     "data": {
      "text/plain": [
       "['🥕', '🥒', '🍆', '🥔', '🥕', '🥒', '🍆', '🥔']"
      ]
     },
     "execution_count": 71,
     "metadata": {},
     "output_type": "execute_result"
    }
   ],
   "source": [
    "vegetables * 2"
   ]
  },
  {
   "cell_type": "code",
   "execution_count": 72,
   "metadata": {},
   "outputs": [
    {
     "data": {
      "text/plain": [
       "4"
      ]
     },
     "execution_count": 72,
     "metadata": {},
     "output_type": "execute_result"
    }
   ],
   "source": [
    "vegetables = [\"carrots 🥕\", \"🥒\", \"🍆\", \"🥔\"]\n",
    "len(vegetables)"
   ]
  },
  {
   "cell_type": "code",
   "execution_count": 73,
   "metadata": {},
   "outputs": [
    {
     "data": {
      "text/plain": [
       "['🍎', '🫐', '🍓', '🍍']"
      ]
     },
     "execution_count": 73,
     "metadata": {},
     "output_type": "execute_result"
    }
   ],
   "source": [
    "fruits = [\"🍎\", \"🍊\", \"🍓\", \"🍍\"]\n",
    "fruits[1] = \"🫐\"\n",
    "fruits"
   ]
  },
  {
   "cell_type": "code",
   "execution_count": 74,
   "metadata": {},
   "outputs": [
    {
     "name": "stdout",
     "output_type": "stream",
     "text": [
      "0 80\n",
      "1 90\n",
      "2 70\n",
      "3 45\n",
      "4 95\n"
     ]
    }
   ],
   "source": [
    "marks = [80, 90, 70, 45, 95]\n",
    "for i in range(5):\n",
    "    print (i, marks[i])"
   ]
  },
  {
   "cell_type": "code",
   "execution_count": 75,
   "metadata": {},
   "outputs": [
    {
     "name": "stdout",
     "output_type": "stream",
     "text": [
      "0 80\n",
      "1 90\n",
      "2 70\n",
      "3 45\n",
      "4 95\n"
     ]
    }
   ],
   "source": [
    "\n",
    "marks = [80, 90, 70, 45, 95]\n",
    "for i in range(len(marks)):\n",
    "    print (i, marks[i])"
   ]
  },
  {
   "cell_type": "markdown",
   "metadata": {},
   "source": [
    "Task 1.1\n",
    "Find the letters in each characters name and stored in a new list\n",
    " \n",
    "```py\n",
    "avengers = [\n",
    "    \"Hulk\",\n",
    "    \"Iron man\",\n",
    "    \"Black widow\",\n",
    "    \"Captain america\",\n",
    "    \"Spider man\",\n",
    "    \"Thor\",\n",
    "]\n",
    "```"
   ]
  },
  {
   "cell_type": "code",
   "execution_count": 76,
   "metadata": {},
   "outputs": [
    {
     "data": {
      "text/plain": [
       "['Hulk', 'Spider man', 'Black widow', 'Captain america', 'Spider man', 'Thor']"
      ]
     },
     "execution_count": 76,
     "metadata": {},
     "output_type": "execute_result"
    }
   ],
   "source": [
    "avengers = [\n",
    "    \"Hulk\",\n",
    "    \"Spider man\",\n",
    "    \"Iron man\",\n",
    "    \"Black widow\",\n",
    "    \"Captain america\",\n",
    "    \"Spider man\",\n",
    "    \"Thor\",\n",
    "]\n",
    "\n",
    "avengers.pop(2)\n",
    "avengers"
   ]
  },
  {
   "cell_type": "code",
   "execution_count": 77,
   "metadata": {},
   "outputs": [
    {
     "data": {
      "text/plain": [
       "['Hulk', 'Iron man', 'Black widow', 'Captain america', 'Spider man', 'Thor']"
      ]
     },
     "execution_count": 77,
     "metadata": {},
     "output_type": "execute_result"
    }
   ],
   "source": [
    "avengers = [\n",
    "    \"Hulk\",\n",
    "    \"Spider man\",\n",
    "    \"Iron man\",\n",
    "    \"Black widow\",\n",
    "    \"Captain america\",\n",
    "    \"Spider man\",\n",
    "    \"Thor\",\n",
    "]\n",
    "\n",
    "avengers.remove(\"Spider man\")\n",
    "avengers\n"
   ]
  },
  {
   "cell_type": "code",
   "execution_count": 78,
   "metadata": {},
   "outputs": [
    {
     "data": {
      "text/plain": [
       "[4, 8, 11, 15, 10, 4]"
      ]
     },
     "execution_count": 78,
     "metadata": {},
     "output_type": "execute_result"
    }
   ],
   "source": [
    "# Tak 1.1\n",
    "avengers = [\n",
    "    \"Hulk\",\n",
    "    \"Iron man\",\n",
    "    \"Black widow\",\n",
    "    \"Captain america\",\n",
    "    \"Spider man\",\n",
    "    \"Thor\",\n",
    "]\n",
    "result = [] # new list\n",
    "\n",
    "for name in range(len(avengers)): # for loop\n",
    "    count = (len(avengers[name])) # counts the no. elements in name\n",
    "    result.append(count) # new list was empty so we append to populate with count\n",
    "result"
   ]
  },
  {
   "cell_type": "code",
   "execution_count": 79,
   "metadata": {},
   "outputs": [
    {
     "data": {
      "text/plain": [
       "['Black widow', 'Captain america', 'Spider man']"
      ]
     },
     "execution_count": 79,
     "metadata": {},
     "output_type": "execute_result"
    }
   ],
   "source": [
    "#Task 1.2\n",
    "\n",
    "avengers = [\n",
    "    \"Hulk\",\n",
    "    \"Iron man\",\n",
    "    \"Black widow\",\n",
    "    \"Captain america\",\n",
    "    \"Spider man\",\n",
    "    \"Thor\",\n",
    "]\n",
    "result = []  # new list\n",
    "\n",
    "for name in range(len(avengers)):  # for loop\n",
    "    count = len(avengers[name])  # counts the no. elements in name\n",
    "    if (count >= 10): #if lenght count is greater than or equal to 10\n",
    "        result.append(avengers[name])  # new list was empty so we append to populate with count\n",
    "result"
   ]
  },
  {
   "cell_type": "markdown",
   "metadata": {},
   "source": [
    "## Task 2.1\n",
    " \n",
    "Calculate the total of shopping_items & apply tax of 10%\n",
    " \n",
    "```py\n",
    "shopping_items = [1000, 5000,  4000, 2000, 3000]\n",
    "```\n",
    " \n",
    " \n",
    "Expected Output\n",
    " \n",
    "```\n",
    "Your total is R15000\n",
    "Tax is 10%      R1500\n",
    "Your grand total is R16500\n",
    "```\n",
    " "
   ]
  },
  {
   "cell_type": "code",
   "execution_count": 80,
   "metadata": {},
   "outputs": [
    {
     "name": "stdout",
     "output_type": "stream",
     "text": [
      "\n",
      "Your total is R15000\n",
      "Tax is 10% R1500.0\n",
      "Your grand total is R16500.0\n",
      "\n"
     ]
    }
   ],
   "source": [
    "shopping_items = [1000, 5000, 4000, 2000, 3000]\n",
    "total = 0\n",
    "\n",
    "for item in shopping_items:\n",
    "    total += item\n",
    "\n",
    "tax = total * 0.1\n",
    "\n",
    "grand_total = total + tax\n",
    "\n",
    "print(f\"\"\"\n",
    "Your total is R{total}\n",
    "Tax is 10% R{tax}\n",
    "Your grand total is R{grand_total}\n",
    "\"\"\")"
   ]
  },
  {
   "cell_type": "code",
   "execution_count": 81,
   "metadata": {},
   "outputs": [
    {
     "data": {
      "text/plain": [
       "16500.0"
      ]
     },
     "execution_count": 81,
     "metadata": {},
     "output_type": "execute_result"
    }
   ],
   "source": [
    "shopping_items = [1_000, 5_000, 4_000, 2_000, 3_000]\n",
    "total = 0\n",
    "\n",
    "for item in shopping_items:\n",
    "    total += item\n",
    "\n",
    "tax = total * 0.1\n",
    "\n",
    "grand_total = total + tax\n",
    "\n",
    "total\n",
    "tax\n",
    "grand_total"
   ]
  },
  {
   "cell_type": "markdown",
   "metadata": {},
   "source": [
    "powers = [90, 80, 50, 65]\n",
    " \n",
    "# Simple for loop\n",
    "for power in powers:\n",
    "    print(power, power*2)\n",
    " "
   ]
  },
  {
   "cell_type": "code",
   "execution_count": 82,
   "metadata": {},
   "outputs": [
    {
     "name": "stdout",
     "output_type": "stream",
     "text": [
      "180\n",
      "160\n",
      "100\n",
      "130\n"
     ]
    }
   ],
   "source": [
    "powers = [90, 80, 50, 65]\n",
    "\n",
    "for power in powers:\n",
    "    print(power*2)"
   ]
  },
  {
   "cell_type": "markdown",
   "metadata": {},
   "source": [
    "scrambled_message = \"world the save to time no is there\"\n",
    " \n",
    "# Output\n",
    "# there is no time to save the world\n",
    " "
   ]
  },
  {
   "cell_type": "code",
   "execution_count": 83,
   "metadata": {},
   "outputs": [
    {
     "name": "stdout",
     "output_type": "stream",
     "text": [
      "there is no time to save the world\n"
     ]
    }
   ],
   "source": [
    "scrambled_message = \"world the save to time no is there\"\n",
    "\n",
    "list = scrambled_message.split(\" \")\n",
    "reversed_list= \" \".join(list[::-1])\n",
    "print(reversed_list)"
   ]
  },
  {
   "cell_type": "markdown",
   "metadata": {},
   "source": [
    "# Task 1.2\n",
    "\n",
    "```py\n",
    "playlist = \"🎵Dancing Queen;🎸Sweet Child O' Mine;🎹Piano Man;🎤Bohemian Rhapsody;🎺All That Jazz\"\n",
    "```\n",
    "\n",
    "## Output\n",
    "My favorite playlist:\n",
    "1. 🎵Dancing Queen\n",
    "2. 🎸Sweet Child O' Mine\n",
    "3. 🎹Piano Man\n",
    "4. 🎤Bohemian Rhapsody\n",
    "5. 🎺All That Jazz"
   ]
  },
  {
   "cell_type": "code",
   "execution_count": 84,
   "metadata": {},
   "outputs": [
    {
     "name": "stdout",
     "output_type": "stream",
     "text": [
      "My favourite playlist is: \n",
      "1.🎵Dancing Queen\n",
      "2.🎸Sweet Child O' Mine\n",
      "3.🎹Piano Man\n",
      "4.🎤Bohemian Rhapsody\n",
      "5.🎺All That Jazz\n"
     ]
    }
   ],
   "source": [
    "playlist = \"🎵Dancing Queen;🎸Sweet Child O' Mine;🎹Piano Man;🎤Bohemian Rhapsody;🎺All That Jazz\"\n",
    "print(\"My favourite playlist is: \")\n",
    "\n",
    "string = playlist.split(';')\n",
    "for s in range(len(string)):\n",
    "    print(f\"{s+1}.{string[s]}\")"
   ]
  },
  {
   "cell_type": "code",
   "execution_count": 85,
   "metadata": {},
   "outputs": [
    {
     "name": "stdout",
     "output_type": "stream",
     "text": [
      "1 2 3\n"
     ]
    }
   ],
   "source": [
    "marks = [1, 2, 3]\n",
    "m1,m2,m3 = marks\n",
    "print(m1,m2,m3)"
   ]
  },
  {
   "cell_type": "code",
   "execution_count": null,
   "metadata": {},
   "outputs": [
    {
     "name": "stdout",
     "output_type": "stream",
     "text": [
      "[5.0, 13.42, 16.4]\n"
     ]
    }
   ],
   "source": [
    "#Task 1.1(without unpacking)\n",
    "from math import sqrt\n",
    "\n",
    "\n",
    "points = [(3, 4), (6, 12), (10, 13)]\n",
    "distance_1 = []\n",
    "\n",
    "for point in points:\n",
    "    distance = (point[0]**2 + point[1]**2)**0.5\n",
    "    distance_1.append(round(distance, 2))\n",
    "\n",
    "\n",
    "print(distance_1)"
   ]
  },
  {
   "cell_type": "code",
   "execution_count": 87,
   "metadata": {},
   "outputs": [
    {
     "name": "stdout",
     "output_type": "stream",
     "text": [
      "5.0 13.42 16.4\n"
     ]
    }
   ],
   "source": [
    "# Task 1.2 (with unpacking)\n",
    "\n",
    "points = [(3, 4), (6, 12), (10, 13)]\n",
    "distance_2 = []\n",
    "\n",
    "for x,y in points:\n",
    "    distance = (x ** 2 + y ** 2)**0.5\n",
    "    distance_2.append(round(distance, 2))\n",
    "\n",
    "print(*distance_2)"
   ]
  },
  {
   "cell_type": "markdown",
   "metadata": {},
   "source": [
    "## Task 1.1\n",
    "Please provide the list of book titles\n",
    "\n",
    "\n",
    "```python\n",
    "books = [\n",
    "    {\"title\": \"Infinite Jest\", \"rating\": 4.5, \"genre\": \"Fiction\"},\n",
    "    {\"title\": \"The Catcher in the Rye\", \"rating\": 3.9, \"genre\": \"Fiction\"},\n",
    "    {\"title\": \"Sapiens\", \"rating\": 4.9, \"genre\": \"History\"},\n",
    "    {\"title\": \"A Brief History of Time\", \"rating\": 4.8, \"genre\": \"Science\"},\n",
    "    {\"title\": \"Clean Code\", \"rating\": 4.7, \"genre\": \"Technology\"},\n",
    "]\n",
    "\n",
    "```\n",
    "\n",
    "### Expected Output\n",
    "```\n",
    "[\"Infinite Jest\",  \"The Catcher in the Rye\", \"Sapiens\",  \"A Brief History of Time\",  \"Clean Code\"]\n",
    "```"
   ]
  },
  {
   "cell_type": "code",
   "execution_count": null,
   "metadata": {},
   "outputs": [
    {
     "name": "stdout",
     "output_type": "stream",
     "text": [
      "['Fiction', 'Fiction']\n"
     ]
    }
   ],
   "source": [
    "books = [\n",
    "    {\"title\": \"Infinite Jest\", \"rating\": 4.5, \"genre\": \"Fiction\"},\n",
    "    {\"title\": \"The Catcher in the Rye\", \"rating\": 3.9, \"genre\": \"Fiction\"},\n",
    "    {\"title\": \"Sapiens\", \"rating\": 4.9, \"genre\": \"History\"},\n",
    "    {\"title\": \"A Brief History of Time\", \"rating\": 4.8, \"genre\": \"Science\"},\n",
    "    {\"title\": \"Clean Code\", \"rating\": 4.7, \"genre\": \"Technology\"}\n",
    "]\n",
    "book_genre = []\n",
    "\n",
    "for book in books:\n",
    " if book[\"genre\"] == \"Fiction\":\n",
    "    book_genre.append(book[\"genre\"])\n",
    "\n",
    "print(book_genre)"
   ]
  },
  {
   "cell_type": "code",
   "execution_count": null,
   "metadata": {},
   "outputs": [
    {
     "name": "stdout",
     "output_type": "stream",
     "text": [
      "Infinite Jest , The Catcher in the Rye , Sapiens , A Brief History of Time , Clean Code\n"
     ]
    }
   ],
   "source": [
    "\n",
    "books = [\n",
    "    {\"title\": \"Infinite Jest\", \"rating\": 4.5, \"genre\": \"Fiction\"},\n",
    "    {\"title\": \"The Catcher in the Rye\", \"rating\": 3.9, \"genre\": \"Fiction\"},\n",
    "    {\"title\": \"Sapiens\", \"rating\": 4.9, \"genre\": \"History\"},\n",
    "    {\"title\": \"A Brief History of Time\", \"rating\": 4.8, \"genre\": \"Science\"},\n",
    "    {\"title\": \"Clean Code\", \"rating\": 4.7, \"genre\": \"Technology\"},\n",
    "]\n",
    "book_titles =[]\n",
    "for book in books:\n",
    "  book_titles.append(book[\"title\"])\n",
    "\n",
    "print(' , '.join(book_titles))"
   ]
  },
  {
   "cell_type": "code",
   "execution_count": null,
   "metadata": {},
   "outputs": [],
   "source": [
    "books = [\n",
    "    {\"title\": \"Infinite Jest\", \"rating\": 4.5, \"genre\": \"Fiction\"},\n",
    "    {\"title\": \"The Catcher in the Rye\", \"rating\": 3.9, \"genre\": \"Fiction\"},\n",
    "    {\"title\": \"Sapiens\", \"rating\": 4.9, \"genre\": \"History\"},\n",
    "    {\"title\": \"A Brief History of Time\", \"rating\": 4.8, \"genre\": \"Science\"},\n",
    "    {\"title\": \"Clean Code\", \"rating\": 4.7, \"genre\": \"Technology\"},\n",
    "]\n",
    "fiction_titles = []\n",
    "\n",
    "for book in books:\n",
    "    if book[\"genre\"].lower == \"fiction\":\n",
    "        fiction_titles.append(book[\"title\"])\n"
   ]
  },
  {
   "cell_type": "code",
   "execution_count": null,
   "metadata": {},
   "outputs": [],
   "source": []
  },
  {
   "cell_type": "code",
   "execution_count": 91,
   "metadata": {},
   "outputs": [
    {
     "name": "stdout",
     "output_type": "stream",
     "text": [
      "Infinite Jest Fiction 4.5\n",
      "Sapiens History 4.9\n",
      "A Brief History of Time Science 4.8\n",
      "Clean Code Technology 4.7\n",
      "The highest rated book is Clean Code with a rating of 4.7\n"
     ]
    }
   ],
   "source": [
    "books = [\n",
    "    {\"title\": \"Infinite Jest\", \"rating\": 4.5, \"genre\": \"Fiction\"},\n",
    "    {\"title\": \"The Catcher in the Rye\", \"rating\": 3.9, \"genre\": \"Fiction\"},\n",
    "    {\"title\": \"Sapiens\", \"rating\": 4.9, \"genre\": \"History\"},\n",
    "    {\"title\": \"A Brief History of Time\", \"rating\": 4.8, \"genre\": \"Science\"},\n",
    "    {\"title\": \"Clean Code\", \"rating\": 4.7, \"genre\": \"Technology\"},\n",
    "]\n",
    "\n",
    "\n",
    "highest_rated_book = []\n",
    "for book in books:\n",
    "    if book[\"rating\"] >= 4:\n",
    "        highest_rate= book[\"rating\"]\n",
    "        highest_rated_book = book\n",
    "        print(book[\"title\"], highest_rated_book[\"genre\"], book[\"rating\"])\n",
    "\n",
    "print(f\"The highest rated book is {highest_rated_book['title']} with a rating of {highest_rated_book['rating']}\")"
   ]
  },
  {
   "cell_type": "code",
   "execution_count": 111,
   "metadata": {},
   "outputs": [
    {
     "name": "stdout",
     "output_type": "stream",
     "text": [
      "The highest rated books are: Infinite Jest , Sapiens , A Brief History of Time and Clean Code\n"
     ]
    }
   ],
   "source": [
    "\n",
    "books = [\n",
    "    {\"title\": \"Infinite Jest\", \"rating\": 5, \"genre\": \"Fiction\"},\n",
    "    {\"title\": \"The Catcher in the Rye\", \"rating\": 3.9, \"genre\": \"Fiction\"},\n",
    "    {\"title\": \"Sapiens\", \"rating\": 4.9, \"genre\": \"History\"},\n",
    "    {\"title\": \"A Brief History of Time\", \"rating\": 4.8, \"genre\": \"Science\"},\n",
    "    {\"title\": \"Clean Code\", \"rating\": 4.7, \"genre\": \"Technology\"},\n",
    "]\n",
    "\n",
    "highest_rate = 0\n",
    "highest_rated_book = []\n",
    "for book in books:\n",
    "    if book[\"rating\"] >= 4.7:\n",
    "        highest_rate = book[\"rating\"]\n",
    "        highest_rated_book.append(book[\"title\"])\n",
    "\n",
    "print(f\"The highest rated books are: {' , '.join(highest_rated_book[0:-1])} and {highest_rated_book[-1]}\")\n"
   ]
  },
  {
   "cell_type": "code",
   "execution_count": null,
   "metadata": {},
   "outputs": [
    {
     "name": "stdout",
     "output_type": "stream",
     "text": [
      "The highest rated books are: Infinite Jest , A Brief History of Time and Clean Code\n"
     ]
    }
   ],
   "source": [
    "\n",
    "books = [\n",
    "    {\"title\": \"Infinite Jest\", \"rating\": 4.9, \"genre\": \"Fiction\"},\n",
    "    {\"title\": \"The Catcher in the Rye\", \"rating\": 3.9, \"genre\": \"Fiction\"},\n",
    "    {\"title\": \"Sapiens\", \"rating\": 0.9, \"genre\": \"History\"},\n",
    "    {\"title\": \"A Brief History of Time\", \"rating\": 4.8, \"genre\": \"Science\"},\n",
    "    {\"title\": \"Clean Code\", \"rating\": 4.7, \"genre\": \"Technology\"},\n",
    "]\n",
    "\n",
    "highest_rate = 0\n",
    "highest_rated_book = []\n",
    "lowest_rated_book = []\n",
    "for book in books:\n",
    "    if book[\"rating\"] >= 4.7:\n",
    "        highest_rate = book[\"rating\"]\n",
    "        highest_rated_book.append(book[\"title\"])\n",
    "\n",
    "if len(highest_rated_book) ==0:\n",
    "    print(\"There are no highly rated books\")\n",
    "elif len(highest_rated_book) == 1:\n",
    "     print(f\"Highest rated book is: {highest_rated_book[0]}\")\n",
    "else:\n",
    "    lowest_rated_book = \" , \".join(highest_rated_book[:-1])\n",
    "    print(f\"The highest rated books are: {' , '.join(highest_rated_book[0:-1])} and {highest_rated_book[-1]}\")\n"
   ]
  }
 ],
 "metadata": {
  "kernelspec": {
   "display_name": ".venv",
   "language": "python",
   "name": "python3"
  },
  "language_info": {
   "codemirror_mode": {
    "name": "ipython",
    "version": 3
   },
   "file_extension": ".py",
   "mimetype": "text/x-python",
   "name": "python",
   "nbconvert_exporter": "python",
   "pygments_lexer": "ipython3",
   "version": "3.11.8"
  }
 },
 "nbformat": 4,
 "nbformat_minor": 2
}
