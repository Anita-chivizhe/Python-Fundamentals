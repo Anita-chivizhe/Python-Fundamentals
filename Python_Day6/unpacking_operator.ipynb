{
 "cells": [
  {
   "cell_type": "code",
   "execution_count": 13,
   "metadata": {},
   "outputs": [
    {
     "name": "stdout",
     "output_type": "stream",
     "text": [
      "True\n",
      "False\n"
     ]
    }
   ],
   "source": [
    "t1 = (100, 200)\n",
    "t2 = (100, 200)\n",
    "t3 = t1\n",
    "\n",
    "print(t3 is t1)\n",
    "print(t1 is t2)"
   ]
  },
  {
   "cell_type": "code",
   "execution_count": null,
   "metadata": {},
   "outputs": [
    {
     "data": {
      "text/plain": [
       "{'job': 'Sanlam', 'country': 'SA', 'age': 20, 'name': 'Jamie'}"
      ]
     },
     "execution_count": 7,
     "metadata": {},
     "output_type": "execute_result"
    }
   ],
   "source": [
    "student = {\"name\": \"Jamie\", \"age\": 20}\n",
    "detail = {\"job\": \"Sanlam\", \"country\": \"SA\", \"age\": 19}\n",
    "\n",
    "all_details = {\n",
    "\n",
    "    **detail, **student,\n",
    "}  # ** -> unpacking operator\n",
    "\n",
    "all_details\n"
   ]
  }
 ],
 "metadata": {
  "kernelspec": {
   "display_name": ".venv",
   "language": "python",
   "name": "python3"
  },
  "language_info": {
   "codemirror_mode": {
    "name": "ipython",
    "version": 3
   },
   "file_extension": ".py",
   "mimetype": "text/x-python",
   "name": "python",
   "nbconvert_exporter": "python",
   "pygments_lexer": "ipython3",
   "version": "3.11.8"
  }
 },
 "nbformat": 4,
 "nbformat_minor": 2
}
