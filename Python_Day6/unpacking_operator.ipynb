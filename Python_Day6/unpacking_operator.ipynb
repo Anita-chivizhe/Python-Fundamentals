{
 "cells": [
  {
   "cell_type": "markdown",
   "metadata": {},
   "source": [
    "m1, *t1 , m2 = [80, 90, 70, 45, 95] \n",
    "\n",
    "\n",
    "print(t1, type(t1)) # * -> unpacking operator"
   ]
  },
  {
   "cell_type": "code",
   "execution_count": null,
   "metadata": {},
   "outputs": [],
   "source": [
    "t1 = [100, 200]\n",
    "t2 = [300, 400]\n",
    "\n",
    "t3 = t1 + t2\n",
    "\n",
    "# [100, 200, 300, 400]\n",
    "\n",
    "t3\n"
   ]
  },
  {
   "cell_type": "code",
   "execution_count": null,
   "metadata": {},
   "outputs": [],
   "source": [
    "t1 = [100, 200]\n",
    "t2 = [300, 400]\n",
    "\n",
    "t3 = t1.copy() + t2.copy()\n",
    "\n",
    "# [100, 200, 300, 400]\n",
    "\n",
    "t3\n"
   ]
  },
  {
   "cell_type": "code",
   "execution_count": null,
   "metadata": {},
   "outputs": [],
   "source": [
    "t1 = [100, 200]\n",
    "t2 = [300, 400]\n",
    "\n",
    "t1.extend(t2)\n",
    "\n",
    "t1\n"
   ]
  },
  {
   "cell_type": "code",
   "execution_count": null,
   "metadata": {},
   "outputs": [],
   "source": [
    "t1 = [100, 200]\n",
    "t2 = [300, 400]\n",
    "t3 = [*t1]  # copy\n",
    "\n",
    "t3\n"
   ]
  }
 ],
 "metadata": {
  "kernelspec": {
   "display_name": ".venv",
   "language": "python",
   "name": "python3"
  },
  "language_info": {
   "name": "python",
   "version": "3.11.8"
  }
 },
 "nbformat": 4,
 "nbformat_minor": 2
}
