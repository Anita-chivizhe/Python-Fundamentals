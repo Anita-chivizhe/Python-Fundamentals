{
 "cells": [
  {
   "cell_type": "markdown",
   "metadata": {},
   "source": [
    "# Task 1 - With List Comp\n",
    "# Output\n",
    "# [\"Inception\", \"Interstellar\", \"Dunkirk\", \"The Dark Knight\", \"Memento\"]\n",
    "movies = [\n",
    "    {\n",
    "        \"title\": \"Inception\",\n",
    "        \"ratings\": [5, 4, 5, 4, 5]\n",
    "    },\n",
    "    {\n",
    "        \"title\": \"Interstellar\",\n",
    "        \"ratings\": [5, 5, 4, 5, 4]\n",
    "    },\n",
    "    {\n",
    "        \"title\": \"Dunkirk\",\n",
    "        \"ratings\": [4, 4, 4, 3, 4]\n",
    "    },\n",
    "    {\n",
    "        \"title\": \"The Dark Knight\",\n",
    "        \"ratings\": [5, 5, 5, 5, 5]\n",
    "    },\n",
    "    {\n",
    "        \"title\": \"Memento\",\n",
    "        \"ratings\": [4, 5, 4, 5, 4]\n",
    "    },\n",
    "]\n"
   ]
  },
  {
   "cell_type": "code",
   "execution_count": null,
   "metadata": {},
   "outputs": [],
   "source": [
    "movies = [\n",
    "    {\"title\": \"Inception\", \"ratings\": [5, 4, 5, 4, 5]},\n",
    "    {\"title\": \"Interstellar\", \"ratings\": [5, 5, 4, 5, 4]},\n",
    "    {\"title\": \"Dunkirk\", \"ratings\": [4, 4, 4, 3, 4]},\n",
    "    {\"title\": \"The Dark Knight\", \"ratings\": [5, 5, 5, 5, 5]},\n",
    "    {\"title\": \"Memento\", \"ratings\": [4, 5, 4, 5, 4]},\n",
    "]\n",
    "\n",
    "movie_tittles = []\n",
    "for movie in movies:\n",
    "   movie_tittles.append(movie[\"title\"])\n",
    "\n",
    "print(movie_tittles)"
   ]
  },
  {
   "cell_type": "code",
   "execution_count": null,
   "metadata": {},
   "outputs": [],
   "source": [
    "movies = [\n",
    "    {\"title\": \"Inception\", \"ratings\": [5, 4, 5, 4, 5]},\n",
    "    {\"title\": \"Interstellar\", \"ratings\": [5, 5, 4, 5, 4]},\n",
    "    {\"title\": \"Dunkirk\", \"ratings\": [4, 4, 4, 3, 4]},\n",
    "    {\"title\": \"The Dark Knight\", \"ratings\": [5, 5, 5, 5, 5]},\n",
    "    {\"title\": \"Memento\", \"ratings\": [4, 5, 4, 5, 4]},\n",
    "]\n",
    "\n",
    "movie_tittles = [(movie[\"title\"]) for movie in movies]\n",
    "print(movie_tittles)"
   ]
  },
  {
   "cell_type": "code",
   "execution_count": null,
   "metadata": {},
   "outputs": [],
   "source": [
    "movies = [\n",
    "    {\"title\": \"Inception\", \"ratings\": [5, 4, 5, 4, 5]},\n",
    "    {\"title\": \"Interstellar\", \"ratings\": [5, 5, 4, 5, 4]},\n",
    "    {\"title\": \"Dunkirk\", \"ratings\": [4, 4, 4, 3, 4]},\n",
    "    {\"title\": \"The Dark Knight\", \"ratings\": [5, 5, 5, 5, 5]},\n",
    "    {\"title\": \"Memento\", \"ratings\": [4, 5, 4, 5, 4]},\n",
    "]\n",
    "\n",
    "average_ratings = []\n",
    "for movie in movies:\n",
    "    ratings = movie[\"ratings\"]\n",
    "    avg = sum(ratings)/len(ratings)\n",
    "    average_ratings.append(avg)\n",
    "\n",
    "print(average_ratings)\n"
   ]
  },
  {
   "cell_type": "code",
   "execution_count": null,
   "metadata": {},
   "outputs": [],
   "source": [
    "movies = [\n",
    "    {\"title\": \"Inception\", \"ratings\": [5, 4, 5, 4, 5]},\n",
    "    {\"title\": \"Interstellar\", \"ratings\": [5, 5, 4, 5, 4]},\n",
    "    {\"title\": \"Dunkirk\", \"ratings\": [4, 4, 4, 3, 4]},\n",
    "    {\"title\": \"The Dark Knight\", \"ratings\": [5, 5, 5, 5, 5]},\n",
    "    {\"title\": \"Memento\", \"ratings\": [4, 5, 4, 5, 4]},\n",
    "]\n",
    "\n",
    "average_ratings = [sum(movie[\"ratings\"]) / len(movie[\"ratings\"]) for movie in movies]\n",
    "print(average_ratings)"
   ]
  },
  {
   "cell_type": "markdown",
   "metadata": {},
   "source": [
    "## Task 1.3 \n",
    "Don't modify original movies list\n",
    "\n",
    "### Output\n",
    "\n",
    "```py\n",
    "[\n",
    "    {\n",
    "        \"title\": \"Inception\",\n",
    "        \"ratings\": [5, 4, 5, 4, 5],\n",
    "        \"average_rating\": 4.6\n",
    "    },\n",
    "    {\n",
    "        \"title\": \"Interstellar\",\n",
    "        \"ratings\": [5, 5, 4, 5, 4],\n",
    "        \"average_rating\": 4.2\n",
    "    },\n",
    "    {\n",
    "        \"title\": \"Dunkirk\",\n",
    "        \"ratings\": [4, 4, 4, 3, 4],\n",
    "        \"average_rating\": 4.1\n",
    "    },\n",
    "    {\n",
    "        \"title\": \"The Dark Knight\",\n",
    "        \"ratings\": [5, 5, 5, 5, 5],\n",
    "        \"average_rating\": 5\n",
    "    },\n",
    "    {\n",
    "        \"title\": \"Memento\",\n",
    "        \"ratings\": [4, 5, 4, 5, 4],\n",
    "        \"average_rating\": 4.2\n",
    "    },\n",
    "]\n",
    "```"
   ]
  },
  {
   "cell_type": "code",
   "execution_count": null,
   "metadata": {},
   "outputs": [],
   "source": [
    "\n",
    "\n",
    "\n",
    "movies = [\n",
    "    {\"title\": \"Inception\", \"ratings\": [5, 4, 5, 4, 5]},\n",
    "    {\"title\": \"Interstellar\", \"ratings\": [5, 5, 4, 5, 4]},\n",
    "    {\"title\": \"Dunkirk\", \"ratings\": [4, 4, 4, 3, 4]},\n",
    "    {\"title\": \"The Dark Knight\", \"ratings\": [5, 5, 5, 5, 5]},\n",
    "    {\"title\": \"Memento\", \"ratings\": [4, 5, 4, 5, 4]},\n",
    "]\n",
    "\n",
    "updated_movies = []\n",
    "for movie in movies:\n",
    "    avg = sum(ratings) / len(ratings)\n",
    "    updated_movie = movie.copy()\n",
    "    updated_movie[\"average_rating\"] = avg\n",
    "    updated_movies.append(updated_movie)\n",
    "print(updated_movies)"
   ]
  },
  {
   "cell_type": "code",
   "execution_count": null,
   "metadata": {},
   "outputs": [],
   "source": [
    "movies = [\n",
    "    {\"title\": \"Inception\", \"ratings\": [5, 4, 5, 4, 5]},\n",
    "    {\"title\": \"Interstellar\", \"ratings\": [5, 5, 4, 5, 4]},\n",
    "    {\"title\": \"Dunkirk\", \"ratings\": [4, 4, 4, 3, 4]},\n",
    "    {\"title\": \"The Dark Knight\", \"ratings\": [5, 5, 5, 5, 5]},\n",
    "    {\"title\": \"Memento\", \"ratings\": [4, 5, 4, 5, 4]},\n",
    "]\n",
    "\n",
    "updated_movies = [{**movie, \"average_ratings\": sum(movie[\"ratings\"]) / len(movie[\"ratings\"])} for movie in movies]\n",
    "print(updated_movies)"
   ]
  },
  {
   "cell_type": "code",
   "execution_count": null,
   "metadata": {},
   "outputs": [],
   "source": [
    "movies = [\n",
    "    {\"title\": \"Inception\", \"ratings\": [5, 4, 5, 4, 5]},\n",
    "    {\"title\": \"Interstellar\", \"ratings\": [5, 5, 4, 5, 4]},\n",
    "    {\"title\": \"Dunkirk\", \"ratings\": [4, 4, 4, 3, 4]},\n",
    "    {\"title\": \"The Dark Knight\", \"ratings\": [5, 5, 5, 5, 5]},\n",
    "    {\"title\": \"Memento\", \"ratings\": [4, 5, 4, 5, 4]},\n",
    "]\n",
    "\n",
    "updated_movies = [\n",
    "    {movie[\"title\"], \"average_ratings\": sum(movie[\"ratings\"]) / len(movie[\"ratings\"])}\n",
    "    for movie in movies\n",
    "]\n",
    "print(updated_movies)\n"
   ]
  },
  {
   "cell_type": "markdown",
   "metadata": {},
   "source": [
    "## Task 1.4\n",
    "Need top rated movies: average_rating >= 4.6\n",
    "\n",
    "### Output\n",
    "`[\"Inception\", \"The Dark Knight\"]`\n"
   ]
  },
  {
   "cell_type": "code",
   "execution_count": null,
   "metadata": {},
   "outputs": [],
   "source": [
    "movies = [\n",
    "    {\"title\": \"Inception\", \"ratings\": [5, 4, 5, 4, 5]},\n",
    "    {\"title\": \"Interstellar\", \"ratings\": [5, 5, 4, 5, 4]},\n",
    "    {\"title\": \"Dunkirk\", \"ratings\": [4, 4, 4, 3, 4]},\n",
    "    {\"title\": \"The Dark Knight\", \"ratings\": [5, 5, 5, 5, 5]},\n",
    "    {\"title\": \"Memento\", \"ratings\": [4, 5, 4, 5, 4]},\n",
    "]\n",
    "\n",
    "updated_movies = [\n",
    "    {**movie, \"average_ratings\": sum(movie[\"ratings\"]) / len(movie[\"ratings\"])}\n",
    "    for movie in movies\n",
    "    if sum(movie[\"ratings\"]) / len(movie[\"ratings\"]) >= 4.6\n",
    "]\n",
    "print([movie[\"title\"] for movie in updated_movies])\n"
   ]
  },
  {
   "cell_type": "code",
   "execution_count": null,
   "metadata": {},
   "outputs": [],
   "source": [
    "captain_america = {\n",
    "    \"name\": \"Steve Rogers 🦸‍♂️\",\n",
    "    \"age\": 100,\n",
    "    \"height\": 185,\n",
    "    \"address\": {\"city\": \"Brooklyn\", \"country\": \"US\"},\n",
    "}\n",
    "\n",
    "\n",
    "spiderman = {\n",
    "    \"name\": \"Peter Parker\",\n",
    "    \"age\": 18,\n",
    "    \"team_name\": \"Avengers\",\n",
    "    \"team\": [\"Iron Man\", \"Thor\", \"Hulk\", \"Captain America\"],\n",
    "}\n",
    "\n",
    "hulk = {\n",
    "    \"name\": \"Bruce Banner\",\n",
    "    \"age\": 35,\n",
    "}\n",
    "\n",
    "heroes = [captain_america, spiderman, hulk]\n",
    "\n",
    "for hero in heroes:\n",
    "    name = hero.get(\"name\")\n",
    "    city = hero.get(\"address\", {}).get(\"city\")\n",
    "    if city != None:\n",
    "        print(f\"{name} lives in {city}\")\n",
    "    else:\n",
    "        print(f\"{name} location is Top Secret 🔒\")\n"
   ]
  },
  {
   "cell_type": "markdown",
   "metadata": {},
   "source": [
    "# Task\n",
    "# Creating the below dictionary with for loop\n",
    "\n",
    "{\"1\": 1, \"2\": 4, \"3\": 9, \"4\": 16, \"5\": 25}\n"
   ]
  },
  {
   "cell_type": "code",
   "execution_count": null,
   "metadata": {},
   "outputs": [],
   "source": [
    "new_dictionary = {}\n",
    "for i in range(1,6):\n",
    "    new_dictionary[str(i)] = i **2\n",
    "\n",
    "print(new_dictionary)"
   ]
  },
  {
   "cell_type": "code",
   "execution_count": null,
   "metadata": {},
   "outputs": [],
   "source": [
    "new_dictionary = {i: i**2 for i in range(1, 25) if i % 2 == 0}\n",
    "new_dictionary"
   ]
  },
  {
   "cell_type": "code",
   "execution_count": null,
   "metadata": {},
   "outputs": [],
   "source": [
    "new_dictionary = { i: \"Even\" if i % 2 == 0 else \"odd\" for i in range(1, 11)}\n",
    "new_dictionary\n"
   ]
  },
  {
   "cell_type": "markdown",
   "metadata": {},
   "source": [
    "### Task 1.2: Filtering Fruits by Price\n",
    "\n",
    "Given a dictionary of fruits with their prices, filter it to include only fruits priced above 2.\n",
    "\n",
    "```python\n",
    "fruits = {'apple': 1.2, 'banana': 2.5, 'orange': 3.0, 'kiwi': 4.0}\n",
    "```\n",
    "\n",
    "**Expected Output:**\n",
    "```python\n",
    "{'banana': 2.5, 'orange': 3.0, 'kiwi': 4.0}\n",
    "```"
   ]
  },
  {
   "cell_type": "code",
   "execution_count": null,
   "metadata": {},
   "outputs": [],
   "source": [
    "fruits = {\"apple\": 1.2, \"banana\": 2.5, \"orange\": 3.0, \"kiwi\": 4.0}\n",
    "fruits_new = {}\n",
    "for key, value in fruits.items():\n",
    "    if value >= 2:\n",
    "      fruits_new[key] = value\n",
    "\n",
    "fruits_new"
   ]
  },
  {
   "cell_type": "code",
   "execution_count": 61,
   "metadata": {},
   "outputs": [
    {
     "data": {
      "text/plain": [
       "{'banana': 2.5, 'orange': 3.0, 'kiwi': 4.0}"
      ]
     },
     "execution_count": 61,
     "metadata": {},
     "output_type": "execute_result"
    }
   ],
   "source": [
    "fruits = {\"apple\": 1.2, \"banana\": 2.5, \"orange\": 3.0, \"kiwi\": 4.0}\n",
    "fruits_new = {key: value for key, value in fruits.items() if value > 2}\n",
    "fruits_new\n"
   ]
  },
  {
   "cell_type": "markdown",
   "metadata": {},
   "source": [
    "### Task 1.3: Employee ID to Name Mapping\n",
    "\n",
    "Given a list of employee dictionaries, create a dictionary mapping each employee's ID to their name.\n",
    "\n",
    "```python\n",
    "employees = [\n",
    "    {\"id\": 101, \"name\": \"Alice\", \"age\": 30},\n",
    "    {\"id\": 102, \"name\": \"Bob\", \"age\": 25},\n",
    "    {\"id\": 103, \"name\": \"Charlie\", \"age\": 35}\n",
    "]\n",
    "```\n",
    "\n",
    "**Expected Output:**\n",
    "```python\n",
    "{101: 'Alice', 102: 'Bob', 103: 'Charlie'}\n",
    "```"
   ]
  },
  {
   "cell_type": "code",
   "execution_count": 65,
   "metadata": {},
   "outputs": [
    {
     "data": {
      "text/plain": [
       "{101: 'Alice', 102: 'Bob', 103: 'Charlie'}"
      ]
     },
     "execution_count": 65,
     "metadata": {},
     "output_type": "execute_result"
    }
   ],
   "source": [
    "employees = [\n",
    "    {\"id\": 101, \"name\": \"Alice\", \"age\": 30},\n",
    "    {\"id\": 102, \"name\": \"Bob\", \"age\": 25},\n",
    "    {\"id\": 103, \"name\": \"Charlie\", \"age\": 35},\n",
    "]\n",
    "\n",
    "employees_new = {employee[\"id\"]: employee[\"name\"] for employee in employees}\n",
    "employees_new"
   ]
  },
  {
   "cell_type": "code",
   "execution_count": 67,
   "metadata": {},
   "outputs": [
    {
     "data": {
      "text/plain": [
       "{101: 30, 103: 35}"
      ]
     },
     "execution_count": 67,
     "metadata": {},
     "output_type": "execute_result"
    }
   ],
   "source": [
    "employees = [\n",
    "    {\"id\": 101, \"name\": \"Alice\", \"age\": 30},\n",
    "    {\"id\": 102, \"name\": \"Bob\", \"age\": 25},\n",
    "    {\"id\": 103, \"name\": \"Charlie\", \"age\": 35},\n",
    "]\n",
    "\n",
    "employees_new = {employee[\"id\"]: employee[\"age\"] for employee in employees if employee[\"age\"] > 28}\n",
    "employees_new\n"
   ]
  },
  {
   "cell_type": "markdown",
   "metadata": {},
   "source": [
    "guests = [{\n",
    "    \"name\": \"Alice\",\n",
    "    \"age\": 25,\n",
    "    \"code\": \"VIP123\"\n",
    "}, {\n",
    "    \"name\": \"Bob\",\n",
    "    \"age\": 17,\n",
    "    \"code\": \"VIP123\"\n",
    "}, {\n",
    "    \"name\": \"Charlie\",\n",
    "    \"age\": 30,\n",
    "    \"code\": \"VIP123\"\n",
    "}, {\n",
    "    \"name\": \"Dave\",\n",
    "    \"age\": 22,\n",
    "    \"code\": \"GUEST\"\n",
    "}, {\n",
    "    \"name\": \"Eve\",\n",
    "    \"age\": 29,\n",
    "    \"code\": \"VIP123\"\n",
    "}]\n",
    "\n",
    "\n",
    "\n",
    "blacklist = [\"Dave\", \"Eve\"]\n",
    "\n",
    "# Task\n",
    "# People who are 21 or above and VIP123\n",
    "# Blacklist are not allowed\n",
    "\n",
    "\n",
    "PASS_CODE = \"VIP123\"\n",
    "\n",
    "guestlist = [] # ?"
   ]
  },
  {
   "cell_type": "code",
   "execution_count": null,
   "metadata": {},
   "outputs": [
    {
     "name": "stdout",
     "output_type": "stream",
     "text": [
      "[{'name': 'Alice', 'age': 25, 'code': 'VIP123'}, {'name': 'Bob', 'age': 17, 'code': 'VIP123'}, {'name': 'Charlie', 'age': 30, 'code': 'VIP123'}, {'name': 'Dave', 'age': 22, 'code': 'GUEST'}, {'name': 'Eve', 'age': 29, 'code': 'VIP123'}]\n",
      "[{'name': 'Alice', 'age': 25, 'code': 'VIP123'}, {'name': 'Bob', 'age': 17, 'code': 'VIP123'}, {'name': 'Charlie', 'age': 30, 'code': 'VIP123'}, {'name': 'Dave', 'age': 22, 'code': 'GUEST'}, {'name': 'Eve', 'age': 29, 'code': 'VIP123'}]\n"
     ]
    }
   ],
   "source": [
    "guests = [\n",
    "    {\"name\": \"Alice\", \"age\": 25, \"code\": \"VIP123\"},\n",
    "    {\"name\": \"Bob\", \"age\": 17, \"code\": \"VIP123\"},\n",
    "    {\"name\": \"Charlie\", \"age\": 30, \"code\": \"VIP123\"},\n",
    "    {\"name\": \"Dave\", \"age\": 22, \"code\": \"GUEST\"},\n",
    "    {\"name\": \"Eve\", \"age\": 29, \"code\": \"VIP123\"},\n",
    "]\n",
    "blacklist = [\"Dave\", \"Eve\"]\n",
    "PASS_CODE = \"VIP123\"\n",
    "guestlist = []\n"
   ]
  },
  {
   "cell_type": "code",
   "execution_count": null,
   "metadata": {},
   "outputs": [
    {
     "name": "stdout",
     "output_type": "stream",
     "text": [
      "[{'name': 'Alice', 'age': 25, 'code': 'VIP123'}, {'name': 'Charlie', 'age': 30, 'code': 'VIP123'}]\n"
     ]
    }
   ],
   "source": [
    "guests = [\n",
    "    {\"name\": \"Alice\", \"age\": 25, \"code\": \"VIP123\"},\n",
    "    {\"name\": \"Bob\", \"age\": 17, \"code\": \"VIP123\"},\n",
    "    {\"name\": \"Charlie\", \"age\": 30, \"code\": \"VIP123\"},\n",
    "    {\"name\": \"Dave\", \"age\": 22, \"code\": \"GUEST\"},\n",
    "    {\"name\": \"Eve\", \"age\": 29, \"code\": \"VIP123\"},\n",
    "]\n",
    "blacklist = [\"Dave\", \"Eve\"]\n",
    "pass_code = \"VIP123\"\n",
    "guestlist = []\n",
    "for guest in guests:\n",
    "    if (guest[\"age\"] >= 21 and\n",
    "        guest[\"code\"] == pass_code and\n",
    "        guest[\"name\"] not in blacklist) :\n",
    "        guestlist.append(guest['name'])\n",
    "print(guestlist)\n"
   ]
  },
  {
   "cell_type": "code",
   "execution_count": 80,
   "metadata": {},
   "outputs": [
    {
     "name": "stdout",
     "output_type": "stream",
     "text": [
      "[{'name': 'Alice', 'age': 25, 'code': 'VIP123'}, {'name': 'Charlie', 'age': 30, 'code': 'VIP123'}]\n"
     ]
    }
   ],
   "source": [
    "guestlist = [\n",
    "    guest\n",
    "    for guest in guests\n",
    "    if (\n",
    "        guest[\"age\"] >= 21\n",
    "        and guest[\"code\"] == pass_code\n",
    "        and guest[\"name\"] not in blacklist\n",
    "    )\n",
    "]\n",
    "print(guestlist)"
   ]
  },
  {
   "cell_type": "markdown",
   "metadata": {},
   "source": [
    "# Task 2 (Challenging)\n",
    "# Use nested dictionary comprehension to create a dictionary of restaurants with items under $10\n",
    "\n",
    "# Restaurant menus with emoji food items and prices\n",
    "restaurant_menus = [\n",
    "    {\n",
    "        \"restaurant\": \"Italian Place\",\n",
    "        \"menu\": {\"🍕\": 12.99, \"🍝\": 10.99, \"🥖\": 3.99, \"🥗\": 7.99},\n",
    "    },\n",
    "    {\n",
    "        \"restaurant\": \"Burger Joint\",\n",
    "        \"menu\": {\"🍔\": 8.99, \"🍟\": 3.99, \"🥤\": 1.99, \"🍦\": 4.99},\n",
    "    },\n",
    "    {\n",
    "        \"restaurant\": \"Sushi Bar\",\n",
    "        \"menu\": {\"🍣\": 15.99, \"🍜\": 12.99, \"🍙\": 6.99, \"🍶\": 9.99},\n",
    "    },\n",
    "    {\n",
    "        \"restaurant\": \"Health Spot\",\n",
    "        \"menu\": {\"🥗\": 9.99, \"🥙\": 8.99, \"🥑\": 4.99, \"🥝\": 3.99},\n",
    "    },\n",
    "]\n",
    "\n",
    "\n",
    "# Expected output\n",
    "# Output\n",
    "{\n",
    "    \"Italian Place\": {\"🥖\": 3.99, \"🥗\": 7.99},\n",
    "    \"Burger Joint\": {\"🍔\": 8.99, \"🍟\": 3.99, \"🥤\": 1.99, \"🍦\": 4.99},\n",
    "    \"Sushi Bar\": {\"🍙\": 6.99},\n",
    "    \"Health Spot\": {\"🥙\": 8.99, \"🥑\": 4.99, \"🥝\": 3.99},\n",
    "}\n"
   ]
  },
  {
   "cell_type": "code",
   "execution_count": 81,
   "metadata": {},
   "outputs": [
    {
     "ename": "KeyError",
     "evalue": "'restuarant'",
     "output_type": "error",
     "traceback": [
      "\u001b[1;31m---------------------------------------------------------------------------\u001b[0m",
      "\u001b[1;31mKeyError\u001b[0m                                  Traceback (most recent call last)",
      "Cell \u001b[1;32mIn[81], line 21\u001b[0m\n\u001b[0;32m     19\u001b[0m cheap_restuarants \u001b[38;5;241m=\u001b[39m {}\n\u001b[0;32m     20\u001b[0m \u001b[38;5;28;01mfor\u001b[39;00m restuarant \u001b[38;5;129;01min\u001b[39;00m restaurant_menus:\n\u001b[1;32m---> 21\u001b[0m     restaurant_name \u001b[38;5;241m=\u001b[39m \u001b[43mrestuarant\u001b[49m\u001b[43m[\u001b[49m\u001b[38;5;124;43m\"\u001b[39;49m\u001b[38;5;124;43mrestuarant\u001b[39;49m\u001b[38;5;124;43m\"\u001b[39;49m\u001b[43m]\u001b[49m\n\u001b[0;32m     22\u001b[0m     new_menu \u001b[38;5;241m=\u001b[39m {}\n\u001b[0;32m     23\u001b[0m     \u001b[38;5;28;01mfor\u001b[39;00m food, price \u001b[38;5;129;01min\u001b[39;00m restuarant[\u001b[38;5;124m\"\u001b[39m\u001b[38;5;124mmenu\u001b[39m\u001b[38;5;124m\"\u001b[39m]\u001b[38;5;241m.\u001b[39mitems():\n",
      "\u001b[1;31mKeyError\u001b[0m: 'restuarant'"
     ]
    }
   ],
   "source": [
    "restaurant_menus = [\n",
    "    {\n",
    "        \"restaurant\": \"Italian Place\",\n",
    "        \"menu\": {\"🍕\": 12.99, \"🍝\": 10.99, \"🥖\": 3.99, \"🥗\": 7.99},\n",
    "    },\n",
    "    {\n",
    "        \"restaurant\": \"Burger Joint\",\n",
    "        \"menu\": {\"🍔\": 8.99, \"🍟\": 3.99, \"🥤\": 1.99, \"🍦\": 4.99},\n",
    "    },\n",
    "    {\n",
    "        \"restaurant\": \"Sushi Bar\",\n",
    "        \"menu\": {\"🍣\": 15.99, \"🍜\": 12.99, \"🍙\": 6.99, \"🍶\": 9.99},\n",
    "    },\n",
    "    {\n",
    "        \"restaurant\": \"Health Spot\",\n",
    "        \"menu\": {\"🥗\": 9.99, \"🥙\": 8.99, \"🥑\": 4.99, \"🥝\": 3.99},\n",
    "    },\n",
    "]\n",
    "cheap_restuarants = {}\n",
    "for restuarant in restaurant_menus:\n",
    "    restaurant_name = restuarant[\"restuarant\"]\n",
    "    new_menu = {}\n",
    "    for food, price in restuarant[\"menu\"].items():\n",
    "        if price < 10:\n",
    "            new_menu[food] = price\n",
    "\n",
    "cheap_restuarants[restaurant_menus] = new_menu\n",
    "cheap_restuarants"
   ]
  }
 ],
 "metadata": {
  "kernelspec": {
   "display_name": ".venv",
   "language": "python",
   "name": "python3"
  },
  "language_info": {
   "codemirror_mode": {
    "name": "ipython",
    "version": 3
   },
   "file_extension": ".py",
   "mimetype": "text/x-python",
   "name": "python",
   "nbconvert_exporter": "python",
   "pygments_lexer": "ipython3",
   "version": "3.11.8"
  }
 },
 "nbformat": 4,
 "nbformat_minor": 2
}
