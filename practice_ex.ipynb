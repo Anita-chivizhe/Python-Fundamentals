{
 "cells": [
  {
   "cell_type": "markdown",
   "metadata": {},
   "source": [
    "# 🐍 Python Day 2 Exercises 🚀\n",
    "\n",
    "## 1. Name Tag Generator (Difficulty: 1)\n",
    "<details>\n",
    "<summary>Topics</summary>\n",
    "\n",
    "- String manipulation\n",
    "- F-strings\n",
    "- User input\n",
    "</details>\n",
    "\n",
    "Create a program that asks for a name and prints a decorated name tag.\n",
    "\n",
    "```python\n",
    "name = input(\"Enter your name: \")\n",
    "# Convert to uppercase and print decorated name\n",
    "```\n",
    "\n",
    "**Expected Output:**\n",
    "```\n",
    "Enter your name: Maria\n",
    "✨ Hello, MARIA! ✨\n",
    "```\n",
    "\n",
    "**Hint:** Use string methods and f-strings.\n"
   ]
  },
  {
   "cell_type": "code",
   "execution_count": 2,
   "metadata": {},
   "outputs": [
    {
     "name": "stdout",
     "output_type": "stream",
     "text": [
      "✨ Hello, Maria! ✨\n"
     ]
    }
   ],
   "source": [
    "# Create a program that asks for a name and prints a decorated name tag.\n",
    "\n",
    "name = input(\"Please enter your name\")\n",
    "\n",
    "print(f\"✨ Hello, {name}! ✨\")"
   ]
  },
  {
   "cell_type": "markdown",
   "metadata": {},
   "source": [
    "## 2. Age Calculator (Difficulty: 1)\n",
    "<details>\n",
    "<summary>Topics</summary>\n",
    "\n",
    "- Basic arithmetic\n",
    "- Type conversion\n",
    "- F-strings\n",
    "</details>\n",
    "\n",
    "Calculate someone's age based on their birth year.\n",
    "\n",
    "```python\n",
    "birth_year = int(input(\"Enter birth year: \"))\n",
    "current_year = 2025\n",
    "# Calculate and display age\n",
    "```\n",
    "\n",
    "**Expected Output:**\n",
    "```\n",
    "Enter birth year: 2000\n",
    "You are"
   ]
  },
  {
   "cell_type": "code",
   "execution_count": 4,
   "metadata": {},
   "outputs": [
    {
     "name": "stdout",
     "output_type": "stream",
     "text": [
      "22\n"
     ]
    }
   ],
   "source": [
    "# Calculate someone's age based on their birth year.\n",
    "\n",
    "birth_year= int(input(\"Please enter your birth year:\"))\n",
    "current_year = 2025\n",
    "age = int(current_year - birth_year)\n",
    "\n",
    "print(age)"
   ]
  },
  {
   "cell_type": "markdown",
   "metadata": {},
   "source": [
    "## 3. Emoji Replacer (Difficulty: 2)\n",
    "<details>\n",
    "<summary>Topics</summary>\n",
    "\n",
    "- Dictionaries\n",
    "- String methods\n",
    "- String replacement\n",
    "</details>\n",
    "\n",
    "Replace certain words in a sentence with emojis.\n",
    "\n",
    "```python\n",
    "emoji_dict = {\"love\": \"❤️\", \"pizza\": \"🍕\", \"happy\": \"😊\"}\n",
    "sentence = input(\"Enter a sentence: \")\n",
    "# Replace matching words with emojis\n",
    "```\n",
    "\n",
    "**Expected Output:**\n",
    "```\n",
    "Case 1:\n",
    "Enter a sentence: I love coding and pizza\n",
    "I ❤️ coding and 🍕\n",
    "\n",
    "Case 2:\n",
    "Enter a sentence: The weather is nice today\n",
    "The weather is nice today\n",
    "```"
   ]
  },
  {
   "cell_type": "code",
   "execution_count": null,
   "metadata": {},
   "outputs": [
    {
     "name": "stdout",
     "output_type": "stream",
     "text": [
      "I ❤️ coding and pizza\n"
     ]
    }
   ],
   "source": [
    "# Replace certain words in a sentence with emojis.\n",
    "\n",
    "emoji_dict = {\"love\": \"❤️\", \"pizza\": \"🍕\", \"happy\": \"😊\"}\n",
    "sentence = input(\"Enter a sentence: \")\n",
    "\n",
    "if \"love\" or \"pizza\" in sentence:\n",
    "    print(sentence.replace(\"love\",\"❤️\"))\n",
    "elif \"pizza\" in sentence:\n",
    "     print(sentence.replace(\"pizza\", \"🍕\"))\n",
    "elif \"happy\" in sentence:\n",
    "     print(sentence.replace(\"happpy\", \"🥰\"))\n",
    "else:\n",
    "    print(sentence)"
   ]
  }
 ],
 "metadata": {
  "kernelspec": {
   "display_name": ".venv",
   "language": "python",
   "name": "python3"
  },
  "language_info": {
   "codemirror_mode": {
    "name": "ipython",
    "version": 3
   },
   "file_extension": ".py",
   "mimetype": "text/x-python",
   "name": "python",
   "nbconvert_exporter": "python",
   "pygments_lexer": "ipython3",
   "version": "3.11.8"
  }
 },
 "nbformat": 4,
 "nbformat_minor": 2
}
