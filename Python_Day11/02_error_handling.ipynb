{
 "cells": [
  {
   "cell_type": "markdown",
   "metadata": {},
   "source": [
    "def calculate_age():\n",
    "    pass\n",
    " \n",
    "# Task 1.1\n",
    "# Please tell me your year of birth 2000\n",
    "# Your age is 25\n",
    " \n",
    " \n",
    "# Task 1.2\n",
    "# Handling Error"
   ]
  },
  {
   "cell_type": "code",
   "execution_count": null,
   "metadata": {},
   "outputs": [],
   "source": [
    "# Task 1.1\n",
    "from datetime import datetime\n",
    "\n",
    "\n",
    "def calculate_age():\n",
    "    birth_year = int(input(\" Please enter your year of birth: \"))\n",
    "    birth_date = datetime.now().year\n",
    "    age = birth_date - birth_year\n",
    "    return age\n",
    "\n",
    "print(f\"Your age is\", calculate_age())"
   ]
  },
  {
   "cell_type": "code",
   "execution_count": null,
   "metadata": {},
   "outputs": [],
   "source": [
    "# Task 1.2\n",
    "# Handling Error\n",
    "\n",
    "from datetime import datetime\n",
    "\n",
    "\n",
    "def calculate_age():\n",
    "    try:\n",
    "        birth_year = int(input(\" Please enter your year of birth: \"))\n",
    "        birth_date = datetime.now().year\n",
    "        age = birth_date - birth_year\n",
    "        print(f\"Your age is\", age)\n",
    "    except ValueError as err:\n",
    "        print(\"Invalid input.\", err)\n",
    "\n",
    "calculate_age()\n"
   ]
  },
  {
   "cell_type": "code",
   "execution_count": null,
   "metadata": {},
   "outputs": [],
   "source": [
    "# Task 1.3\n",
    "# Handling Error with different conditionds\n",
    "\n",
    "from datetime import datetime\n",
    "\n",
    "\n",
    "def calculate_age():\n",
    "    try:\n",
    "        birth_year = int(input(\" Please enter your year of birth: \"))\n",
    "        birth_date = datetime.now().year\n",
    "        if birth_year > birth_date:\n",
    "           raise ValueError(\"You're not flash to be from the future 🚀\")\n",
    "        elif birth_year < 0:\n",
    "            raise ValueError(\"Your age cannot be negative\")\n",
    "        age = birth_date - birth_year\n",
    "        print(f\"Your age is {age}\")\n",
    "    except ValueError as err:\n",
    "        print(\"Invalid:\", err)\n",
    "\n",
    "calculate_age()"
   ]
  },
  {
   "cell_type": "code",
   "execution_count": null,
   "metadata": {},
   "outputs": [],
   "source": [
    "from datetime import datetime\n",
    "\n",
    "\n",
    "def calculate_age():\n",
    "    try:\n",
    "        birth_year = int(input(\"what is your birth year: \"))\n",
    "        if birth_year > datetime.now().year:\n",
    "            raise ValueError(\"Your not flash to be from the future🚀\")\n",
    "        if birth_year < 0:\n",
    "            raise ValueError(\"Year cannot be negative\")\n",
    "        age = datetime.now().year - birth_year\n",
    "        print(age)\n",
    "    except ValueError as err:\n",
    "        print(\"Invalid:\", err)\n",
    "\n",
    "\n",
    "calculate_age()\n"
   ]
  }
 ],
 "metadata": {
  "kernelspec": {
   "display_name": ".venv",
   "language": "python",
   "name": "python3"
  },
  "language_info": {
   "codemirror_mode": {
    "name": "ipython",
    "version": 3
   },
   "file_extension": ".py",
   "mimetype": "text/x-python",
   "name": "python",
   "nbconvert_exporter": "python",
   "pygments_lexer": "ipython3",
   "version": "3.11.8"
  }
 },
 "nbformat": 4,
 "nbformat_minor": 2
}
