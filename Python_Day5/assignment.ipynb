{
 "cells": [
  {
   "cell_type": "markdown",
   "metadata": {},
   "source": [
    "\n",
    "## Task 1: Add a New Product\n",
    "\n",
    "**Instructions:**\n",
    "- Prompt the user for the product name, quantity, and price.\n",
    "- Create a new product dictionary and add it to the inventory.\n",
    "- *Fun Tip:* For an \"Orange\", consider using \"Orange 🍊\"!\n",
    "\n",
    "**Example Scenario:**\n",
    "\n",
    "- **User Input:**\n",
    "  ```\n",
    "  What is the product name? Orange 🍊\n",
    "  What is the quantity? 10\n",
    "  What is the price? 0.60\n",
    "  ```\n",
    "- **Expected Output:**\n",
    "  ```\n",
    "  {'name': 'Orange 🍊', 'quantity': 10, 'price': 0.6}\n",
    "\n",
    "  ```\n",
    "\n",
    "  ````\n",
    "  Updated Inventory: [{'name': 'Apple 🍎', 'quantity': 30, 'price': 0.5}, {'name': 'Banana 🍌', 'quantity': 20, 'price': 0.2}, {'name': 'Orange 🍊', 'quantity': 10, 'price': 0.6}]"
   ]
  },
  {
   "cell_type": "code",
   "execution_count": 6,
   "metadata": {},
   "outputs": [
    {
     "name": "stdout",
     "output_type": "stream",
     "text": [
      "[{'name': 'Apple 🍎', 'quantity': 30, 'price': 0.5}, {'name': 'Banana 🍌', 'quantity': 20, 'price': 0.2}, {'name': 's', 'quantity': 4, 'price': 1.5}]\n"
     ]
    }
   ],
   "source": [
    "inventory = [\n",
    "    {\"name\": \"Apple 🍎\", \"quantity\": 30, \"price\": 0.50},\n",
    "    {\"name\": \"Banana 🍌\", \"quantity\": 20, \"price\": 0.20},\n",
    "]\n",
    "\n",
    "\n",
    "proceed_adding = \"yes\"\n",
    "while proceed_adding.lower() == \"yes\":\n",
    "    item_name = input(\"What is the product name?\")\n",
    "    item_qty = int(input(\"What is the quantity?\"))\n",
    "    item_price = float(input(\"What is the price?\"))\n",
    "\n",
    "    product = {\"name\": item_name, \"quantity\": item_qty, \"price\": item_price}\n",
    "    inventory.append(product)\n",
    "    print(inventory)\n",
    "    proceed_adding = input(\"Do you want to add another product?\")\n"
   ]
  },
  {
   "cell_type": "markdown",
   "metadata": {},
   "source": [
    "captain_america = {\n",
    "    \"name\": \"Steve Rogers 🦸‍♂️\",\n",
    "    \"age\": 100,\n",
    "    \"height\": 185,\n",
    "    \"address\": {\"city\": \"Brooklyn\", \"country\": \"US\"},\n",
    "}\n",
    "\n",
    "\n",
    "spiderman = {\n",
    "    \"name\": \"Peter Parker\",\n",
    "    \"age\": 18,\n",
    "    \"team_name\": \"Avengers\",\n",
    "    \"team\": [\"Iron Man\", \"Thor\", \"Hulk\", \"Captain America\"],\n",
    "}\n",
    "\n",
    "hulk = {\n",
    "    \"name\": \"Bruce Banner\",\n",
    "    \"age\": 35,\n",
    "}\n",
    "\n",
    "heroes = [captain_america, spiderman, hulk]\n",
    "\n",
    "# Output\n",
    "# Steve Rogers 🦸‍♂️ lives in Brooklyn\n",
    "# Peter Parker location is Top Secret 🔒\n",
    "# Bruce Banner location is Top Secret 🔒"
   ]
  },
  {
   "cell_type": "code",
   "execution_count": 14,
   "metadata": {},
   "outputs": [
    {
     "name": "stdout",
     "output_type": "stream",
     "text": [
      "Steve Rogers 🦸‍♂️ lives in Brooklyn\n",
      "Peter Parker location is Top Secret 🔒\n",
      "Bruce Banner location is Top Secret 🔒\n"
     ]
    }
   ],
   "source": [
    "from os import name\n",
    "\n",
    "\n",
    "captain_america = {\n",
    "    \"name\": \"Steve Rogers 🦸‍♂️\",\n",
    "    \"age\": 100,\n",
    "    \"height\": 185,\n",
    "    \"address\": {\"city\": \"Brooklyn\", \"country\": \"US\"},\n",
    "}\n",
    "\n",
    "\n",
    "spiderman = {\n",
    "    \"name\": \"Peter Parker\",\n",
    "    \"age\": 18,\n",
    "    \"team_name\": \"Avengers\",\n",
    "    \"team\": [\"Iron Man\", \"Thor\", \"Hulk\", \"Captain America\"],\n",
    "}\n",
    "\n",
    "hulk = {\n",
    "    \"name\": \"Bruce Banner\",\n",
    "    \"age\": 35,\n",
    "}\n",
    "\n",
    "heroes = [captain_america, spiderman, hulk]\n",
    "\n",
    "for hero in heroes:\n",
    "    name = hero.get(\"name\")\n",
    "    city = hero.get(\"address\", {}).get(\"city\")\n",
    "    if city!= None:\n",
    "        print(f\"{name} lives in {city}\")\n",
    "    else:\n",
    "        print(f\"{name} location is Top Secret 🔒\")"
   ]
  },
  {
   "cell_type": "code",
   "execution_count": 15,
   "metadata": {},
   "outputs": [
    {
     "name": "stdout",
     "output_type": "stream",
     "text": [
      "[{'name': 'Chelo', 'experience': 3}, {'name': 'Diyali', 'experience': 1}, {'name': 'Luvuyo', 'experience': 1}, {'name': 'Jevan', 'experience': 2}]\n"
     ]
    }
   ],
   "source": [
    "employees = [\n",
    "    {\"name\": \"Chelo\", \"experience\": 2},\n",
    "    {\n",
    "        \"name\": \"Diyali\",\n",
    "    },\n",
    "    {\n",
    "        \"name\": \"Luvuyo\",\n",
    "    },\n",
    "    {\"name\": \"Jevan\", \"experience\": 1},\n",
    "]\n",
    "\n",
    "updated_employees = []\n",
    "for employee in employees:\n",
    "    current_experience = employee.get(\"experience\", 0)\n",
    "    employee[\"experience\"] = current_experience + 1\n",
    "\n",
    "print(employees)"
   ]
  },
  {
   "cell_type": "markdown",
   "metadata": {},
   "source": [
    "# Task 2.2\n",
    "# Senior 5 or more, Mid-Level 3 to 5, Junior < 3\n",
    "employees = [\n",
    "    {\"name\": \"Chelo\", \"experience\": 4},\n",
    "    {\n",
    "        \"name\": \"Diyali\",\n",
    "    },\n",
    "    {\n",
    "        \"name\": \"Luvuyo\",\n",
    "    },\n",
    "    {\"name\": \"Jevan\", \"experience\": 2},\n",
    "]\n",
    " \n",
    " \n",
    "# Output\n",
    "employees = [\n",
    "    {\"name\": \"Chelo\", \"experience\": 5, \"status\": \"Senior\" },\n",
    "    {\n",
    "        \"name\": \"Diyali\", \"status\": \"Junior\",   \"experience\": 1\n",
    "    },\n",
    "    {\n",
    "        \"name\": \"Luvuyo\", \"status\": \"Junior\",   \"experience\": 1\n",
    "    },\n",
    "    {\"name\": \"Jevan\", \"status\": \"Mid-Level\", \"experience\": 3},\n",
    "]\n",
    " "
   ]
  },
  {
   "cell_type": "code",
   "execution_count": null,
   "metadata": {},
   "outputs": [
    {
     "name": "stdout",
     "output_type": "stream",
     "text": [
      "[{'name': 'Chelo', 'experience': 5, 'status': 'Senior'}, {'name': 'Diyali', 'experience': 1, 'status': 'Junior'}, {'name': 'Luvuyo', 'experience': 1, 'status': 'Junior'}, {'name': 'Jevan', 'experience': 3, 'status': 'Mid-Level'}]\n"
     ]
    }
   ],
   "source": [
    "employees = [\n",
    "    {\"name\": \"Chelo\", \"experience\": 4},\n",
    "    {\n",
    "        \"name\": \"Diyali\",\n",
    "    },\n",
    "    {\n",
    "        \"name\": \"Luvuyo\",\n",
    "    },\n",
    "    {\"name\": \"Jevan\", \"experience\": 2},\n",
    "]\n",
    "\n",
    "for employee in employees:\n",
    "    employee[\"experience\"] = employee.get(\"experience\", 0) + 1\n",
    "    if employee[\"experience\"]>= 5:\n",
    "        employee[\"status\"] = \"Senior\"\n",
    "    elif employee[\"experience\"] >= 3:\n",
    "        employee[\"status\"] = \"Mid-Level\"\n",
    "    else:\n",
    "        employee[\"status\"] = \"Junior\"\n",
    "\n",
    "\n",
    "print(employees)"
   ]
  },
  {
   "cell_type": "markdown",
   "metadata": {},
   "source": [
    "avengers = [\n",
    "    \"Hulk\",\n",
    "    \"Iron man\",\n",
    "    \"Black widow\",\n",
    "    \"Captain america\",\n",
    "    \"Spider man\",\n",
    "    \"Thor\",\n",
    "]\n",
    "\n",
    "avengers_letter_count = []\n",
    "\n",
    "# Loop list & method\n",
    "for i in range(len(avengers)):\n",
    "    avengers_letter_count.append(len(avengers[i]))\n",
    "print(avengers_letter_count)\n"
   ]
  },
  {
   "cell_type": "code",
   "execution_count": 25,
   "metadata": {},
   "outputs": [
    {
     "name": "stdout",
     "output_type": "stream",
     "text": [
      "[4, 8, 11, 15, 10, 4]\n"
     ]
    }
   ],
   "source": [
    "avengers = [\n",
    "    \"Hulk\",\n",
    "    \"Iron man\",\n",
    "    \"Black widow\",\n",
    "    \"Captain america\",\n",
    "    \"Spider man\",\n",
    "    \"Thor\",\n",
    "]\n",
    "\n",
    "letter_count = [len(avengers[i]) for i in range(len(avengers))]\n",
    "\n",
    "print(letter_count)\n"
   ]
  },
  {
   "cell_type": "code",
   "execution_count": null,
   "metadata": {},
   "outputs": [],
   "source": [
    "points = [(3, 4), (6, 12), (10, 13)]\n",
    "\n",
    "distances = []\n",
    "for x, y in points:  # unpacking\n",
    "    distance = round((x**2 + y**2) ** 0.5, 2)\n",
    "    distances.append(distance)\n",
    "\n",
    "print(distances)\n"
   ]
  },
  {
   "cell_type": "code",
   "execution_count": 30,
   "metadata": {},
   "outputs": [
    {
     "name": "stdout",
     "output_type": "stream",
     "text": [
      "[5.0, 13.42, 16.4]\n"
     ]
    }
   ],
   "source": [
    "points = [(3, 4), (6, 12), (10, 13)]\n",
    "\n",
    "distance = [round((x**2 + y**2) ** 0.5, 2) for x,y in points]\n",
    "\n",
    "\n",
    "print(distance)\n"
   ]
  },
  {
   "cell_type": "markdown",
   "metadata": {},
   "source": [
    "# Task - With List Comp\n",
    "\n",
    "nums = [7, 44, 90, 6, 75, 10]\n",
    "\n",
    "# Output\n",
    "[\"Odd\", \"Even\", \"Even\", \"Even\", \"Odd\", \"Even\"]\n",
    "\n"
   ]
  },
  {
   "cell_type": "code",
   "execution_count": 34,
   "metadata": {},
   "outputs": [
    {
     "name": "stdout",
     "output_type": "stream",
     "text": [
      "['Even', 'Odd', 'Odd', 'Odd', 'Even', 'Odd']\n"
     ]
    }
   ],
   "source": [
    "nums = [7, 44, 90, 6, 75, 10]\n",
    "\n",
    "output = [\"Odd\" if num % 2 == 0 else \"Even\" for num in nums]\n",
    "print(output)"
   ]
  }
 ],
 "metadata": {
  "kernelspec": {
   "display_name": ".venv",
   "language": "python",
   "name": "python3"
  },
  "language_info": {
   "codemirror_mode": {
    "name": "ipython",
    "version": 3
   },
   "file_extension": ".py",
   "mimetype": "text/x-python",
   "name": "python",
   "nbconvert_exporter": "python",
   "pygments_lexer": "ipython3",
   "version": "3.11.8"
  }
 },
 "nbformat": 4,
 "nbformat_minor": 2
}
