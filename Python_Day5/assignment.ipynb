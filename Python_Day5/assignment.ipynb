{
 "cells": [
  {
   "cell_type": "markdown",
   "metadata": {},
   "source": [
    "\n",
    "## Task 1: Add a New Product\n",
    "\n",
    "**Instructions:**\n",
    "- Prompt the user for the product name, quantity, and price.\n",
    "- Create a new product dictionary and add it to the inventory.\n",
    "- *Fun Tip:* For an \"Orange\", consider using \"Orange 🍊\"!\n",
    "\n",
    "**Example Scenario:**\n",
    "\n",
    "- **User Input:**\n",
    "  ```\n",
    "  What is the product name? Orange 🍊\n",
    "  What is the quantity? 10\n",
    "  What is the price? 0.60\n",
    "  ```\n",
    "- **Expected Output:**\n",
    "  ```\n",
    "  {'name': 'Orange 🍊', 'quantity': 10, 'price': 0.6}\n",
    "\n",
    "  ```\n",
    "\n",
    "  ````\n",
    "  Updated Inventory: [{'name': 'Apple 🍎', 'quantity': 30, 'price': 0.5}, {'name': 'Banana 🍌', 'quantity': 20, 'price': 0.2}, {'name': 'Orange 🍊', 'quantity': 10, 'price': 0.6}]"
   ]
  },
  {
   "cell_type": "code",
   "execution_count": 6,
   "metadata": {},
   "outputs": [
    {
     "name": "stdout",
     "output_type": "stream",
     "text": [
      "[{'name': 'Apple 🍎', 'quantity': 30, 'price': 0.5}, {'name': 'Banana 🍌', 'quantity': 20, 'price': 0.2}, {'name': 's', 'quantity': 4, 'price': 1.5}]\n"
     ]
    }
   ],
   "source": [
    "inventory = [\n",
    "    {\"name\": \"Apple 🍎\", \"quantity\": 30, \"price\": 0.50},\n",
    "    {\"name\": \"Banana 🍌\", \"quantity\": 20, \"price\": 0.20},\n",
    "]\n",
    "\n",
    "\n",
    "proceed_adding = \"yes\"\n",
    "while proceed_adding.lower() == \"yes\":\n",
    "    item_name = input(\"What is the product name?\")\n",
    "    item_qty = int(input(\"What is the quantity?\"))\n",
    "    item_price = float(input(\"What is the price?\"))\n",
    "\n",
    "    product = {\"name\": item_name, \"quantity\": item_qty, \"price\": item_price}\n",
    "    inventory.append(product)\n",
    "    print(inventory)\n",
    "    proceed_adding = input(\"Do you want to add another product?\")\n"
   ]
  },
  {
   "cell_type": "markdown",
   "metadata": {},
   "source": [
    "captain_america = {\n",
    "    \"name\": \"Steve Rogers 🦸‍♂️\",\n",
    "    \"age\": 100,\n",
    "    \"height\": 185,\n",
    "    \"address\": {\"city\": \"Brooklyn\", \"country\": \"US\"},\n",
    "}\n",
    "\n",
    "\n",
    "spiderman = {\n",
    "    \"name\": \"Peter Parker\",\n",
    "    \"age\": 18,\n",
    "    \"team_name\": \"Avengers\",\n",
    "    \"team\": [\"Iron Man\", \"Thor\", \"Hulk\", \"Captain America\"],\n",
    "}\n",
    "\n",
    "hulk = {\n",
    "    \"name\": \"Bruce Banner\",\n",
    "    \"age\": 35,\n",
    "}\n",
    "\n",
    "heroes = [captain_america, spiderman, hulk]\n",
    "\n",
    "# Output\n",
    "# Steve Rogers 🦸‍♂️ lives in Brooklyn\n",
    "# Peter Parker location is Top Secret 🔒\n",
    "# Bruce Banner location is Top Secret 🔒"
   ]
  },
  {
   "cell_type": "code",
   "execution_count": 14,
   "metadata": {},
   "outputs": [
    {
     "name": "stdout",
     "output_type": "stream",
     "text": [
      "Steve Rogers 🦸‍♂️ lives in Brooklyn\n",
      "Peter Parker location is Top Secret 🔒\n",
      "Bruce Banner location is Top Secret 🔒\n"
     ]
    }
   ],
   "source": [
    "from os import name\n",
    "\n",
    "\n",
    "captain_america = {\n",
    "    \"name\": \"Steve Rogers 🦸‍♂️\",\n",
    "    \"age\": 100,\n",
    "    \"height\": 185,\n",
    "    \"address\": {\"city\": \"Brooklyn\", \"country\": \"US\"},\n",
    "}\n",
    "\n",
    "\n",
    "spiderman = {\n",
    "    \"name\": \"Peter Parker\",\n",
    "    \"age\": 18,\n",
    "    \"team_name\": \"Avengers\",\n",
    "    \"team\": [\"Iron Man\", \"Thor\", \"Hulk\", \"Captain America\"],\n",
    "}\n",
    "\n",
    "hulk = {\n",
    "    \"name\": \"Bruce Banner\",\n",
    "    \"age\": 35,\n",
    "}\n",
    "\n",
    "heroes = [captain_america, spiderman, hulk]\n",
    "\n",
    "for hero in heroes:\n",
    "    name = hero.get(\"name\")\n",
    "    city = hero.get(\"address\", {}).get(\"city\")\n",
    "    if city!= None:\n",
    "        print(f\"{name} lives in {city}\")\n",
    "    else:\n",
    "        print(f\"{name} location is Top Secret 🔒\")"
   ]
  }
 ],
 "metadata": {
  "kernelspec": {
   "display_name": ".venv",
   "language": "python",
   "name": "python3"
  },
  "language_info": {
   "codemirror_mode": {
    "name": "ipython",
    "version": 3
   },
   "file_extension": ".py",
   "mimetype": "text/x-python",
   "name": "python",
   "nbconvert_exporter": "python",
   "pygments_lexer": "ipython3",
   "version": "3.11.8"
  }
 },
 "nbformat": 4,
 "nbformat_minor": 2
}
