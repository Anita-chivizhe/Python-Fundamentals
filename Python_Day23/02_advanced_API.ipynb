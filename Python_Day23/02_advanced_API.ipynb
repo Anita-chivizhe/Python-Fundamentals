{
 "cells": [
  {
   "cell_type": "code",
   "execution_count": null,
   "metadata": {},
   "outputs": [],
   "source": [
    "import requests\n"
   ]
  },
  {
   "cell_type": "code",
   "execution_count": null,
   "metadata": {},
   "outputs": [
    {
     "data": {
      "text/plain": [
       "'The temperature in Cape Town is 22.3 °C'"
      ]
     },
     "execution_count": 28,
     "metadata": {},
     "output_type": "execute_result"
    }
   ],
   "source": [
    "import requests\n",
    "\n",
    "API_KEY = \"a3455936f561443781991543252403\"\n",
    "\n",
    "\n",
    "def get_city_temp(city_name):\n",
    "    API = (\n",
    "        f\"http://api.weatherapi.com/v1/current.json?key={API_KEY}&q={city_name}&aqi=yes\"\n",
    "    )\n",
    "    response = requests.get(API, verify=False)\n",
    "    # JSON -> List | Dict\n",
    "    city_weather = response.json()\n",
    "    return f\"The temperature in {city_weather['location']['name']} is {city_weather['current']['temp_c']} °C\"\n",
    "\n",
    "\n",
    "get_city_temp(\"cape town\")\n"
   ]
  },
  {
   "cell_type": "code",
   "execution_count": null,
   "metadata": {},
   "outputs": [
    {
     "data": {
      "text/plain": [
       "{'Cape town': 22.2, 'Johannesburg': 24.1, 'Durban': 27.2}"
      ]
     },
     "execution_count": 35,
     "metadata": {},
     "output_type": "execute_result"
    }
   ],
   "source": [
    "def get_city_temp(city_name):\n",
    "    API = (\n",
    "        f\"http://api.weatherapi.com/v1/current.json?key={API_KEY}&q={city_name}&aqi=yes\"\n",
    "    )\n",
    "    response = requests.get(API, verify=False)\n",
    "    city_weather = response.json()\n",
    "    return city_weather[\"location\"][\"name\"], city_weather[\"current\"][\"temp_c\"]\n",
    "\n",
    "\n",
    "cities = [\"Cape town\", \"Johannesburg\", \"Durban\"]\n",
    "\n",
    "\n",
    "def get_temps(cities):\n",
    "    return {city: get_city_temp(city)[1] for city in cities}\n",
    "\n",
    "\n",
    "get_temps(cities)\n"
   ]
  },
  {
   "cell_type": "code",
   "execution_count": 40,
   "metadata": {},
   "outputs": [
    {
     "data": {
      "text/plain": [
       "{'Cape Town': 23.1}"
      ]
     },
     "execution_count": 40,
     "metadata": {},
     "output_type": "execute_result"
    }
   ],
   "source": [
    "def get_city_temp(city_name):\n",
    "    API = (\n",
    "        f\"http://api.weatherapi.com/v1/current.json?key={API_KEY}&q={city_name}&aqi=yes\"\n",
    "    )\n",
    "    response = requests.get(API, verify=False)\n",
    "    city_weather = response.json()\n",
    "    return city_weather[\"location\"][\"name\"], city_weather[\"current\"][\"temp_c\"]\n",
    "\n",
    "def get_temps(cities):\n",
    "    city_dic = {}\n",
    "    for city in cities:\n",
    "        name, temp = get_city_temp(city)\n",
    "        city_dic[name] = temp\n",
    "        return city_dic\n",
    "\n",
    "cities = [\"Cape town\", \"Johannesburg\", \"Durban\"]\n",
    "\n",
    "get_temps(cities)"
   ]
  },
  {
   "cell_type": "code",
   "execution_count": null,
   "metadata": {},
   "outputs": [],
   "source": [
    "API = \"http://api.weatherapi.com/v1/current.json?key=a3455936f561443781991543252403&q=Cape%20Town&aqi=no\"\n",
    "response = requests.get(API, verify=False)\n",
    "\n",
    "weather = response.json()\n",
    "\n",
    "weather"
   ]
  },
  {
   "cell_type": "code",
   "execution_count": null,
   "metadata": {},
   "outputs": [],
   "source": [
    "def get_names(city_name):\n",
    "    return weather[\"location\"][\"name\"]\n",
    "\n",
    "get_names(weather)\n",
    "# The temperature in Cape town is 24°C"
   ]
  },
  {
   "cell_type": "code",
   "execution_count": null,
   "metadata": {},
   "outputs": [],
   "source": [
    "weather['current']['temp_c']"
   ]
  },
  {
   "cell_type": "code",
   "execution_count": null,
   "metadata": {},
   "outputs": [],
   "source": [
    "def get_names(city_name):\n",
    "    return weather[\"location\"][\"name\"]\n",
    "\n",
    "\n",
    "def get_city_temp(city_name):\n",
    "    return weather[\"current\"][\"temp_c\"]\n",
    "\n",
    "\n",
    "print(get_names(weather))\n",
    "print(get_city_temp(weather))\n"
   ]
  }
 ],
 "metadata": {
  "kernelspec": {
   "display_name": ".venv",
   "language": "python",
   "name": "python3"
  },
  "language_info": {
   "codemirror_mode": {
    "name": "ipython",
    "version": 3
   },
   "file_extension": ".py",
   "mimetype": "text/x-python",
   "name": "python",
   "nbconvert_exporter": "python",
   "pygments_lexer": "ipython3",
   "version": "3.11.8"
  }
 },
 "nbformat": 4,
 "nbformat_minor": 2
}
