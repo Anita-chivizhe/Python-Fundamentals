{
 "cells": [
  {
   "cell_type": "code",
   "execution_count": null,
   "metadata": {},
   "outputs": [],
   "source": [
    "def format_country_list(countries):\n",
    "    count = 0\n",
    "    for country in countries:\n",
    "        count += 1\n",
    "        print(\n",
    "            f\"{count:2}. {country['name']['common']:<20} - {country['population']:>20,}\"\n",
    "        )\n"
   ]
  },
  {
   "cell_type": "code",
   "execution_count": null,
   "metadata": {},
   "outputs": [],
   "source": [
    "def format_country_list(countries):\n",
    "    for count, country in enumerate(countries):\n",
    "        print(\n",
    "            f\"{count:2}. {country['name']['common']:<20} - {country['population']:>20,}\"\n",
    "        )\n",
    "\n",
    "format_country_list(countries)"
   ]
  }
 ],
 "metadata": {
  "language_info": {
   "name": "python"
  }
 },
 "nbformat": 4,
 "nbformat_minor": 2
}
