{
 "cells": [
  {
   "cell_type": "markdown",
   "metadata": {},
   "source": [
    "## Data Manipulation Challenges 📊\n",
    "\n",
    "<details>\n",
    "<summary>Exercise 1: Data Sorting and Ranking (⭐⭐)</summary>\n",
    "\n",
    "### 🏆 Objective\n",
    "\n",
    "Sort a complex data structure and add a ranking key based on a specific criterion.\n",
    "\n",
    "```python\n",
    "# Setup Code\n",
    "students = [\n",
    "    {\"name\": \"Alice\", \"grade\": 88},\n",
    "    {\"name\": \"Bob\", \"grade\": 75},\n",
    "    {\"name\": \"Charlie\", \"grade\": 93}\n",
    "]\n",
    "# Expected Task: Sort the list of dictionaries by grade in descending order and add a \"rank\" key to each dictionary based on the sorting.\n",
    "\n",
    "# Your solution here:\n",
    "# sorted_students = ...\n",
    "\n",
    "# Expected Output\n",
    "# print(sorted_students)\n",
    "```\n",
    "\n",
    "### Expected Output\n",
    "\n",
    "```\n",
    "[\n",
    "    {\"name\": \"Charlie\", \"grade\": 93, \"rank\": 1},\n",
    "    {\"name\": \"Alice\", \"grade\": 88, \"rank\": 2},\n",
    "    {\"name\": \"Bob\", \"grade\": 75, \"rank\": 3}\n",
    "]\n",
    "```\n",
    "\n",
    "</details>"
   ]
  },
  {
   "cell_type": "markdown",
   "metadata": {},
   "source": [
    "<details>\n",
    "<summary>Exercise 4: Complex Data Transformation (⭐⭐⭐)</summary>\n",
    "\n",
    "### 🔄 Objective\n",
    "\n",
    "Transform a list of dictionaries into a new structure.\n",
    "\n",
    "```python\n",
    "# Setup Code\n",
    "orders = [\n",
    "    {\"order_id\": 1, \"items\": [{\"product\": \"A\", \"quantity\": 2}, {\"product\": \"B\", \"quantity\": 3}]},\n",
    "    {\"order_id\": 2, \"items\": [{\"product\": \"A\", \"quantity\": 1}, {\"product\": \"C\", \"quantity\": 1}]}\n",
    "]\n",
    "# Expected Task: Transform this list into a dictionary where keys are product names and values are total quantities ordered across all orders.\n",
    "\n",
    "# Your solution here:\n",
    "# product_quantities = ...\n",
    "\n",
    "# Expected Output\n",
    "# print(product_quantities)\n",
    "```\n",
    "\n",
    "### Expected Output\n",
    "\n",
    "```\n",
    "{\n",
    "    \"A\": 3,\n",
    "    \"B\": 3,\n",
    "    \"C\": 1\n",
    "}\n",
    "```\n",
    "\n",
    "</details>\n",
    "\n"
   ]
  },
  {
   "cell_type": "code",
   "execution_count": 8,
   "metadata": {},
   "outputs": [
    {
     "name": "stdout",
     "output_type": "stream",
     "text": [
      "{'A': 3, 'B': 3, 'C': 1}\n"
     ]
    }
   ],
   "source": [
    "orders = [\n",
    "    {\n",
    "        \"order_id\": 1,\n",
    "        \"items\": [{\"product\": \"A\", \"quantity\": 2}, {\"product\": \"B\", \"quantity\": 3}],\n",
    "    },\n",
    "    {\n",
    "        \"order_id\": 2,\n",
    "        \"items\": [{\"product\": \"A\", \"quantity\": 1}, {\"product\": \"C\", \"quantity\": 1}],\n",
    "    },\n",
    "]\n",
    "\n",
    "product_quantities = {}\n",
    "# product_quantities['A']\n",
    "product_quantities.get(\"A\",0)\n",
    "\n",
    "\n",
    "for order in orders:\n",
    "    for item in order[\"items\"]:\n",
    "        product = item[\"product\"]\n",
    "        quantity = item[\"quantity\"]\n",
    "        product_quantities[item[\"product\"]] = (\n",
    "            product_quantities.get(item[\"product\"],0) + item[\"quantity\"]\n",
    "        )\n",
    "\n",
    "print(product_quantities)"
   ]
  },
  {
   "cell_type": "markdown",
   "metadata": {},
   "source": [
    "<details>\n",
    "<summary>Exercise 5: Data Consolidation and Summarization (⭐⭐⭐)</summary>\n",
    "\n",
    "### 📊 Objective\n",
    "\n",
    "Consolidate and summarize data from a list of dictionaries.\n",
    "\n",
    "```python\n",
    "# Setup Code\n",
    "transactions = [\n",
    "    {\"date\": \"2021-01-01\", \"amount\": 100, \"category\": \"Food\"},\n",
    "    {\"date\": \"2021-01-01\", \"amount\": 200, \"category\": \"Transport\"},\n",
    "    {\"date\": \"2021-01-02\", \"amount\": 150, \"category\": \"Food\"}\n",
    "]\n",
    "# Expected Task: Summarize the total amount spent per category.\n",
    "\n",
    "# Your solution here:\n",
    "# category_totals = ...\n",
    "\n",
    "# Expected Output\n",
    "# print(category_totals)\n",
    "```\n",
    "\n",
    "### Expected Output\n",
    "\n",
    "```\n",
    "{\n",
    "    \"Food\": 250,\n",
    "    \"Transport\": 200\n",
    "}"
   ]
  },
  {
   "cell_type": "code",
   "execution_count": null,
   "metadata": {},
   "outputs": [],
   "source": [
    "transactions = [\n",
    "    {\"date\": \"2021-01-01\", \"amount\": 100, \"category\": \"Food\"},\n",
    "    {\"date\": \"2021-01-01\", \"amount\": 200, \"category\": \"Transport\"},\n",
    "    {\"date\": \"2021-01-02\", \"amount\": 150, \"category\": \"Food\"},\n",
    "]\n"
   ]
  },
  {
   "cell_type": "markdown",
   "metadata": {},
   "source": [
    "<details>\n",
    "<summary>Exercise 9: Magical Book Filter and Formatter (⭐⭐⭐)</summary>\n",
    "\n",
    "### 📚 Objective\n",
    "\n",
    "Combine `filter`, `map`, and lambda functions to process a list of books and format their titles.\n",
    "\n",
    "```python\n",
    "# Setup Code\n",
    "books = [{\"title\": \"A History of Magic\", \"pages\": 100}, {\"title\": \"Magical Drafts and Potions\", \"pages\": 150}]\n",
    "# Expected Task: Filter books with more than 120 pages and format their titles to uppercase.\n",
    "\n",
    "# Your solution here:\n",
    "# formatted_titles = ...\n",
    "\n",
    "# Expected Output\n",
    "# print(formatted_titles)\n",
    "```\n",
    "\n",
    "### Expected Output\n",
    "\n",
    "```\n",
    "['MAGICAL DRAFTS AND POTIONS']\n",
    "```\n"
   ]
  },
  {
   "cell_type": "code",
   "execution_count": 2,
   "metadata": {},
   "outputs": [
    {
     "name": "stdout",
     "output_type": "stream",
     "text": [
      "['MAGICAL DRAFTS AND POTIONS']\n"
     ]
    }
   ],
   "source": [
    "books = [{\"title\": \"A History of Magic\", \"pages\": 100}, {\"title\": \"Magical Drafts and Potions\", \"pages\": 150}]\n",
    "\n",
    "filtered_books = filter(lambda book: book[\"pages\"] > 120, books)\n",
    "formatted_titles = map(lambda book: book[\"title\"].upper(), filtered_books)\n",
    "print(list(formatted_titles))"
   ]
  },
  {
   "cell_type": "markdown",
   "metadata": {},
   "source": []
  },
  {
   "cell_type": "markdown",
   "metadata": {},
   "source": [
    "<details>\n",
    "<summary>Exercise 12: Hogwarts Library Database Query (⭐⭐)</summary>\n",
    "\n",
    "### 📚 Objective\n",
    "\n",
    "Simulate a database query to find books by a specific author using list comprehensions.\n",
    "\n",
    "```python\n",
    "# Setup Code\n",
    "library = [\n",
    "    {\"title\": \"Unfogging the Future\", \"author\": \"Cassandra Vablatsky\"},\n",
    "    {\"title\": \"Magical Hieroglyphs and Logograms\", \"author\": \"Bathilda Bagshot\"}\n",
    "]\n",
    "# Expected Task: Use a list comprehension to select books written by Bathilda Bagshot.\n",
    "\n",
    "# Your solution here:\n",
    "# bagshot_books = ...\n",
    "\n",
    "# Expected Output\n",
    "# print(bagshot_books)\n",
    "```\n",
    "\n",
    "### Expected Output\n",
    "\n",
    "```\n",
    "[{'title': 'Magical Hieroglyphs and Logograms', 'author': 'Bathilda Bagshot'}]\n",
    "```\n",
    "\n",
    "</details>"
   ]
  },
  {
   "cell_type": "code",
   "execution_count": null,
   "metadata": {},
   "outputs": [],
   "source": [
    "library = [\n",
    "    {\"title\": \"Unfogging the Future\", \"author\": \"Cassandra Vablatsky\"},\n",
    "    {\"title\": \"Magical Hieroglyphs and Logograms\", \"author\": \"Bathilda Bagshot\"},\n",
    "]\n",
    "\n",
    "# Solution using a for loop\n",
    "bagshot_books = []\n",
    "for book in library:\n",
    "    if book[\"author\"] == \"Bathilda Bagshot\":\n",
    "        bagshot_books.append(book)\n",
    "\n",
    "\n",
    "print(bagshot_books)\n"
   ]
  },
  {
   "cell_type": "code",
   "execution_count": null,
   "metadata": {},
   "outputs": [],
   "source": [
    "library = [\n",
    "    {\"title\": \"Unfogging the Future\", \"author\": \"Cassandra Vablatsky\"},\n",
    "    {\"title\": \"Magical Hieroglyphs and Logograms\", \"author\": \"Bathilda Bagshot\"},\n",
    "]\n",
    "\n",
    "# list comprehension to find books by Bathilda Bagshot\n",
    "bagshot_books = [book for book in library if book[\"author\"] == \"Bathilda Bagshot\"]\n",
    "\n",
    "\n",
    "print(bagshot_books)\n"
   ]
  },
  {
   "cell_type": "markdown",
   "metadata": {},
   "source": [
    "<summary>Exercise 13: Hogwarts House Points Calculator (⭐⭐⭐)</summary>\n",
    "\n",
    "### 🏆 Objective\n",
    "\n",
    "Calculate the total points for each house using nested loops and a list of dictionaries.\n",
    "\n",
    "```python\n",
    "# Setup Code\n",
    "house_points = [\n",
    "    {\"house\": \"Gryffindor\", \"points\": 35},\n",
    "    {\"house\": \"Slytherin\", \"points\": 50},\n",
    "    {\"house\": \"Gryffindor\", \"points\": 60},\n",
    "    {\"house\": \"Slytherin\", \"points\": 40}\n",
    "]\n",
    "# Expected Task: Aggregate points for each house and print the total.\n",
    "\n",
    "# Your solution here:\n",
    "# house_totals = ...\n",
    "\n",
    "# Expected Output\n",
    "# print(house_totals)\n",
    "```\n",
    "\n",
    "### Expected Output\n",
    "\n",
    "```\n",
    "{\n",
    "    \"Gryffindor\": 95,\n",
    "    \"Slytherin\": 90\n",
    "}\n",
    "```\n",
    "\n",
    "</details>"
   ]
  },
  {
   "cell_type": "code",
   "execution_count": null,
   "metadata": {},
   "outputs": [
    {
     "name": "stdout",
     "output_type": "stream",
     "text": [
      "{'Gryffindor': 95, 'Slytherin': 90}\n"
     ]
    }
   ],
   "source": [
    "house_points = [\n",
    "    {\"house\": \"Gryffindor\", \"points\": 35},\n",
    "    {\"house\": \"Slytherin\", \"points\": 50},\n",
    "    {\"house\": \"Gryffindor\", \"points\": 60},\n",
    "    {\"house\": \"Slytherin\", \"points\": 40},\n",
    "]\n",
    "\n",
    "# initialize an empty dictionary\n",
    "total_points = {}\n",
    "\n",
    "# iterate over the house_points list\n",
    "for point in house_points:\n",
    "    house = point[\"house\"]\n",
    "    points = point[\"points\"]\n",
    "    # for each house, if it already exists in the dictionary, we add the points to the  total.\n",
    "    if house in total_points:\n",
    "        total_points[house] += points\n",
    "    # If it doesn't exist yet, we set the points as the initial total for that house.\n",
    "    else:\n",
    "        total_points[house] = points\n",
    "\n",
    "\n",
    "print(total_points)"
   ]
  },
  {
   "cell_type": "markdown",
   "metadata": {},
   "source": [
    "<details>\n",
    "<summary>Exercise 16: Wizard Profile Generator with f-strings (⭐)</summary>\n",
    "\n",
    "### 🧙‍♂️ Objective\n",
    "\n",
    "Dynamically generate wizard profiles using f-strings and dictionary unpacking.\n",
    "\n",
    "```python\n",
    "# Setup Code\n",
    "wizard = {\"name\": \"Albus Dumbledore\", \"title\": \"Headmaster\", \"house\": \"Gryffindor\"}\n",
    "# Expected Task: Use an f-string to create a profile string that includes the wizard's name, title, and house.\n",
    "\n",
    "# Your solution here:\n",
    "# profile = ...\n",
    "\n",
    "# Expected Output\n",
    "# print(profile)\n",
    "```\n",
    "\n",
    "### Expected Output\n",
    "\n",
    "```\n",
    "Albus Dumbledore, the Headmaster of Gryffindor.\n",
    "```"
   ]
  },
  {
   "cell_type": "code",
   "execution_count": 11,
   "metadata": {},
   "outputs": [
    {
     "name": "stdout",
     "output_type": "stream",
     "text": [
      "Albus Dumbledore, the Headmaster of Gryffindor\n"
     ]
    }
   ],
   "source": [
    "wizard = {\"name\": \"Albus Dumbledore\", \"title\": \"Headmaster\", \"house\": \"Gryffindor\"}\n",
    "\n",
    "profile = f\"{wizard['name']}, the {wizard['title']} of {wizard['house']}\"\n",
    "\n",
    "print(profile)"
   ]
  },
  {
   "cell_type": "markdown",
   "metadata": {},
   "source": []
  },
  {
   "cell_type": "markdown",
   "metadata": {},
   "source": [
    "<details>\n",
    "<summary>Exercise 14: Class Inheritance for Magical Creatures (⭐⭐⭐⭐)</summary>\n",
    "\n",
    "### 🐉 Objective\n",
    "\n",
    "Implement a class hierarchy for magical creatures where each subclass overrides a common method.\n",
    "\n",
    "```python\n",
    "# Setup Code\n",
    "class MagicalCreature:\n",
    "    # Your implementation here\n",
    "    pass\n",
    "\n",
    "class Dragon(MagicalCreature):\n",
    "    # Your implementation here\n",
    "    pass\n",
    "\n",
    "class Unicorn(MagicalCreature):\n",
    "    # Your implementation here\n",
    "    pass\n",
    "\n",
    "# Example usage:\n",
    "# dragon = Dragon(\"Norwegian Ridgeback\")\n",
    "# unicorn = Unicorn(\"Silver-maned\")\n",
    "# dragon.sound()  # Should print \"Roar\"\n",
    "# unicorn.sound()  # Should print \"Neigh\"\n",
    "```\n",
    "\n",
    "### Expected Output\n",
    "\n",
    "```\n",
    "Norwegian Ridgeback the Dragon says: Roar!\n",
    "Silver-maned the Unicorn says: Neigh!\n",
    "```\n",
    "\n",
    "</details>\n"
   ]
  }
 ],
 "metadata": {
  "kernelspec": {
   "display_name": ".venv",
   "language": "python",
   "name": "python3"
  },
  "language_info": {
   "codemirror_mode": {
    "name": "ipython",
    "version": 3
   },
   "file_extension": ".py",
   "mimetype": "text/x-python",
   "name": "python",
   "nbconvert_exporter": "python",
   "pygments_lexer": "ipython3",
   "version": "3.11.8"
  }
 },
 "nbformat": 4,
 "nbformat_minor": 2
}
