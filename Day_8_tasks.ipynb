{
 "cells": [
  {
   "cell_type": "markdown",
   "metadata": {},
   "source": [
    "# Task 1\n",
    "# Create function\n",
    " \n",
    " \n",
    "# greet(\"Ragav\") -> Hi Ragav! 👋\n",
    "# greet(\"Jamie\") -> Hi Jamie! 👋"
   ]
  },
  {
   "cell_type": "code",
   "execution_count": null,
   "metadata": {},
   "outputs": [],
   "source": [
    "def greet(name):\n",
    "    return (name)\n",
    "\n",
    "name1 = greet(\"Ragav\")\n",
    "name2 = greet(\"Jaime\")\n",
    "\n",
    "print(f\"\"\" Hi {name1}! 👋  Hi {name2}! 👋\"\"\")"
   ]
  },
  {
   "cell_type": "code",
   "execution_count": null,
   "metadata": {},
   "outputs": [],
   "source": [
    "def greet(name):\n",
    "    return f\"Hi {name}!👋\"\n",
    "print(greet(\"Anita\"))"
   ]
  },
  {
   "cell_type": "markdown",
   "metadata": {},
   "source": [
    "# Task 2\n",
    "# Create a function named driving_test which takes name, age are parameter and returns eligibility\n",
    " \n",
    "# Case 1:\n",
    "# Anita is eligible for driving.\n",
    " \n",
    "# Case 2:\n",
    "# Try again after few years 👶🍼"
   ]
  },
  {
   "cell_type": "code",
   "execution_count": null,
   "metadata": {},
   "outputs": [],
   "source": [
    "def driving_test(name, age):\n",
    "     if age > 18:\n",
    "          return f\"{name} is eligible for driving.\"\n",
    "     else:\n",
    "          return \"Try again after few years 👶🍼\"\n",
    "\n",
    "print (driving_test(\"Anita\", 17))"
   ]
  },
  {
   "cell_type": "markdown",
   "metadata": {},
   "source": [
    "Pattern creation (List Compression)\n",
    " \n",
    " \n",
    "`pattern(\"🥕\", 5)`\n",
    " \n",
    "## Output\n",
    "```\n",
    "🥕\n",
    "🥕🥕\n",
    "🥕🥕🥕\n",
    "🥕🥕🥕🥕\n",
    "🥕🥕🥕🥕🥕\n",
    "```\n",
    " \n",
    "`pattern(\"🥔\", 3)`\n",
    " \n",
    "## Output\n",
    "```\n",
    "🥔\n",
    "🥔🥔\n",
    "🥔🥔🥔\n",
    "```"
   ]
  },
  {
   "cell_type": "code",
   "execution_count": null,
   "metadata": {},
   "outputs": [],
   "source": [
    "def pattern(emoji, no):\n",
    "    for i in range(1,no + 1):\n",
    "     print(emoji * i)\n",
    "\n",
    "(pattern(\"🥕\", 5))\n",
    "(pattern(\"🥔\", 3))"
   ]
  },
  {
   "cell_type": "code",
   "execution_count": null,
   "metadata": {},
   "outputs": [],
   "source": [
    "def pattern(emoji, no):\n",
    "    return(emoji * i for i in range(1,no))\n",
    "\n",
    "print(pattern(\"🥕\", 5))\n",
    "print(pattern(\"🥔\", 3))"
   ]
  },
  {
   "cell_type": "code",
   "execution_count": null,
   "metadata": {},
   "outputs": [],
   "source": [
    "for i in range(6):\n",
    " print(\"🔥\" * i)"
   ]
  },
  {
   "cell_type": "markdown",
   "metadata": {},
   "source": [
    "# Task 4\n",
    " \n",
    "def greet(name):\n",
    "    return f\"Hi {name}! 👋\"\n",
    " \n",
    " \n",
    "names = [\"Anita\", \"Jamie\", \"Divyali\", \"Siyanda\"]\n",
    " \n",
    "# Output\n",
    "# Hi Anita! 👋\n",
    "# Hi Jamie! 👋\n",
    "# Hi Divyali! 👋\n",
    "# Hi Siyanda! 👋"
   ]
  },
  {
   "cell_type": "code",
   "execution_count": null,
   "metadata": {},
   "outputs": [],
   "source": [
    "def greet(name):\n",
    "     return f\"Hi {name}! 👋\"\n",
    "\n",
    "\n",
    "\n",
    "names = [\"Anita\", \"Jamie\", \"Divyali\", \"Siyanda\"]\n",
    "for name in names:\n",
    " print(greet(name))"
   ]
  },
  {
   "cell_type": "code",
   "execution_count": null,
   "metadata": {},
   "outputs": [],
   "source": [
    "names = [\"Anita\", \"Jamie\", \"Divyali\", \"Siyanda\"]\n",
    "print(\"\\n\".join(names))"
   ]
  },
  {
   "cell_type": "markdown",
   "metadata": {},
   "source": [
    "library_list = [\n",
    "    {\n",
    "        \"title\": \"Python Programming\",\n",
    "        \"author\": \"Eric Matthes\",\n",
    "        \"year\": 2019,\n",
    "        \"available\": True\n",
    "    },\n",
    "    {\n",
    "        \"title\": \"Automate the Boring Stuff with Python\",\n",
    "        \"author\": \"Al Sweigart\",\n",
    "        \"year\": 2020,\n",
    "        \"available\": True\n",
    "    },\n",
    "    {\n",
    "        \"title\": \"Learning Python I\",\n",
    "        \"author\": \"Mark Lutz\",\n",
    "        \"year\": 2013,\n",
    "        \"available\": False\n",
    "    },\n",
    "    {\n",
    "        \"title\": \"Fluent Python\",\n",
    "        \"author\": \"Luciano Ramalho\",\n",
    "        \"year\": 2015,\n",
    "        \"available\": True\n",
    "    },\n",
    "    {\n",
    "        \"title\": \"Adavance Python\",\n",
    "        \"author\": \"Mark Lutz\",\n",
    "        \"year\": 2015,\n",
    "        \"available\": False\n",
    "    },\n",
    "]"
   ]
  },
  {
   "cell_type": "markdown",
   "metadata": {},
   "source": [
    "# Output\n",
    "# Welcome to our Library app\n",
    "# Main menu:\n",
    "# 1. Add book to the library\n",
    "# 2. Print all the books\n",
    "# 3. Exit\n",
    " \n",
    "# Please choose an option: 1\n",
    "# Please tell me the title?\n",
    "# Please tell me the author?\n",
    "# Please tell me the year?\n",
    "# Please tell me the available?\n",
    " \n",
    "# Successfully added 😄✅\n",
    " \n",
    "# Main menu:\n",
    "# 1. Add book to the library\n",
    "# 2. Print all the books\n",
    "# 3. Exit\n",
    " \n",
    "# Please choose an option: 2\n",
    " \n",
    "[\n",
    "    {\n",
    "        \"title\": \"Python Programming\",\n",
    "        \"author\": \"Eric Matthes\",\n",
    "        \"year\": 2019,\n",
    "        \"available\": True\n",
    "    },\n",
    "    {\n",
    "        \"title\": \"Automate the Boring Stuff with Python\",\n",
    "        \"author\": \"Al Sweigart\",\n",
    "        \"year\": 2020,\n",
    "        \"available\": True\n",
    "    },\n",
    "    {\n",
    "        \"title\": \"Learning Python I\",\n",
    "        \"author\": \"Mark Lutz\",\n",
    "        \"year\": 2013,\n",
    "        \"available\": False\n",
    "    },\n",
    "    {\n",
    "        \"title\": \"Fluent Python\",\n",
    "        \"author\": \"Luciano Ramalho\",\n",
    "        \"year\": 2015,\n",
    "        \"available\": True\n",
    "    },\n",
    "    {\n",
    "        \"title\": \"Adavance Python\",\n",
    "        \"author\": \"Mark Lutz\",\n",
    "        \"year\": 2015,\n",
    "        \"available\": False\n",
    "    },\n",
    "]\n",
    " \n",
    "# Main menu:\n",
    "# 1. Add book to the library\n",
    "# 2. Print all the books\n",
    "# 3. Exit\n",
    " \n",
    "# Bye 😄👋\n",
    " "
   ]
  },
  {
   "cell_type": "code",
   "execution_count": null,
   "metadata": {},
   "outputs": [],
   "source": [
    "library_list = [\n",
    "    {\n",
    "        \"title\": \"Python Programming\",\n",
    "        \"author\": \"Eric Matthes\",\n",
    "        \"year\": 2019,\n",
    "        \"available\": True,\n",
    "    },\n",
    "    {\n",
    "        \"title\": \"Automate the Boring Stuff with Python\",\n",
    "        \"author\": \"Al Sweigart\",\n",
    "        \"year\": 2020,\n",
    "        \"available\": True,\n",
    "    },\n",
    "    {\n",
    "        \"title\": \"Learning Python I\",\n",
    "        \"author\": \"Mark Lutz\",\n",
    "        \"year\": 2013,\n",
    "        \"available\": False,\n",
    "    },\n",
    "    {\n",
    "        \"title\": \"Fluent Python\",\n",
    "        \"author\": \"Luciano Ramalho\",\n",
    "        \"year\": 2015,\n",
    "        \"available\": True,\n",
    "    },\n",
    "    {\n",
    "        \"title\": \"Adavance Python\",\n",
    "        \"author\": \"Mark Lutz\",\n",
    "        \"year\": 2015,\n",
    "        \"available\": False,\n",
    "    },\n",
    "]\n",
    "\n",
    "print(\"Welcome to our Library app\")\n",
    "\n",
    "\n",
    "def options(menu):\n",
    "    return f\"\"\" Main Menu:\n",
    " 1. Add book to the library\n",
    " 2. Print all the books\n",
    " 3. Exit\"\"\"\n",
    "\n",
    "\n",
    "while True:\n",
    "   print(options(\"menu\"))\n",
    "   def add_book(tittle, author, availabilty, year):\n",
    "       return f\"Add a new book\"\n"
   ]
  },
  {
   "cell_type": "code",
   "execution_count": null,
   "metadata": {},
   "outputs": [],
   "source": [
    "def driving_test(name, age):\n",
    "    return (\n",
    "        f\"{name} is eligible for driving test\"\n",
    "        if age >= 18\n",
    "        else \"Try again after few years 👶🍼\"\n",
    "    )\n",
    "\n",
    "\n",
    "print(driving_test(\"Anita\", 20))\n",
    "print(driving_test(\"Jevan\", 14))\n",
    "print(driving_test(\"Chelo\", 18))\n"
   ]
  }
 ],
 "metadata": {
  "kernelspec": {
   "display_name": ".venv",
   "language": "python",
   "name": "python3"
  },
  "language_info": {
   "codemirror_mode": {
    "name": "ipython",
    "version": 3
   },
   "file_extension": ".py",
   "mimetype": "text/x-python",
   "name": "python",
   "nbconvert_exporter": "python",
   "pygments_lexer": "ipython3",
   "version": "3.11.8"
  }
 },
 "nbformat": 4,
 "nbformat_minor": 2
}
