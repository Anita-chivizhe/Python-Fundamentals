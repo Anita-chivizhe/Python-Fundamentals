{
 "cells": [
  {
   "cell_type": "markdown",
   "metadata": {
    "vscode": {
     "languageId": "plaintext"
    }
   },
   "source": [
    "## Object\n",
    "### BMW\n",
    "- Wheels - 4\n",
    "- Engine - v8\n",
    "- model - x5\n",
    "- Doors - 4\n",
    " \n",
    "### Jeep\n",
    "- Wheels - 4\n",
    "- Engine - v6\n",
    "- model - wrangler\n",
    "- Doors - 5\n",
    " \n",
    "### Mclaren\n",
    "- Wheels - 4\n",
    "- Engine - v8\n",
    "- model - 650s\n",
    "- Doors - 2\n",
    " "
   ]
  },
  {
   "cell_type": "code",
   "execution_count": null,
   "metadata": {},
   "outputs": [],
   "source": [
    "class Car:\n",
    "    # method init -> Called when you create object\n",
    "    def __init__(self, wheels, engine, model, doors):\n",
    "        # self -> object\n",
    "        # instance variables\n",
    "        self.wheels = wheels\n",
    "        self.engine = engine\n",
    "        self.model = model\n",
    "        self.doors = doors\n",
    "\n",
    "    # instance method\n",
    "    def horn(self):\n",
    "        return \"Vroom Vroom\"\n",
    "\n",
    "bmw = Car(4, \"v8\", \"x5\", 4)  # bmw -> object / instance\n",
    "jeep = Car(4, \"v6\", \"wrangler\", 5)  # jeep -> object / inst\n",
    "polo = Car(4, \"1.4\", \"vivo\", 4)\n",
    "audi = Car(4, \"v8\", \"Q7\", 4)\n",
    "\n",
    "horn(self)"
   ]
  },
  {
   "cell_type": "markdown",
   "metadata": {},
   "source": [
    "## Bank\n",
    "1. acc_no\n",
    "2. name\n",
    "3. balance"
   ]
  },
  {
   "cell_type": "code",
   "execution_count": null,
   "metadata": {},
   "outputs": [],
   "source": [
    "class Bank:\n",
    "    def __init__(self, acc_no, name,balance):\n",
    "        self.acc_no = acc_no\n",
    "        self.name = name\n",
    "        self.balance = balance\n",
    "\n",
    "chleo = Bank(1,\"chleo\", 100000)\n",
    "diyali = Bank(2, \"chleo\", 600000)\n",
    "jevan = Bank(3, \"jevan\", 800000)\n",
    "print(chleo.balance)\n",
    "print(jevan.balance)\n",
    "print(diyali.balance)"
   ]
  },
  {
   "cell_type": "code",
   "execution_count": null,
   "metadata": {},
   "outputs": [],
   "source": [
    "class Bank:\n",
    "    def __init__(self, acc_no, name, balance):\n",
    "        self.acc_no = acc_no\n",
    "        self.name = name\n",
    "        self.balance = balance\n",
    "\n",
    "    def display_balance(self):\n",
    "     return f\"Your balance is: R{self.balance:,.2f}\"\n",
    "\n",
    "chleo = Bank(1, \"chleo\", 100000)\n",
    "diyali = Bank(2, \"chleo\", 600000)\n",
    "jevan = Bank(3, \"jevan\", 800000)\n",
    "\n",
    "print(chleo.display_balance())"
   ]
  },
  {
   "cell_type": "markdown",
   "metadata": {},
   "source": [
    "## Task 1.4\n",
    " \n",
    "```py\n",
    "print(chelo.withdraw(2_000))  # Success. Your balance is: R98,000.00\n",
    "print(chelo.display_balance())  # Your balance is: R98,000.00\n",
    "```"
   ]
  },
  {
   "cell_type": "code",
   "execution_count": null,
   "metadata": {},
   "outputs": [],
   "source": [
    "class Bank:\n",
    "    def __init__(self, acc_no, name, balance):\n",
    "        self.acc_no = acc_no\n",
    "        self.name = name\n",
    "        self.balance = balance\n",
    "\n",
    "    def display_balance(self):\n",
    "        return f\"Your balance is {self.balance:,}\"\n",
    "\n",
    "    def withdraw(self,amount):\n",
    "        if  amount > self.balance:\n",
    "            return f\"You have insufficient funds. {self.display_balance}\"\n",
    "        elif  amount <= self.balance:\n",
    "         self.balance -= amount\n",
    "        return f\"Success. {self.display_balance}\"\n",
    "    def deposit(self, dep_amount):\n",
    "        self.balance += dep_amount\n",
    "        return f\"Success. Y{self.display_balance}\"\n",
    "\n",
    "chleo = Bank(1, \"chleo\", 100000)\n",
    "diyali = Bank(2, \"chleo\", 600000)\n",
    "jevan = Bank(3, \"jevan\", 800000)\n",
    "\n",
    "print(chleo.withdraw(2_000))\n",
    "print(diyali.deposit(5_000))\n",
    "print(diyali.display_balance())\n",
    "print(diyali.withdraw(1_000))"
   ]
  },
  {
   "cell_type": "markdown",
   "metadata": {},
   "source": [
    "## Task 1.4\n",
    " \n",
    "```py\n",
    "print(diyali.deposit(5_000))  # Successfully deposited. Your balance is: R65,000.00\n",
    "print(diyali.display_balance())  # Your balance is: R65,000.00\n",
    "print(diyali.withdraw(1_000)) # Success. Your balance is: R64,000.00\n",
    "```"
   ]
  },
  {
   "cell_type": "markdown",
   "metadata": {},
   "source": [
    "# Class variable - for all the instance value remains same\n",
    "# instance variable -> for each instance value is different\n",
    "class Circle:\n",
    "    # Class variable\n",
    "    pi = 3.14\n",
    "   \n",
    "    def __init__(self, radius):\n",
    "        # instance variable\n",
    "        self.radius = radius\n",
    "   \n",
    "    def calculate_area(self):\n",
    "        pass    \n",
    "       \n",
    "c1 = Circle(2)\n",
    "c2 = Circle(4)    \n",
    " \n",
    "print(c1.pi)    \n",
    "print(c2.pi)\n",
    "print(Circle.pi)    "
   ]
  },
  {
   "cell_type": "code",
   "execution_count": null,
   "metadata": {},
   "outputs": [],
   "source": [
    "class Circle:\n",
    "    # Class variable\n",
    "    pi = 3.14\n",
    "\n",
    "    def __init__(self, radius):\n",
    "        # instance variable\n",
    "        self.radius = radius\n",
    "\n",
    "    def calculate_area(self):\n",
    "         return Circle.pi * (self.radius**2)\n",
    "\n",
    "\n",
    "c1 = Circle(2)\n",
    "c2 = Circle(4)\n",
    "\n",
    "print(c1.calculate_area())\n",
    "print(c2.pi)\n",
    "print(Circle.pi)\n"
   ]
  },
  {
   "cell_type": "code",
   "execution_count": null,
   "metadata": {},
   "outputs": [
    {
     "name": "stdout",
     "output_type": "stream",
     "text": [
      "Success. Your balance is: R98000.00\n",
      "Success. Your balance is: R605000.00\n",
      "Your balance is 605,000\n",
      "Success. Your balance is: R604000.00\n",
      "99960.0\n",
      "616080.0\n",
      "816000.0\n"
     ]
    }
   ],
   "source": [
    "class Bank:\n",
    "    interest = 0.02\n",
    "    def __init__(self, acc_no, name, balance):\n",
    "        self.acc_no = acc_no\n",
    "        self.name = name\n",
    "        self.balance = balance\n",
    "\n",
    "    def display_balance(self):\n",
    "        return f\"Your balance is {self.balance:,}\"\n",
    "\n",
    "    def withdraw(self, amount):\n",
    "        if amount > self.balance:\n",
    "            return f\"You have insufficient funds. {self.display_balance}\"\n",
    "        elif amount <= self.balance:\n",
    "            self.balance -= amount\n",
    "        return f\"Success. Your balance is: R{self.balance:.2f}\"\n",
    "\n",
    "    def deposit(self, dep_amount):\n",
    "        self.balance += dep_amount\n",
    "        return f\"Success. Your balance is: R{self.balance:.2f}\"\n",
    "    #@staticmethod\n",
    "    def apply_interest( self):\n",
    "       self.balance = self.balance + (self.balance * self.interest)\n",
    "       return self.balance\n",
    "    # @staticmethod\n",
    "    # def apply_interest(interest):\n",
    "    #     return self.balance * interest\n",
    "\n",
    "\n",
    "chleo = Bank(1, \"chleo\", 100000)\n",
    "diyali = Bank(2, \"chleo\", 600000)\n",
    "jevan = Bank(3, \"jevan\", 800000)\n",
    "\n",
    "# print(chleo.withdraw(2_000))\n",
    "# print(diyali.deposit(5_000))\n",
    "# print(diyali.display_balance())\n",
    "# print(diyali.withdraw(1_000))\n",
    "\n",
    "\n",
    "print(chleo.apply_interest())\n",
    "print(diyali.apply_interest())\n",
    "print(jevan.apply_interest())\n"
   ]
  },
  {
   "cell_type": "markdown",
   "metadata": {},
   "source": [
    "## Task 1.5\n",
    "- interest_rate 2%\n",
    "- One year is done\n",
    "\n",
    "```py\n",
    "\n",
    "chelo.apply_interest()\n",
    "diyali.apply_interest()\n",
    "jevan.apply_interest()\n",
    "\n",
    "```"
   ]
  },
  {
   "cell_type": "code",
   "execution_count": null,
   "metadata": {},
   "outputs": [],
   "source": []
  },
  {
   "cell_type": "code",
   "execution_count": null,
   "metadata": {},
   "outputs": [],
   "source": [
    "@staticmethod\n",
    "    def apply_interest(interest):\n",
    "        return Bank.interest\n",
    "    # @staticmethod\n",
    "    # def apply_interest(interest):\n",
    "    #     return self.balance * interest"
   ]
  },
  {
   "cell_type": "code",
   "execution_count": null,
   "metadata": {},
   "outputs": [],
   "source": [
    "@staticmethod\n",
    "def perimeter(radius):\n",
    "        return 2 * Circle.PI * radius"
   ]
  },
  {
   "cell_type": "markdown",
   "metadata": {},
   "source": [
    "## Task 1.6\n",
    "Bank.update_interest_rate(4) # 4%"
   ]
  },
  {
   "cell_type": "code",
   "execution_count": null,
   "metadata": {},
   "outputs": [
    {
     "name": "stdout",
     "output_type": "stream",
     "text": [
      "Interest rate invalid\n",
      "Interest rate invalid\n",
      "117119.07172498648\n",
      "721835.9114478759\n",
      "956074.0548978487\n"
     ]
    }
   ],
   "source": [
    "class Bank:\n",
    "    interest = 0.02\n",
    "\n",
    "    def __init__(self, acc_no, name, balance):\n",
    "        self.acc_no = acc_no\n",
    "        self.name = name\n",
    "        self.balance = balance\n",
    "\n",
    "    def display_balance(self):\n",
    "        return f\"Your balance is {self.balance:,}\"\n",
    "\n",
    "    def withdraw(self, amount):\n",
    "        if amount > self.balance:\n",
    "            return f\"You have insufficient funds. {self.display_balance}\"\n",
    "        elif amount <= self.balance:\n",
    "            self.balance -= amount\n",
    "        return f\"Success. Your balance is: R{self.balance:.2f}\"\n",
    "\n",
    "    def deposit(self, dep_amount):\n",
    "        self.balance += dep_amount\n",
    "        return f\"Success. Your balance is: R{self.balance:.2f}\"\n",
    "\n",
    "    # @staticmethod\n",
    "    def apply_interest(self):\n",
    "        self.balance = self.balance + (self.balance * self.interest)\n",
    "        return self.balance\n",
    "    @classmethod\n",
    "    def update_interest_rate(cls, new_interest):\n",
    "        if new_interest <= 0 or new_interest>=0:\n",
    "         return f\"Interest rate invalid\"\n",
    "        else:\n",
    "            cls.interest = new_interest / 100\n",
    "            return f\"Interest rate is updated to {cls.interest:.2f}\"\n",
    "class Savings(Bank):\n",
    "    interest = 0.05\n",
    "    def savings_int(self):\n",
    "        self.balance = self.balance + (self.balance * Savings.interest)\n",
    "        return f\"Interest rate is updated to {self.balance:.2f}\"\n",
    "\n",
    "class Checking(Bank):\n",
    "    trans_fee = 1\n",
    "    def withdraw(self, amount):\n",
    "        amount += self.trans_fee\n",
    "        return super().withdraw(amount)\n",
    "\n",
    "\n",
    "print(Bank.update_interest_rate(104))\n",
    "print(Bank.update_interest_rate(4))\n",
    "print(chleo.apply_interest())\n",
    "print(diyali.apply_interest())\n",
    "print(jevan.apply_interest())\n"
   ]
  },
  {
   "cell_type": "markdown",
   "metadata": {},
   "source": [
    "## Task 1.7\n",
    "\n",
    "```py\n",
    "print(Bank.get_total_no_accounts())  # In total we have 3 accounts\n",
    "```"
   ]
  },
  {
   "cell_type": "code",
   "execution_count": 66,
   "metadata": {},
   "outputs": [
    {
     "name": "stdout",
     "output_type": "stream",
     "text": [
      "In total we have 0 accounts\n"
     ]
    }
   ],
   "source": [
    "from itertools import count\n",
    "\n",
    "\n",
    "class Bank:\n",
    "    interest = 0.02\n",
    "    no_acc = 0\n",
    "\n",
    "    def __init__(self, acc_no, name, balance):\n",
    "        self.acc_no = acc_no\n",
    "        self.name = name\n",
    "        self.balance = balance\n",
    "        Bank.no_acc  +=  1\n",
    "\n",
    "    def display_balance(self):\n",
    "        return f\"Your balance is {self.balance:,}\"\n",
    "\n",
    "    def withdraw(self, amount):\n",
    "        if amount > self.balance:\n",
    "            return f\"You have insufficient funds. {self.display_balance}\"\n",
    "        elif amount <= self.balance:\n",
    "            self.balance -= amount\n",
    "        return f\"Success. Your balance is: R{self.balance:.2f}\"\n",
    "\n",
    "    def deposit(self, dep_amount):\n",
    "        self.balance += dep_amount\n",
    "        return f\"Success. Your balance is: R{self.balance:.2f}\"\n",
    "    @classmethod\n",
    "    def get_total_no_accounts(cls):\n",
    "\n",
    "        return f\"In total we have {cls.no_acc} accounts\"\n",
    "\n",
    "print(Bank.get_total_no_accounts())"
   ]
  },
  {
   "cell_type": "markdown",
   "metadata": {},
   "source": [
    "Task 1.8 & Task 1.9\n",
    "1.  SavingsAccount - 5%\n",
    "2.  CheckingAccount - R1 - transaction fee, Interest rate does not change\n",
    " \n",
    "```py\n",
    "chelo = SavingsAccount(123, \"Chleo Smith\", 100_000)\n",
    "```"
   ]
  },
  {
   "cell_type": "code",
   "execution_count": null,
   "metadata": {},
   "outputs": [],
   "source": [
    "class Bank:\n",
    "    interest = 0.02\n",
    "\n",
    "    def __init__(self, acc_no, name, balance):\n",
    "        self.acc_no = acc_no\n",
    "        self.name = name\n",
    "        self.balance = balance\n",
    "\n",
    "    def display_balance(self):\n",
    "        return f\"Your balance is {self.balance:,}\"\n",
    "\n",
    "    def withdraw(self, amount):\n",
    "        if amount > self.balance:\n",
    "            return f\"You have insufficient funds. {self.display_balance}\"\n",
    "        elif amount <= self.balance:\n",
    "            self.balance -= amount\n",
    "        return f\"Success. Your balance is: R{self.balance:.2f}\"\n",
    "\n",
    "    def deposit(self, dep_amount):\n",
    "        self.balance += dep_amount\n",
    "        return f\"Success. Your balance is: R{self.balance:.2f}\"\n",
    "class Savings(Bank):\n",
    "    interest = 0.05\n",
    "    def savings_int(self):\n",
    "        self.balance = self.balance + (self.balance * Savings.interest)\n",
    "        return f\"Interest rate is updated to {self.balance:.2f}\"\n"
   ]
  },
  {
   "cell_type": "code",
   "execution_count": null,
   "metadata": {},
   "outputs": [],
   "source": [
    "# Base / Parent Class\n",
    "class Animal:\n",
    "    def __init__(self, name):\n",
    "        self.name = name\n",
    "\n",
    "    def speak(self):\n",
    "        return \"Some sound\"\n",
    "\n",
    "\n",
    "# Dog inherits from Animal\n",
    "# Child Class\n",
    "class Dog(Animal):\n",
    "    def __init__(self, name, speed):\n",
    "        super().__init__(name) # super() -> Animal (takes care of name)\n",
    "        self.speed = speed\n",
    "\n",
    "\n",
    "    # eg: Method Overriding: Functionality of Base class is overridden\n",
    "    def speak(self):\n",
    "        return \"Woof Woof!! 🐕\"\n",
    "\n",
    "    def run(self):\n",
    "        return \"🐶 wags tails!! 🐕\"\n",
    "\n",
    "    def speed_bonus(self):\n",
    "        return f\"Running at {self.speed* 2}Km/hr"
   ]
  }
 ],
 "metadata": {
  "kernelspec": {
   "display_name": ".venv",
   "language": "python",
   "name": "python3"
  },
  "language_info": {
   "codemirror_mode": {
    "name": "ipython",
    "version": 3
   },
   "file_extension": ".py",
   "mimetype": "text/x-python",
   "name": "python",
   "nbconvert_exporter": "python",
   "pygments_lexer": "ipython3",
   "version": "3.11.8"
  }
 },
 "nbformat": 4,
 "nbformat_minor": 2
}
