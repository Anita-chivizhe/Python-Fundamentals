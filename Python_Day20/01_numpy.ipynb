{
 "cells": [
  {
   "cell_type": "code",
   "execution_count": 1,
   "metadata": {},
   "outputs": [],
   "source": [
    "import numpy as np"
   ]
  },
  {
   "cell_type": "code",
   "execution_count": 3,
   "metadata": {},
   "outputs": [
    {
     "name": "stdout",
     "output_type": "stream",
     "text": [
      "[95 77 42 91 41 78 49 46 67 50 85]\n",
      "65.54545454545455\n",
      "65.54545454545455\n"
     ]
    }
   ],
   "source": [
    "marks = np.random.randint(40, 100, 11)\n",
    "print(marks)\n",
    "print(marks.mean())\n",
    "print(np.mean(marks))"
   ]
  },
  {
   "cell_type": "markdown",
   "metadata": {},
   "source": [
    "### Task 1\n",
    "At the every year tell me balance for 10 years\n",
    "Clue: General formula\n",
    "1102.5 -> 1000 +\n",
    "[1050, 1102.5 ...., ]\n",
    " "
   ]
  },
  {
   "cell_type": "code",
   "execution_count": 33,
   "metadata": {},
   "outputs": [
    {
     "data": {
      "text/plain": [
       "array([1050.        , 1102.5       , 1157.625     , 1215.50625   ,\n",
       "       1276.2815625 , 1340.09564063, 1407.10042266, 1477.45544379,\n",
       "       1551.32821598, 1628.89462678])"
      ]
     },
     "execution_count": 33,
     "metadata": {},
     "output_type": "execute_result"
    }
   ],
   "source": [
    "initial_investment = 1_000\n",
    "int_rate = 0.05\n",
    "\n",
    "years_array = np.arange(1,11)\n",
    "\n",
    "balances = initial_investment*(1+int_rate) ** years_array\n",
    "\n",
    "balances"
   ]
  },
  {
   "cell_type": "markdown",
   "metadata": {},
   "source": [
    "### Task 2\n",
    "At the year of ten years what will be the balance"
   ]
  },
  {
   "cell_type": "code",
   "execution_count": null,
   "metadata": {},
   "outputs": [
    {
     "data": {
      "text/plain": [
       "np.float64(1628.894626777442)"
      ]
     },
     "execution_count": 27,
     "metadata": {},
     "output_type": "execute_result"
    }
   ],
   "source": [
    "initial_investment = 1_000\n",
    "int_rate = 0.05\n",
    "years_array = np.arange(1,11)\n",
    "\n",
    "balances = initial_investment * (1 + int_rate) ** years_array\n",
    "\n",
    "balances[-1]\n"
   ]
  },
  {
   "cell_type": "code",
   "execution_count": 21,
   "metadata": {},
   "outputs": [
    {
     "data": {
      "text/plain": [
       "1628.894626777442"
      ]
     },
     "execution_count": 21,
     "metadata": {},
     "output_type": "execute_result"
    }
   ],
   "source": [
    "initial_investment = 1_000\n",
    "int_rate = 0.05\n",
    "years = 10\n",
    "\n",
    "# years_array = np.arange(years + 1)\n",
    "\n",
    "balances = initial_investment * (1 + int_rate) ** years\n",
    "\n",
    "balances\n"
   ]
  },
  {
   "cell_type": "markdown",
   "metadata": {},
   "source": [
    "### Task 3\n",
    "How is much % its increase as compared to first year"
   ]
  },
  {
   "cell_type": "code",
   "execution_count": null,
   "metadata": {},
   "outputs": [
    {
     "data": {
      "text/plain": [
       "55.132821597851624"
      ]
     },
     "execution_count": 18,
     "metadata": {},
     "output_type": "execute_result"
    }
   ],
   "source": [
    "initial_investment = 1_000\n",
    "int_rate = 0.05\n",
    "years = 10\n",
    "\n",
    "# years_array = np.arange(years + 1)\n",
    "balances_one = initial_investment * (1 + int_rate) ** 1\n",
    "balances_ten = initial_investment * (1 + int_rate) ** years\n",
    "\n",
    "bal_diff = (balances_ten - balances_one)/balances_one\n",
    "\n",
    "bal_diff_percentage = bal_diff * 100\n",
    "\n",
    "bal_diff_percentage\n"
   ]
  },
  {
   "cell_type": "code",
   "execution_count": 29,
   "metadata": {},
   "outputs": [
    {
     "data": {
      "text/plain": [
       "np.float64(55.132821597851624)"
      ]
     },
     "execution_count": 29,
     "metadata": {},
     "output_type": "execute_result"
    }
   ],
   "source": [
    "initial_investment = 1_000\n",
    "int_rate = 0.05\n",
    "years_array = np.arange(1, 11)\n",
    "\n",
    "balances = initial_investment * (1 + int_rate) ** years_array\n",
    "\n",
    "balances_one = balances[0]\n",
    "balances_ten = balances[-1]\n",
    "\n",
    "bal_diff = (balances_ten - balances_one) / balances_one\n",
    "bal_diff_percentage = bal_diff * 100\n",
    "\n",
    "bal_diff_percentage\n"
   ]
  },
  {
   "cell_type": "code",
   "execution_count": null,
   "metadata": {},
   "outputs": [
    {
     "data": {
      "text/plain": [
       "np.float64(62.8894626777442)"
      ]
     },
     "execution_count": 35,
     "metadata": {},
     "output_type": "execute_result"
    }
   ],
   "source": [
    "initial_investment = 1_000\n",
    "int_rate = 0.05\n",
    "years_array = np.arange(1, 11)\n",
    "\n",
    "balances = initial_investment * (1 + int_rate) ** years_array\n",
    "\n",
    "bal_diff_percentage = ((balances[-1] - initial_investment) / initial_investment) * 100\n",
    "\n",
    "bal_diff_percentage"
   ]
  },
  {
   "cell_type": "markdown",
   "metadata": {},
   "source": [
    "## Useful methods\n",
    "- max, min - argmax, argmin"
   ]
  },
  {
   "cell_type": "code",
   "execution_count": 37,
   "metadata": {},
   "outputs": [
    {
     "name": "stdout",
     "output_type": "stream",
     "text": [
      "[1280 8177 7831 9754 1049 9875 6425 9349 7853 8039]\n"
     ]
    }
   ],
   "source": [
    "salaries = np.random.randint(1000, 10000,10)\n",
    "print (salaries)"
   ]
  },
  {
   "cell_type": "code",
   "execution_count": 38,
   "metadata": {},
   "outputs": [
    {
     "data": {
      "text/plain": [
       "np.int32(1049)"
      ]
     },
     "execution_count": 38,
     "metadata": {},
     "output_type": "execute_result"
    }
   ],
   "source": [
    "np.min(salaries)"
   ]
  },
  {
   "cell_type": "code",
   "execution_count": 39,
   "metadata": {},
   "outputs": [
    {
     "data": {
      "text/plain": [
       "np.int64(4)"
      ]
     },
     "execution_count": 39,
     "metadata": {},
     "output_type": "execute_result"
    }
   ],
   "source": [
    "np.argmin(salaries)"
   ]
  },
  {
   "cell_type": "code",
   "execution_count": 40,
   "metadata": {},
   "outputs": [
    {
     "data": {
      "text/plain": [
       "array([2, 3, 2, 1, 3, 3, 1, 3, 2, 2], dtype=int32)"
      ]
     },
     "execution_count": 40,
     "metadata": {},
     "output_type": "execute_result"
    }
   ],
   "source": [
    "nums = np.random.randint(1, 4, 10)\n",
    "\n",
    "nums\n"
   ]
  },
  {
   "cell_type": "code",
   "execution_count": null,
   "metadata": {},
   "outputs": [
    {
     "data": {
      "text/plain": [
       "array([1, 2, 3], dtype=int32)"
      ]
     },
     "execution_count": 46,
     "metadata": {},
     "output_type": "execute_result"
    }
   ],
   "source": [
    "nums = np.random.randint(1, 4, 10)\n",
    "\n",
    "unique_nums = np.unique_values(nums)\n"
   ]
  },
  {
   "cell_type": "markdown",
   "metadata": {},
   "source": [
    "## Task 1\n",
    " \n",
    "hourly_visitors = [468, 279,  73, 272 ,406 ,128 ,302 ,216, 140, 82]\n",
    " \n",
    "- 1.1 Total visitors in the day?\n",
    "- 1.2 Which is the peak hour?\n",
    "- 1.3 On average how many people visit per hour\n",
    " \n",
    "### Output\n",
    "```\n",
    "Total visitors in the day: 2366\n",
    "Peak hour: 1\n",
    "Average people visit: 237\n",
    "```\n",
    " "
   ]
  },
  {
   "cell_type": "code",
   "execution_count": null,
   "metadata": {},
   "outputs": [
    {
     "name": "stdout",
     "output_type": "stream",
     "text": [
      "\n",
      "    Total visitors in the day: 2366 \n",
      "    Peak hour: 1 \n",
      "    Average people visit: 237\n"
     ]
    }
   ],
   "source": [
    "hourly_visitors = [468, 279, 73, 272, 406, 128, 302, 216, 140, 82]\n",
    "\n",
    "total_visitors = np.sum(hourly_visitors)\n",
    "peak_hour = np.argmax(hourly_visitors)\n",
    "avg_people = round(np.mean(hourly_visitors))\n",
    "print(f\"\"\"\n",
    "    Total visitors in the day: {total_visitors}\n",
    "    Peak hour: {peak_hour +1}\n",
    "    Average people visit: {avg_people}\"\"\"\n",
    ")"
   ]
  },
  {
   "cell_type": "code",
   "execution_count": 49,
   "metadata": {},
   "outputs": [
    {
     "name": "stdout",
     "output_type": "stream",
     "text": [
      "Total visitors in the day: 2366\n"
     ]
    }
   ],
   "source": [
    "hourly_visitors = [468, 279, 73, 272, 406, 128, 302, 216, 140, 82]\n",
    "\n",
    "total_visitors = np.sum(hourly_visitors)\n",
    "print(\n",
    "    f\"Total visitors in the day: {total_visitors}\")"
   ]
  },
  {
   "cell_type": "code",
   "execution_count": 55,
   "metadata": {},
   "outputs": [
    {
     "name": "stdout",
     "output_type": "stream",
     "text": [
      "['HELLO' 'WORLD' 'NUMPY']\n",
      "['Hello' 'World' 'Numpy']\n"
     ]
    }
   ],
   "source": [
    "words = np.array([\"hello\", \"world\", \"numpy\"])\n",
    "\n",
    "print(np.char.upper(words))\n",
    "print(np.char.capitalize(words))"
   ]
  },
  {
   "cell_type": "markdown",
   "metadata": {},
   "source": [
    "## Task 2\n",
    "Normalize the Array:\n",
    " \n",
    "- 2.1 Trim leading and trailing spaces.\n",
    "- 2.2 Convert all items to lowercase.\n",
    "- 2.3 Ensure there are no duplicate items in the array.\n",
    "\n",
    "items = np.array([' Apple', 'banana ', 'GRAPE', 'cucumber', 'Pineapple', ' tomato ', 'Orange', ' lemon', 'Kiwi ', 'mango', 'blueberry ', ' raspberry'])\n",
    " \n",
    " "
   ]
  },
  {
   "cell_type": "code",
   "execution_count": 59,
   "metadata": {},
   "outputs": [
    {
     "name": "stdout",
     "output_type": "stream",
     "text": [
      "['apple' 'banana' 'blueberry' 'cucumber' 'grape' 'kiwi' 'lemon' 'mango'\n",
      " 'orange' 'pineapple' 'raspberry' 'tomato']\n"
     ]
    }
   ],
   "source": [
    "items = np.array([' Apple', 'banana ', 'GRAPE', 'cucumber', 'Pineapple', ' tomato ', 'Orange', ' lemon', 'Kiwi ', 'mango', 'blueberry ', ' raspberry'])\n",
    "\n",
    "clean_items = np.char.strip(items)\n",
    "clean_items = np.char.lower(clean_items)\n",
    "clean_items = np.unique(clean_items)\n",
    "\n",
    "print(clean_items)"
   ]
  }
 ],
 "metadata": {
  "kernelspec": {
   "display_name": ".venv",
   "language": "python",
   "name": "python3"
  },
  "language_info": {
   "codemirror_mode": {
    "name": "ipython",
    "version": 3
   },
   "file_extension": ".py",
   "mimetype": "text/x-python",
   "name": "python",
   "nbconvert_exporter": "python",
   "pygments_lexer": "ipython3",
   "version": "3.11.8"
  }
 },
 "nbformat": 4,
 "nbformat_minor": 2
}
