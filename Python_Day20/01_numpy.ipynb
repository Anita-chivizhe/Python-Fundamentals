{
 "cells": [
  {
   "cell_type": "code",
   "execution_count": 1,
   "metadata": {},
   "outputs": [],
   "source": [
    "import numpy as np"
   ]
  },
  {
   "cell_type": "code",
   "execution_count": 3,
   "metadata": {},
   "outputs": [
    {
     "name": "stdout",
     "output_type": "stream",
     "text": [
      "[95 77 42 91 41 78 49 46 67 50 85]\n",
      "65.54545454545455\n",
      "65.54545454545455\n"
     ]
    }
   ],
   "source": [
    "marks = np.random.randint(40, 100, 11)\n",
    "print(marks)\n",
    "print(marks.mean())\n",
    "print(np.mean(marks))"
   ]
  },
  {
   "cell_type": "markdown",
   "metadata": {},
   "source": [
    "### Task 1\n",
    "At the every year tell me balance for 10 years\n",
    "Clue: General formula\n",
    "1102.5 -> 1000 +\n",
    "[1050, 1102.5 ...., ]\n",
    " "
   ]
  },
  {
   "cell_type": "code",
   "execution_count": 33,
   "metadata": {},
   "outputs": [
    {
     "data": {
      "text/plain": [
       "array([1050.        , 1102.5       , 1157.625     , 1215.50625   ,\n",
       "       1276.2815625 , 1340.09564063, 1407.10042266, 1477.45544379,\n",
       "       1551.32821598, 1628.89462678])"
      ]
     },
     "execution_count": 33,
     "metadata": {},
     "output_type": "execute_result"
    }
   ],
   "source": [
    "initial_investment = 1_000\n",
    "int_rate = 0.05\n",
    "\n",
    "years_array = np.arange(1,11)\n",
    "\n",
    "balances = initial_investment*(1+int_rate) ** years_array\n",
    "\n",
    "balances"
   ]
  },
  {
   "cell_type": "markdown",
   "metadata": {},
   "source": [
    "### Task 2\n",
    "At the year of ten years what will be the balance"
   ]
  },
  {
   "cell_type": "code",
   "execution_count": null,
   "metadata": {},
   "outputs": [
    {
     "data": {
      "text/plain": [
       "np.float64(1628.894626777442)"
      ]
     },
     "execution_count": 27,
     "metadata": {},
     "output_type": "execute_result"
    }
   ],
   "source": [
    "initial_investment = 1_000\n",
    "int_rate = 0.05\n",
    "years_array = np.arange(1,11)\n",
    "\n",
    "balances = initial_investment * (1 + int_rate) ** years_array\n",
    "\n",
    "balances[-1]\n"
   ]
  },
  {
   "cell_type": "code",
   "execution_count": 21,
   "metadata": {},
   "outputs": [
    {
     "data": {
      "text/plain": [
       "1628.894626777442"
      ]
     },
     "execution_count": 21,
     "metadata": {},
     "output_type": "execute_result"
    }
   ],
   "source": [
    "initial_investment = 1_000\n",
    "int_rate = 0.05\n",
    "years = 10\n",
    "\n",
    "# years_array = np.arange(years + 1)\n",
    "\n",
    "balances = initial_investment * (1 + int_rate) ** years\n",
    "\n",
    "balances\n"
   ]
  },
  {
   "cell_type": "markdown",
   "metadata": {},
   "source": [
    "### Task 3\n",
    "How is much % its increase as compared to first year"
   ]
  },
  {
   "cell_type": "code",
   "execution_count": null,
   "metadata": {},
   "outputs": [
    {
     "data": {
      "text/plain": [
       "55.132821597851624"
      ]
     },
     "execution_count": 18,
     "metadata": {},
     "output_type": "execute_result"
    }
   ],
   "source": [
    "initial_investment = 1_000\n",
    "int_rate = 0.05\n",
    "years = 10\n",
    "\n",
    "# years_array = np.arange(years + 1)\n",
    "balances_one = initial_investment * (1 + int_rate) ** 1\n",
    "balances_ten = initial_investment * (1 + int_rate) ** years\n",
    "\n",
    "bal_diff = (balances_ten - balances_one)/balances_one\n",
    "\n",
    "bal_diff_percentage = bal_diff * 100\n",
    "\n",
    "bal_diff_percentage\n"
   ]
  },
  {
   "cell_type": "code",
   "execution_count": 29,
   "metadata": {},
   "outputs": [
    {
     "data": {
      "text/plain": [
       "np.float64(55.132821597851624)"
      ]
     },
     "execution_count": 29,
     "metadata": {},
     "output_type": "execute_result"
    }
   ],
   "source": [
    "initial_investment = 1_000\n",
    "int_rate = 0.05\n",
    "years_array = np.arange(1, 11)\n",
    "\n",
    "balances = initial_investment * (1 + int_rate) ** years_array\n",
    "\n",
    "balances_one = balances[0]\n",
    "balances_ten = balances[-1]\n",
    "\n",
    "bal_diff = (balances_ten - balances_one) / balances_one\n",
    "bal_diff_percentage = bal_diff * 100\n",
    "\n",
    "bal_diff_percentage\n"
   ]
  },
  {
   "cell_type": "code",
   "execution_count": null,
   "metadata": {},
   "outputs": [
    {
     "data": {
      "text/plain": [
       "np.float64(62.8894626777442)"
      ]
     },
     "execution_count": 35,
     "metadata": {},
     "output_type": "execute_result"
    }
   ],
   "source": [
    "initial_investment = 1_000\n",
    "int_rate = 0.05\n",
    "years_array = np.arange(1, 11)\n",
    "\n",
    "balances = initial_investment * (1 + int_rate) ** years_array\n",
    "\n",
    "bal_diff_percentage = ((balances[-1] - initial_investment) / initial_investment) * 100\n",
    "\n",
    "bal_diff_percentage"
   ]
  },
  {
   "cell_type": "markdown",
   "metadata": {},
   "source": [
    "## Useful methods\n",
    "- max, min - argmax, argmin"
   ]
  },
  {
   "cell_type": "code",
   "execution_count": 37,
   "metadata": {},
   "outputs": [
    {
     "name": "stdout",
     "output_type": "stream",
     "text": [
      "[1280 8177 7831 9754 1049 9875 6425 9349 7853 8039]\n"
     ]
    }
   ],
   "source": [
    "salaries = np.random.randint(1000, 10000,10)\n",
    "print (salaries)"
   ]
  },
  {
   "cell_type": "code",
   "execution_count": 38,
   "metadata": {},
   "outputs": [
    {
     "data": {
      "text/plain": [
       "np.int32(1049)"
      ]
     },
     "execution_count": 38,
     "metadata": {},
     "output_type": "execute_result"
    }
   ],
   "source": [
    "np.min(salaries)"
   ]
  },
  {
   "cell_type": "code",
   "execution_count": 39,
   "metadata": {},
   "outputs": [
    {
     "data": {
      "text/plain": [
       "np.int64(4)"
      ]
     },
     "execution_count": 39,
     "metadata": {},
     "output_type": "execute_result"
    }
   ],
   "source": [
    "np.argmin(salaries)"
   ]
  },
  {
   "cell_type": "code",
   "execution_count": 40,
   "metadata": {},
   "outputs": [
    {
     "data": {
      "text/plain": [
       "array([2, 3, 2, 1, 3, 3, 1, 3, 2, 2], dtype=int32)"
      ]
     },
     "execution_count": 40,
     "metadata": {},
     "output_type": "execute_result"
    }
   ],
   "source": [
    "nums = np.random.randint(1, 4, 10)\n",
    "\n",
    "nums\n"
   ]
  },
  {
   "cell_type": "code",
   "execution_count": 46,
   "metadata": {},
   "outputs": [
    {
     "data": {
      "text/plain": [
       "array([1, 2, 3], dtype=int32)"
      ]
     },
     "execution_count": 46,
     "metadata": {},
     "output_type": "execute_result"
    }
   ],
   "source": [
    "nums = np.random.randint(1, 4, 10)\n",
    "\n",
    "np.unique_values(nums)\n"
   ]
  }
 ],
 "metadata": {
  "kernelspec": {
   "display_name": ".venv",
   "language": "python",
   "name": "python3"
  },
  "language_info": {
   "codemirror_mode": {
    "name": "ipython",
    "version": 3
   },
   "file_extension": ".py",
   "mimetype": "text/x-python",
   "name": "python",
   "nbconvert_exporter": "python",
   "pygments_lexer": "ipython3",
   "version": "3.11.8"
  }
 },
 "nbformat": 4,
 "nbformat_minor": 2
}
